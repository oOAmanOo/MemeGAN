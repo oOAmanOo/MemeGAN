{
 "cells": [
  {
   "metadata": {
    "ExecuteTime": {
     "end_time": "2024-09-22T18:50:46.915254Z",
     "start_time": "2024-09-22T18:50:43.462145Z"
    }
   },
   "cell_type": "code",
   "source": [
    "import torch\n",
    "import torch.nn as nn\n",
    "import torch.optim as optim\n",
    "import pandas as pd\n",
    "import numpy as np\n",
    "from torch.nn.functional import embedding\n",
    "from torch.onnx.symbolic_opset9 import tensor\n",
    "from torch.utils.data import DataLoader\n",
    "from tqdm import tqdm\n",
    "from sklearn.model_selection import train_test_split\n",
    "\n",
    "from Citations.AttnGAN.eval.eval import generate\n",
    "from extractor import addImagePath, textExtraction, imageExtraction"
   ],
   "id": "7123375a60e24a10",
   "outputs": [],
   "execution_count": 2
  },
  {
   "metadata": {
    "ExecuteTime": {
     "end_time": "2024-09-22T18:28:21.534505Z",
     "start_time": "2024-09-22T18:28:21.425347Z"
    }
   },
   "cell_type": "code",
   "source": [
    "subUrlList = ['wendys','mcdonalds', 'mcdonalds_switzerland','mcdonaldscanada','sonicdrivein']\n",
    "max_length = 0\n",
    "for subUrl in subUrlList:\n",
    "    dirPath = '../Data/Instagram/Filter_' + subUrl + '.csv'\n",
    "    data = pd.read_csv(dirPath)\n",
    "    \n",
    "    for i in range(len(data['caption'])):\n",
    "        if len(str(data['caption'][i]).split()) > max_length:\n",
    "            max_length = len(str(data['caption'][i]).split())\n",
    "            word = data['caption'][i]\n",
    "max_length"
   ],
   "id": "32667357b99a51a3",
   "outputs": [
    {
     "data": {
      "text/plain": [
       "373"
      ]
     },
     "execution_count": 58,
     "metadata": {},
     "output_type": "execute_result"
    }
   ],
   "execution_count": 58
  },
  {
   "metadata": {
    "ExecuteTime": {
     "end_time": "2024-09-22T18:35:20.515002Z",
     "start_time": "2024-09-22T18:35:12.776660Z"
    }
   },
   "cell_type": "code",
   "source": [
    "max_length = 0\n",
    "word = ''\n",
    "dirPath = '../Data/Oxford_HIC/oxford_hic_data.csv'\n",
    "data = pd.read_csv(dirPath)\n",
    "max_length = 0\n",
    "index =0 \n",
    "counter  = 5\n",
    "# find the max word count of the text data['caption']\n",
    "for i in range(len(data['caption'])):\n",
    "    if len(str(data['caption'][i]).split()) > max_length:\n",
    "        max_length = len(str(data['caption'][i]).split())\n",
    "        word = data['caption'][i]\n",
    "        index = i       \n",
    "        #\n",
    "print(max_length, i)\n",
    "word"
   ],
   "id": "b3b8a1b3461c9aed",
   "outputs": [
    {
     "name": "stdout",
     "output_type": "stream",
     "text": [
      "9729 3657846\n"
     ]
    },
    {
     "data": {
      "text/plain": [
       "\"{Man} Once upon a time there was a lovely princess.\\n\\nBut she had an enchantment upon her of a fearful sort which could only \\n\\nbe broken by love's first kiss.\\n\\nShe was locked away in a castle guarded by a terrible fire-breathing \\n\\ndragon.\\n\\nMany brave knigts had attempted to free her from this dreadful prison, \\n\\nbut non prevailed.\\n\\nShe waited in the dragon's keep in the highest room of the tallest \\n\\ntower for her true love and true love's first kiss.\\n\\n{Laughing} \\n\\nLike that's ever gonna happen.\\n\\n{Paper Rusting, Toilet Flushes}\\n\\nWhat a load of - \\n\\n\\n\\nSomebody once told me the world is gonna roll me\\n\\nI ain't the sharpest tool in the shed\\n\\nShe was lookin' kind of dumb with her finger and her thumb\\n\\nIn the shape of an &quot;L&quot; on her forehead\\n\\nThe years start comin' and they don't stop comin'\\n\\nFed to the rules and hit the ground runnin'\\n\\nDidn't make sense not to live for fun\\n\\nYour brain gets smart but your head gets dumb\\n\\nSo much to do so much to see\\n\\nSo what's wrong with takin' the backstreets\\n\\nYou'll never know if you don't go\\n\\nYou'll never shine if you don't glow\\n\\nHey, now You're an all-star\\n\\nGet your game on, go play\\n\\nHey, now You're a rock star\\n\\nGet the show on, get paid\\n\\nAnd all that glitters is gold\\n\\nOnly shootin' stars break the mold\\n\\nIt's a cool place and they say it gets colder\\n\\nYou're bundled up now but wait till you get older\\n\\nBut the meteor men beg to differ\\n\\nJudging by the hole in the satellite picture\\n\\nThe ice we skate is gettin' pretty thin\\n\\nThe water's getting warm so you might as well swim\\n\\nMy world's on fire\\n\\nHow 'bout yours\\n\\nThat's the way I like it and I'll never get bored\\n\\nHey, now, you're an all-star\\n\\n{Shouting}\\n\\nGet your game on, go play\\n\\nHey, now You're a rock star\\n\\nGet the show on, get paid\\n\\nAnd all that glitters is gold\\n\\nOnly shootin' stars break the mold\\n\\n{Belches}\\n\\nGo!\\n\\nGo!\\n\\n{Record Scratching}\\n\\nGo. Go.Go.\\n\\nHey, now, you're an all-star\\n\\nGet your game on, go play\\n\\nHey, now You're a rock star\\n\\nGet the show on, get paid\\n\\nAnd all that glitters is gold\\n\\nOnly shootin' stars break the mold\\n\\n\\n\\n-Think it's in there?\\n\\n-All right. Let's get it!\\n\\n-Whoa. Hold on. Do you know what that thing can do to you?\\n\\n-Yeah, it'll grind your bones for it's bread.\\n\\n{Laughs}\\n\\n-Yes, well, actually, that would be a gaint.\\n\\nNow, ogres - - They're much worse.\\n\\nThey'll make a suit from your freshly peeled skin.\\n\\n-No!\\n\\n-They'll shave your liver. Squeeze the jelly from your eyes!\\n\\nActually, it's quite good on toast.\\n\\n-Back! Back, beast! Back! I warn ya!\\n\\n{Gasping}\\n\\n-Right.\\n\\n{Roaring}\\n\\n{Shouting}\\n\\n{Roaring}\\n\\n{Whispers} This is the part where you run away.\\n\\n{Gasping}\\n\\n{Laughs}\\n\\n{Laughing} And stay out!\\n\\n&quot;Wanted. Fairy tale creatures.&quot;\\n\\n{Sighs}\\n\\n{Man's voice} All right. This one's full.\\n\\n-Take it away!\\n\\n{Gasps}\\n\\n-Move it along. Come on! Get up!\\n\\n-Next!\\n\\n-Give me that! Your fiying days are over.\\n\\nThat's 20 pieces of silver for the witch. Next!\\n\\n-Get up! Come on!\\n\\n-Twenty pieces.\\n\\n{Thudding}\\n\\n-Sit down there!\\n\\n-Keep quiet!\\n\\n{Crying}\\n\\n-This cage is too small.\\n\\n-Please, don't turn me in. I'll never be stubborn again.\\n\\nI can change. Please! Give me another chance!\\n\\n-Oh, shut up.\\n\\n-Oh!\\n\\n-Next!\\n\\n-What have you got?\\n\\n-This little wooden puppet.\\n\\n-I'm not a puppet. I'm a real boy.\\n\\n-Five shillings for the possessed toy. Take it away.\\n\\n-Father, please! Don't let them do this!\\n\\n-Help me!\\n\\n-Next! What have you got?\\n\\n-Well, I've got a talking donkey.\\n\\n{Grunts}\\n\\n-Right. Well, that's good for ten shillings, if you can prove it.\\n\\n-Oh, go ahead, little fella.\\n\\n-Well?\\n\\n-Oh, oh, he's just - - He's just a little nervous.\\n\\nHe's really quite a chatterbox. Talk, you boneheaded dolt - -\\n\\n-That's it. I've heard enough. Guards!\\n\\n-No, no, he talks! He does. I can talk. I love to talk.\\n\\nI'm the talkingest damn thing you ever saw.\\n\\n-Get her out of my sight.\\n\\n-No, no! I swear! Oh! He can talk!\\n\\n{Gasps}\\n\\n-Hey! I can fly!\\n\\n-He can fly!\\n\\n-He can fly!\\n\\n-He can talk!\\n\\n-Ha, ha! That's right, fool! Now I'm a flying, talking donkey.\\n\\nYou might have seen a housefly, maybe even a superfly\\n\\nbut I bet you ain't never seen a donkey fly. Ha, ha!\\n\\nOh-oh.\\n\\n{Grunts}\\n\\n-Seize him!\\n\\n-After him! He's getting away!\\n\\n{Grunts, Gasps}\\n\\n{Man}\\n\\n-Get him! This way! Turn!\\n\\n-You there. Orge!\\n\\n-Aye?\\n\\n-By the order of Lord Farquaad I am authorized to place you both under \\n\\narrest\\n\\nand transport you to a designated..... resettlement facility.\\n\\n-Oh, really? You and what army?\\n\\n{Gasps, Whimpering}\\n\\n{Chuckles}\\n\\n-Can I say something to you?\\n\\n-Listen, you was really, really, really somethin' back here. \\n\\nIncredible!\\n\\nAre you talkin' to - - me? Whoa!\\n\\n-Yes. I was talkin' to you. Can I tell you that you that you was great \\n\\nback here? Those guards!\\n\\nThey thought they was all of that. Then you showed up, and bam! They \\n\\nwas trippin' over themselves like babes in the woods. That really made \\n\\nme feel good to see that.\\n\\n-Oh, that's great. Really.\\n\\n-Man, it's good to be free.\\n\\n-Now, why don't you go celebrate your freedom with your own friends? \\n\\nHmm?\\n\\n-But, uh, I don't have any friends. And I'm not goin' out there by \\n\\nmyself. Hey, wait a minute! I got a great idea! I'll stick with you. \\n\\nYou're mean, green, fightin' machine. Together we'll scare the spit \\n\\nout of anybody that crosses us.\\n\\n{Roaring}\\n\\n-Oh, wow! That was really scary. If you don't mind me sayin', if that \\n\\ndon't work, your breath certainly will get the job done, 'cause you \\n\\ndefinitely need some Tic Tacs or something, 'cause you breath stinks!\\n\\nYou almost burned the hair outta my nose, just like the time - - \\n\\n{Mumbling}\\n\\nThan I ate some rotten berries. I had strong gases eking out of my \\n\\nbutt that day.\\n\\n-Why are you following me?\\n\\n-I'll tell you why. \\n\\n\\n\\n'Cause I'm all alone\\n\\nThere's no one here beside me\\n\\nMy promlems have all gone\\n\\nThere's no one to deride me\\n\\nBut you gotta heve friends - - \\n\\n\\n\\n-Stop singing! It's no wonder you don't have any friends.\\n\\n-Wow. Only a true friend would be that cruelly honest.\\n\\n-Listen, little donkey. Take a look at me. What am I?\\n\\n-Uh - - Really tall?\\n\\n-No! I'm an orge! You know. &quot;Grab your torch and pitchforks.&quot; Doesn't \\n\\nthat bother you?\\n\\n-Nope.\\n\\n-Really?\\n\\n-Really, really.\\n\\n-Oh.\\n\\n-Man, I like you. What's you name?\\n\\n-Uh, Shrek.\\n\\n-Shrek? Well, you know what I like about you, Shrek?\\n\\nYou got that kind of I-don't-care-what-nobody-thinks-of-me thing.\\n\\nI like that. I respect that, Shrek. You all right. Whoo! Look at that. \\n\\nWho'd want to live in place like that?\\n\\n-That would be my home.\\n\\n-Oh! And it is lovely! Just beautiful. You know you are quite a \\n\\ndecorator. It's amazing what you've done with such a modest budget. I \\n\\nlike that boulder. That is a nice boulder.\\n\\n-I guess you don't entertain much, do you?\\n\\n-I like my privacy.\\n\\n-You know, I do too. That's another thing we have in common. Like I \\n\\nhate it when you got somebody in your face. You've trying to give them \\n\\na hint, and they won't leave. There's that awkward silence.\\n\\n-Can I stay with you?\\n\\n-Uh, what?\\n\\n-Can I stay with you, please?\\n\\n-Of course!\\n\\n-Really?\\n\\n-No.\\n\\n-Please! I don't wanna go back there! You don't know what it's like to \\n\\nbe considered a freak. Well, maybe you do. But that's why we gotta \\n\\nstick together. You gotta let me stay! Please! Please!\\n\\n-Okay! Okay! But one night only.\\n\\n-Ah! Thank you!\\n\\n-What are you - - No! No!\\n\\n-This is gonna be fun! We can stay up late, swappin' manly stories, \\n\\nand in the mornin' I'm makin' waffles.\\n\\n-Oh!\\n\\n-Where do, uh, I sleep?\\n\\n-Outside!\\n\\n-Oh, well. I guess that's cool. I mean, I don't know you, and you \\n\\ndon't know me, so I guess outside is best, you know.\\n\\n{Sniffles}\\n\\n-Here I go.\\n\\n-Good night.\\n\\n{Sighs}\\n\\n-I mean, I do like the outdoors. I'm a donkey. I was born outside. \\n\\nI'll just be sitting by myself outside, I guess, you know. By myself, \\n\\noutside.\\n\\n\\n\\nI'm all alone\\n\\nThere's no one here beside me\\n\\n{Bubbling}\\n\\n{Sighs}\\n\\n{Creaking}\\n\\n{Sighs}\\n\\n-I thought I told you to stay outside.\\n\\n-I'm outside.\\n\\n{Clattering}\\n\\n-Well, gents, it's a far cry from the farm, but what choice do we \\n\\nhave? \\n\\n-It's not home, but it'll do just fune.\\n\\n-What a lovely bed.\\n\\n-Got ya.\\n\\n{Sniffs} I found some cheese.\\n\\n-Ow! {Grunts}\\n\\n-Blah! Awful stuff.\\n\\n-Is that you, Gorder?\\n\\n-How did you know?\\n\\n-Enough! What are you doing in my house?\\n\\n{Grunts}\\n\\n-Hey!\\n\\n{Snickers}\\n\\n-Oh, no, no, no. Dead broad off the table.\\n\\n-Where are we supposed to put her? The bed's taken.\\n\\n-Huh?\\n\\n{Gusps}\\n\\n{Male voice} What?\\n\\n-I live in a swamp. I put up signs. I'm a terrifying orge! What do I \\n\\nhave to do get a little privacy?\\n\\n-Aah!\\n\\n-Oh, no. No! No!\\n\\n{Cackling}\\n\\n-What?\\n\\n-Quit it.\\n\\n-Don't push.\\n\\n{Squeaking}\\n\\n{Lows}\\n\\n- What are you doing in my swamp?\\n\\n{Echoing}\\n\\nSwamp! Swamp! Swamp!\\n\\n{Gasping}\\n\\n-Oh, dear!\\n\\n-Whoa!\\n\\n-All right, get out of here. All of you, move it! Come on! Let's go! \\n\\nHapaya! Hapaya! Hey!\\n\\n-Quickly. Come on!\\n\\n-No, no! No, no. Not there. Not there.\\n\\n-Oh!\\n\\n{Sighs}\\n\\n-Hey, don't look at me. I didn't invite them.\\n\\n-Oh, gosh, no one invited us.\\n\\n-What?\\n\\n-We were forced to come here.\\n\\n-By who?\\n\\n-Lord Farquaad.\\n\\n-He huffed und he puffed und he...... signed an eviction notice.\\n\\n{Sighs}\\n\\n-All right. Who knows where this Farquaad guy is?\\n\\n{Murmuring}\\n\\n-Oh, I do. I know where he is.\\n\\n-Does anyone else know where to find him? Anyone at all?\\n\\n-Me! Me!\\n\\n-Anyone?\\n\\n-Oh! Oh, pick me! Oh, I know! I know! Me, me!\\n\\n{Sighs}\\n\\n-Okay, fine. Attention, all fairy tale things. Do not get comfortable. \\n\\nYour welcome is officially worn out. In fact, I'm gonna see this guy \\n\\nFarquaad right now and get you all off my land and back where you came \\n\\nfrom!\\n\\n{Cheering}\\n\\n{Twittering}\\n\\n-Oh! You! You're comin' with me.\\n\\n- All right, that's what I like to hear, man. Shrek and Donkey, two \\n\\nstalwart friends, off on a whirlwind big-city adventure. I love it!\\n\\n-On the road again. Sing it with me, Shrek.\\n\\n-Hey. Oh, oh!\\n\\n-I can't wait to get on the road again.\\n\\n-What did I say about singing?\\n\\n-Can I whistle?\\n\\n-No.\\n\\n-Can I hum it?\\n\\n-All right, hum it.\\n\\n{Humming}\\n\\n\\n\\n{Grunts}\\n\\n{Whimpering}\\n\\n-That's enough. He's ready to talk.\\n\\n{Coughing}\\n\\n{Laughing}\\n\\n{Clears throat}\\n\\n-Run, run, run, as fust as you can. You can't catch me. I'm the \\n\\ngingerbread man!\\n\\n-You are a monster.\\n\\n-I'm not the monster here. You are. You and the rest of that fairy \\n\\ntale trash, poisoning my perfect world. Now, tell me! Where are the \\n\\nothers?\\n\\n-Eat me!{Grunts}\\n\\n-I've tried to be fair to you creatures. Now my patience has reached \\n\\nits end! Tell me or I'll - -\\n\\n-No, no, not the buttons. Not my gumdrop buttons.\\n\\n-All right then. Who's hiding them?\\n\\n-Okay, I'll tell you. Do you know the muffin man?\\n\\n-The muffin man?\\n\\n-The muffin man.\\n\\n-Yes, I know the muffin man, who lives on Drury Lane?\\n\\n-Well, she's married to the muffin man.\\n\\n-The muffin man?\\n\\n-The muffin man!\\n\\n-She's married to the muffin man.\\n\\n{Door opens}\\n\\n-My lord! We found it.\\n\\n-Then what are you waiting for? Bring it in.\\n\\n{Man grunting}\\n\\n{Gasping}\\n\\n-Oh!\\n\\n-Magic mirror - - \\n\\n-Don't tell him anything!\\n\\n-No!\\n\\n{Ginerbread man whispers}\\n\\n-Evening. Mirror, mirror on the wall. Is this not the most perfect \\n\\nkingdom of them all?\\n\\n-Well, technically you're not a king.\\n\\n-Uh, Thelonius.\\n\\n-You were saying?\\n\\n-What I mean is, you're not a king yet. But you can become one.  All \\n\\nyou have to do is marry a princess.\\n\\n-Go on.\\n\\n{Chuckles}\\n\\n-So, just sit back and relax, my lord, because it's time for you to \\n\\nmeet today's eligible bachelorettes. And here they are! Bachelorette \\n\\nnumber one is a mentally abused shut-in from a kingdom far, far away. \\n\\nShe likes sushi and hot tubbing anytime. Her hobbies include cooking \\n\\nand cleaning for her two evil sisters. Please welcome Cinderella.\\n\\n-Bachelorette number two is a cape-wearing girl from the land of \\n\\nfancy. Although she lives with seven other men, she's not easy. Just \\n\\nkiss her dead, frozen lips and find out what a live wire she is. Come \\n\\non. Give it up for Snow White!\\n\\n-And last, but certainly not last, bachelorette number three is a \\n\\nfiery redhead from a dragon-guarded castle surrounded by hot boiling \\n\\nlava! But don't let that cool you off. She's a loaded pistol who likes \\n\\npina colads and getting caught in the rain. Yours for the rescuing, \\n\\nPrincess Fiona!\\n\\n-So will it be bachelorette number one, bachelorette number two or \\n\\nbachelorette number three?\\n\\n-Two! Two!\\n\\n-Three! Three!\\n\\n-Two! Two!\\n\\n-Three! \\n\\n-Three? One?\\n\\n{Shudders} Three?\\n\\n--Three! Pick number three, my lord!\\n\\n-Okay, okay, uh, number three!\\n\\n-Lord Farquaad, you've chosen Princess Fiona.\\n\\n\\n\\nIf you like pina coladas\\n\\nAnd getting caught in the rain\\n\\n\\n\\n-Princess Fiona.\\n\\n\\n\\nIf you're not into yoga\\n\\n\\n\\n-She's perfect. All I have to do is just find someone who can go - - \\n\\n-But I probably should mention the little thing that happens at night.\\n\\n-I'll do it.\\n\\n-Yes, but after sunset - -\\n\\n-Silence! I will make this Princess Fiona my queen, and DuLoc will \\n\\nfinally have the perfect king!\\n\\nCaptain, assemble your finest men. We're going to have a tournament.\\n\\n\\n\\n-But that's it. That's it right there. That's DuLoc. I told ya I'd \\n\\nfind it.\\n\\n-So, that must be Lord Farquaad's castle.\\n\\n-Uh-huh. That's the place.\\n\\n-Do you think maybe he's compensating for something?\\n\\n{Laughs}\\n\\n{Groans}\\n\\n-Hey, wait. Wait up, Shrek.\\n\\n-Hurry, darling. We're late. Hurry.\\n\\n-Hey, you!\\n\\n{Screams}\\n\\n-Wait a second. Look, I'm not gonna eat you. I just - - I just - -\\n\\n{Whimpering}\\n\\n{Sighs}\\n\\n{Whimpering, Groans}\\n\\n{Turnstile clatters}\\n\\n{Chuckles}\\n\\n{Sighs}\\n\\n-It's quiet. Too quiet.\\n\\n{Creaking}\\n\\n-Where is everybody?\\n\\n-Hey, look at this!\\n\\n{Clattering, whirring, clicking}\\n\\nWelcome to DuLoc such a perfect town\\n\\nHere we have some rules\\n\\nLet us lay them down\\n\\nDon't make waves, stay in line\\n\\nAnd we'll get along fine\\n\\nDuLoc is perfect place\\n\\nPlease keep off of the grass\\n\\nShine your shoes, wipe your... face\\n\\nDuLoc is, DuLoc is\\n\\nDuLoc is perfect ...... place\\n\\n{Camera shutter clicks\\n\\n{Whirring}\\n\\n-Wow! Let's do that again!\\n\\n-No. No. No, no, no! No.\\n\\n{Trumpet fanfare}\\n\\n{Crowd cheering}\\n\\n-Brave knights.\\n\\n-You are the best and brightest in all the land.\\n\\n-Today one of you shall prove himself - -\\n\\n-All right. You're going the right way for a smacked bottom.\\n\\n-Sorry about that.\\n\\n{Cheering}\\n\\n-That champion shall have the honor - - no, no - - the privilege to go \\n\\nforth and rescue the lovely Princess Fiona from the fiery keep of the \\n\\ndragon. If for any reason the winner is unsuccessful, the first \\n\\nrunner-up will take his place and so on and so forth. Some of you mae \\n\\ndie, but it's a sacrifice I am willing to make.\\n\\n{Cheering}\\n\\n-Let the tournament begin!\\n\\n{Gasps}\\n\\n-Oh!\\n\\n-What is that?\\n\\n{Gasping}\\n\\n-It's hideous!\\n\\n-Ah, that's not very nice. It's just a donkey.\\n\\n-Indeed. Knights, new plan! The one who kills the orge will be named \\n\\nchampion! Have it him!\\n\\n-Get him!\\n\\n-Oh, hey! Now come on! Hang on now.\\n\\n-Go ahead! Get him!\\n\\n-Can't we just settle this over a pint?\\n\\n-Kill the beast!\\n\\n-No? All right then. Come on!\\n\\n\\n\\nI don't give a damn about my reputation\\n\\nYou're living in the past \\n\\nIt's a new generation\\n\\n\\n\\n-Damn!\\n\\n{Whinnying}\\n\\n\\n\\nA girl can do what she wants to do\\n\\nAnd that's what I'm gonna do\\n\\nAnd I don't give a damn about my bad reputation\\n\\nOh, no, no, no, no, no. Not me\\n\\nMe, me, me\\n\\n\\n\\n-Hey, Shrek, tag me! Tag me!\\n\\n\\n\\nAnd I don't give a damn about my bad reputation\\n\\nNever said I wanted to improve my station\\n\\n\\n\\n-Ah!\\n\\n{Laughs}\\n\\n\\n\\nAnd I'm always feelin' good when I'm having fun\\n\\n\\n\\n-Yeah!\\n\\n\\n\\nAnd I don't have to please no one\\n\\n\\n\\n-The chair! Give him the chair!\\n\\n\\n\\nAnd I don't give a damn about my bad reputation\\n\\nOh, no, no, no, no, no. Not me\\n\\nMe, me, me\\n\\nOh, no, no, no, no, no. Not me, not me\\n\\n{Bell dings}\\n\\n{Cheering}\\n\\n{Laughs}\\n\\n-Oh, yeah! Ah! Ah! Thank you! Thank you very much! I'm here till \\n\\nThursday. Try the veal! Ha, ha!\\n\\n{Shrek laughs}\\n\\n{Crowd gasping, murmuring}\\n\\n-Shall I give the order, sir?\\n\\n-No, I have a better idea. People of DuLoc, I give you our champion!\\n\\n-What?\\n\\n-Congratulations, orge. You're won the honor of embarking on a great \\n\\nand noble quest.\\n\\n-Quest? I'm already in a quest, a quest to get my swamp back.\\n\\n-Your swamp?\\n\\n-Yeah, my swamp! Where you dumped those tale creatures!\\n\\n{Crowd murmuring}\\n\\n-Indeed. All right, orge. I'll make you a deal. Go on this quest for \\n\\nme, and I'll give you your swamp back.\\n\\n-Exactly the way it was?\\n\\n-Down to the last slime-covered toadstool.\\n\\n-And the squatters?\\n\\n-As good as gone.\\n\\n-What kind of quest?\\n\\n-Let me get this straight. You're gonna go fight a dragon and rescue a \\n\\nprincess just so Farquaad will give you back a swamp which you only \\n\\ndon't have because he filled it full of freaks in the first place.\\n\\n-Is that about right?\\n\\n-Maybe there's a good reason donkeys shouldn't talk.\\n\\n-I don't get it. Why don't you just pull some of that orge stuff on \\n\\nhim? Throttle him, lay siege to his fortress, grinds his bones to make \\n\\nyour bread, the whole orge trip.\\n\\n-Oh, I know what. Maybe I could have decapitated an entire village and \\n\\nput their heads on a pike, gotten a knife, cut open their spleen and \\n\\ndrink their fluids. Does that sound good to you?\\n\\n-Uh, no, not really, no.\\n\\n-For your information, there's a lot more to orges than people think.\\n\\n-Example?\\n\\n-Example? Okay, um, orges are like onions.\\n\\n-{Sniffs} They stink?\\n\\n-Yes - - No!\\n\\n-They make you cry?\\n\\n-No!\\n\\n-You leave them in the sun, they get all brown, start sproutin' little \\n\\nwhite hairs.\\n\\n-No! Layers! Onions have layers. Orges have layers! Onions have \\n\\nlayers. You get it? We both have layers. \\n\\n{Sighs}\\n\\n-Oh, you both have layers. Oh. {Sniffs} You know, not everybody likes \\n\\nonions. Cake! Everybody loves cakes! Cakes have layers.\\n\\n-I don't care... what everyone likes. Orges are not like cakes.\\n\\n-You know what else everybody likes? Parfaits. Have you ever met a \\n\\nperson, you say, &quot;Let's get some parfait,&quot; they say, &quot;No, I don't like \\n\\nno parfait&quot;? Parfaits are delicious.\\n\\n-No! You dense, irritating, miniature beast of burden! Orges are like \\n\\nonions! And of story. Bye-bye. See ya later.\\n\\n-Parfaits may be the most delicious thing on the whole damn planet.\\n\\n-You know, I think I preferred your humming. Do you have a tissure or \\n\\nsomething? I'm making a mess. Just the word parfait make me start \\n\\nslobbering.\\n\\n\\n\\nI'm on my way from misery to happiness today\\n\\nUh-huh,uh-huh, uh-huh, uh-huh\\n\\nI'm on my way from misery to happiness today\\n\\nUh-huh,uh-huh, uh-huh, uh-huh\\n\\nAnd everything that you receive up yonder\\n\\nIs what you give to me the day I wander\\n\\nI'm on my way \\n\\nI'm on my way \\n\\nI'm on my way \\n\\n\\n\\n-Ohh! Shrek! Did you do that?\\n\\n-You gotta warn somebody before you just crack one off. My mouth was \\n\\nopen. Believe me, Donkey, if it was me, you'd be dead. {Sniffs} It's \\n\\nbrimstone We must be getting close.\\n\\n-Yeah, right, brimstone. Don't be talking about it's the brimstone. I \\n\\nknow what I smell. It wasn't no brimstone. It didn't come off no stone \\n\\nneither.\\n\\n{Rumbling}\\n\\n-Sure, it's big enough, but look at the location.\\n\\n{Laughing}\\n\\n-Uh, Shrek? Uh, remember when you said orges have layers?\\n\\n-Oh, aye.\\n\\n-Well, I have a bit of a confession to make. Donkeys don't have \\n\\nlayers. We wear our fear right out there on our sleeves.\\n\\n-Wait a second.  Donkeys don't have sleeves.\\n\\n-You know what I mean.\\n\\n-You can't tell me you're afraid of heights.\\n\\n-I'm just a little uncomfortable about being on a rickety bridge over \\n\\na boiling like of lava!\\n\\n-Come on, Donkey. I'm right here beside ya, okay? For emotional \\n\\nsupport., we'll just tackle this thing together one little baby step \\n\\nat a time.\\n\\n-Really?\\n\\n-Really, really.\\n\\n-Okay, that makes me feel so much better.\\n\\n-Just keep moving. And don't look  down.\\n\\n-Okay, don't look  down. Don't look  down. Don't look  down. Keep on \\n\\nmoving. Don't look  down.\\n\\n{Gasps}\\n\\n-Shrek! I'm lookin' down! Oh, God, I can't do this! Just let me off, \\n\\nplease! \\n\\n-But you're already halfway.\\n\\n-But I know that half is safe!\\n\\n-Okay, fine. I don't have time for this. You go back.\\n\\n-Shrek, no! Wait!\\n\\n-Just, Donkey - - Let's have a dance then, shall me?\\n\\n-Don't do that!\\n\\n-Oh, I'm sorry. Do what?\\n\\n-Oh, this?\\n\\n-Yes, that!\\n\\n-Yes? Yes, do it. Okay.\\n\\n{Screams}\\n\\n-No, Shrek! No! Stop it!\\n\\n-You said do it! I'm doin' it.\\n\\n-I'm gonna die. I'm gonna die. Shrek, I'm gonna die. Oh!\\n\\n-That'll do, Donkey. That'll do.\\n\\n-Cool.\\n\\n-So where is this fire-breathing pain-in-the-neck anyway?\\n\\n-Inside, waiting for us to rescue her.\\n\\n{Chuckles}\\n\\n-I was talkin' about the dragon, Shrek.\\n\\n{Water dripping, wind howling}\\n\\n-You afraid?\\n\\n-No.\\n\\n-But - -\\n\\n- Shh.\\n\\n-Oh, good. Me neither.\\n\\n{Gasps}\\n\\n-'Cause there's nothin' wrong with bein' afraid. Fear's a sensible \\n\\nresponse to an unfamiliar situation. Unfamiliar dangerous situation, I \\n\\nmight add. With a dragon that breathes fire and eats knights and \\n\\nbreathes fire, it sure doesn't mean you're a coward if you're a little \\n\\nscared. I sure as heck ain't no coward. I know that.\\n\\n{Gasps}\\n\\n-Donkey, two things, okay? Shut ... up. Now go over there and see if \\n\\nyou can find any stairs.\\n\\n-Stairs? I thought we was lookin' for the princess.\\n\\n-The princess will be up the stairs in the highest room in the tallest \\n\\ntower.\\n\\n-What makes you think she'll be there?\\n\\n-I read it in a book once.\\n\\n-Cool. You handle the dragon. I'll handle the stairs. I'll find those \\n\\nstairs. I'll whip their butt too. Those stairs won't know which way \\n\\nthey're goin'.\\n\\n{Creacing}\\n\\n-I'm gonna take drastic steps. Kick it to the curb. Don't mess with \\n\\nme. I'm the stair master. I've mastered the stairs. I wish I had a \\n\\nstep right here. I'd step all over it.\\n\\n-Well, at least we know where the princess is, but where's the - - \\n\\n-Dragon!\\n\\n{Screams}\\n\\n{Gasps}\\n\\n{Roars}\\n\\n-Donkey, look out!\\n\\n{Screams}\\n\\n{Whimpering}\\n\\n-Got ya!\\n\\n{Roars}\\n\\n{Gasps}\\n\\n{Shouts}\\n\\n-Whoa! Whoa! Whoa!\\n\\n{Screaming}\\n\\n{Gasps}\\n\\n-Oh! Aah! Aah!\\n\\n{Gasping}\\n\\n{Crowls}\\n\\n-No. Oh, no, No!\\n\\n{Screams}\\n\\n-Oh, what large teeth you have.\\n\\n{Crowls}\\n\\n-I mean white, sparkling teeth. I know you probably hear this all time \\n\\nfrom your food, but you must bleach, 'cause that is one dazzling smile \\n\\nyou got  there. Do I detect a hint of minty freshness? And you know \\n\\nwhat else? You're - - You're a girl dragon! Oh, sure! I mean, of \\n\\ncourse you're a girl dragon. You're just reeking of feminine beauty. \\n\\nWhat's the matter with you? You got something in your eye? Ohh. Oh. \\n\\nOh. Man, I'd really love to stay, but you know, I'm, uh - - \\n\\n(Coughs)\\n\\n-I'm an asthmatic, and I don't know if it'd work out if you're gonna \\n\\nblow smoke rings. Shrek!\\n\\n{Gasps}\\n\\n{Whimpering}\\n\\n-No! Shrek! Shrek! Shrek!\\n\\n{Groans, Sighs}\\n\\n{Vocalizing}\\n\\n-Oh! Oh!\\n\\n-Wake up!\\n\\n-What?\\n\\n-Are you Princess Fiona?\\n\\n-I am, awaiting a knight so bold as to rescue me.\\n\\n-Oh, that's nice. Now let's go!\\n\\n-But wait, Sir Knight. This be-ith our first meeting. Should it not be \\n\\na wonderful, romantic moment?\\n\\n-Yeah, sorry, lady. There's no time.\\n\\n-Hey, wait. What are you doing? You should sweep me off my feet out \\n\\nyonder window and down a rope onto your valiant steed.\\n\\n-You've had a lot of time to plan this, haven't you?\\n\\n-Mm-hmm.\\n\\n{Screams, grunts}\\n\\n-But we have to savor this moment! You could recite an epic poem for \\n\\nme. A ballad? A sonnet! A limerick? Or something!\\n\\n-I don't think so.\\n\\n-Can I at least know the name of my champion?\\n\\n-Um, Shrek.\\n\\n-Sir Shrek.\\n\\n{Cleans throat}\\n\\n-I pray that you take this favor as a token of my gratitude.\\n\\n-Thanks!\\n\\n{Roaring}\\n\\n-You didn't slay the dragon?\\n\\n-It's on my to-do list. Now come on!\\n\\n{Screams}\\n\\n-But this isn't right! You were meant to charge in, sword drawn, \\n\\nbanner flying. That's what all the other knights did.\\n\\n-Yeah, right before they burst into flame.\\n\\n-That's not the point. Oh!\\n\\n-Wait. Where are you going? The next's over there.\\n\\n-Well, I have to save my ass.\\n\\n-What kind of knight are you?\\n\\n-One of a kind.\\n\\n-Slow down. Slow down, baby, please. I believe it's healthy to get to \\n\\nknow someone over a long perriod of time. Just call me old-fashioned. \\n\\n{Laughs}\\n\\n-I don't want to rush into a physical relationship. I'm not \\n\\nemotionally ready for a commitment of, uh, this - -  Magnitude really \\n\\nis the word I'm looking for. Magnitude- - Hey, that is unwanted \\n\\nphysical contact. Hey, what are you doing? Okay, okay. Let's just back \\n\\nup a little and take this one step at a time. We really should get to \\n\\nknow each other first as friends or pen pals. I'm on the road a lot, \\n\\nbut I just love receiving cards - -  I'd really love to stay, but - - \\n\\nDon't do that! That's my tail! That's my personal tail. You're gonna \\n\\ntear it off. I don't give permission - - What are you gonna do with \\n\\nthat? Hey, now. No way. No! No! No, no! No. No, no, no. No! Oh!\\n\\n{Growls}\\n\\n{Roaring}\\n\\n{Gasps}\\n\\n-Hi, Princess!\\n\\n-It talks!\\n\\n-Yeah, it's getting him to shut up that's the trick.\\n\\n{Screams}\\n\\n{Screaming}\\n\\n-Oh!\\n\\n{Thuds}\\n\\n{Groans}\\n\\n{Roars}\\n\\n{Roaring}\\n\\n-Okay, you two, heard for the exit! I'll take care of the dragon.\\n\\n{Fchoing}\\n\\n-Run!\\n\\n{Gasping}\\n\\n{Screaming}\\n\\n{Roaring}\\n\\n{Screams}\\n\\n{Roars}\\n\\n{Panting, sighs}\\n\\n{Whimpers}\\n\\n{Roars}\\n\\n-You did it!\\n\\n-You rescued me! You're amazing. You're - - You're wonderful. \\n\\nYou're... a little unorthodox I'll admit. But they deed is great, and \\n\\nthine heart is pure. I am eternally in your debt. \\n\\n{Clears throat}\\n\\n-And where would a brave knight be without his noble steed?\\n\\n-I hope you heard that. She called me a noble steed. She think I'm a \\n\\nsteed.\\n\\n-The battle is won. You may remove your helmet, good Sir Knight.\\n\\n-Uh, no.\\n\\n-Why not?\\n\\n-I have helmet hair.\\n\\n-Please. I would'st look upon the face of my rescuer.\\n\\n-No, no, you wouldn't - - 'st.\\n\\n-But how will you kiss me?\\n\\n-What? That wasn't in the job description.\\n\\n-Maybe it's a perk.\\n\\n-No, it's destiny. Oh, you must know how it goes. A princess locked in \\n\\na tower and beset by a dragon is rescued by a brave knight, and then \\n\\nthey share true love's first kiss.\\n\\n-Hmm? With Shrek? You think- - Wait. Wait. You think that Shrek is you \\n\\ntrue love?\\n\\n-Well, yes.\\n\\n{Laughing}\\n\\n-You think Shrek is your true love!\\n\\n-What is so funny?\\n\\n-Let's just say I'm not your tipe, okay?\\n\\n-Of course, you are. You're my rescuer. Now - - Now remove your \\n\\nhelmet.\\n\\n-Look. I really don't think this is a good idea.\\n\\n-Just take off the helmet.\\n\\n-I'm not going to.\\n\\n-Take ot off.\\n\\n-No!\\n\\n-Now!\\n\\n-Okay! Easy. As you command. Your Highness.\\n\\n-You- - You're a- - an orge.\\n\\n-Oh, you were expecting Prince Charming.\\n\\n-Well, yes, actually. Oh, no. This is all wrong. You're not supposed \\n\\nto be an orge.\\n\\n{Sighs}\\n\\n-Princess, I was sent to rescue you by Lord Farquaad, okay? He is the \\n\\none who wants to marry you.\\n\\n-Then why didn't he come rescue me?\\n\\n-Good question. You should ask him that when we get there.\\n\\n-But I have to be rescued by my true love, not by some prge and his- - \\n\\nhis pet.\\n\\n-So much for noble steed.\\n\\n-You're not making my job any easier.\\n\\n-I'm sorry, but your job is not my problem. You can tell Lord Farquaad \\n\\nthat if he wants to rescue me properly, I'll be waiting for him right \\n\\nhere.\\n\\n-Hey! I'm no one's messenger boy, all right? I'm a delivery boy.\\n\\n-You wouldn't dare. Put me down!\\n\\n-Ya comin', Donkey?\\n\\n-I'm right behind ya.\\n\\n-Put me down, or you will suffer the consequences! This is not \\n\\ndignified! Put me down!\\n\\n-Okay, so here's another question. Say there's a woman that digs you, \\n\\nright, but you don't really like her that way. How do you let her down \\n\\nreal easy so her feelings aren't hurt, but you don't get burned to a \\n\\ncrisp and eaten?\\n\\n-You just tell her she's not your true love. Everyone knowest what \\n\\nhappens when you find your - -  Hey!\\n\\n{Sighs}\\n\\n-The sooner we get to DuLoc the better.\\n\\n-You're gonna love it there, Princess. It's beautiful!\\n\\n-And what of my groom-to-be? Lord Farquaad? What's he like?\\n\\n-Let me put it this way, Princess. Men of Farquaad's stature are in \\n\\nshort supply.\\n\\n{Laughs}\\n\\n-I don't know. There are those who think little of him.\\n\\n-Stop it. Stop it, both of you. You're just jealous you can never \\n\\nmeasure up to a great ruler like Lord Farquaad.\\n\\n-Yeah, well, maybe you're right, Princess. But I'll let you do the \\n\\n&quot;measuring&quot; when you see him tomorrow.\\n\\n-Tomorrow? It'll take that long? Shouldn't we stop to make camp?\\n\\n-No, that'll take longer. We can keep going.\\n\\n-But there's robbers in the woods.\\n\\n-Whoa! Time out, Shrek! Camping's starting to sound good.\\n\\n-Hey, come on. I'm scarier than anything we're going to see in this \\n\\nforest.\\n\\n-I need to find somewhere to camp now!\\n\\n{Birds wings fluttering}\\n\\n{Grunting}\\n\\n-Hey! Over here.\\n\\n-Shrek, we can do better than that. I don't think this is fit for a \\n\\nprincess.\\n\\n-No, no, it's perfect. It just needs a few homey touches.\\n\\n-Homey touches? Like what?\\n\\n{Crashing}\\n\\n-A door? Well, gentlemen, I bid thee good night.\\n\\n-You want me to read you a bedtime story? I will.\\n\\n-I said good night!\\n\\n-Shrek, What are you doing?\\n\\n{Laughs}\\n\\n-I just- - You know - - Oh, come on. I was just kidding.\\n\\n{Fire cracking}\\n\\n-And, uh, that one, that's Throwback, the only orge to ever spit over \\n\\nthree wheat fields. Right. Yeah.\\n\\n-Hey, can you tell my future from these stars?\\n\\n-The stars don't tell the future, Donkey. They tell stories. Look, \\n\\nthere's Bloodnut, the Flatulent. You can guess what he's famous for.\\n\\n-I know you're making this up.\\n\\n-No, look. There he is,  and there's the group of hunters running away \\n\\nfrom his stench.\\n\\n-That ain't nothin' but a bunch of little dots.\\n\\n-You know, Donkey, sometimes things are more than they appear. Hmm? \\n\\nForget it.\\n\\n{Sighs}\\n\\n-Hey, Shrek, what we gonna do when we get our swamp anyway?\\n\\n-Our swamp?\\n\\n-You know, when we're through rescuing the princess.\\n\\n-We? Donkey, there's no &quot;we&quot;. There's no &quot;our&quot;. There's just me and my \\n\\nswamp. The first thing I'm gonna do is build a ten-foot wall arond my \\n\\nland.\\n\\n-You cut me deep, Shrek. You cut me real deep just now. You know what \\n\\nI think? I think this whole wall thing is just a way to keep somebody \\n\\nout.\\n\\n-No, do ya think?\\n\\n-Are you hidin' something?\\n\\n-Never mind, Donkey.\\n\\n-Oh, this is another one of those onion things, isn't it?\\n\\n-No, this is one of those drop-it and leave-it alone things.\\n\\n-Why don't you want to talk about it?\\n\\n-Why do you want to talk about it?\\n\\n-Why are you blocking?\\n\\n-I'm not blocking.\\n\\n-Oh, yes, you are.\\n\\n-Donkey, I'm warning you.\\n\\n-Who you trying to keep out?\\n\\n-Everyone! Okay?\\n\\n-Oh, now we're gettin' somewhere.\\n\\n-Oh! For the love of Pete!\\n\\n-What's your problem? What you got against the whole world anyway?\\n\\n-Look, I'm not the one with the problem, okay? It's the world that \\n\\nseems to have a problem with me. People take one look at me and go. \\n\\n&quot;Aah! Help! Run! A big, stupid, ugly orge!&quot; They judge me before they \\n\\neven know me. That's why I'm better off alone.\\n\\n-You know what? When we met, I didn't think you was just a big, \\n\\nstupid, ugly orge.\\n\\n-Yeah, I know.\\n\\n-So, uh, are there any donkeys up there?\\n\\n-Well, there's, um, Gabby, the Small and Annoying.\\n\\n-Okay, okay, I see it now. The big shiny one, right there. That one \\n\\nthere?\\n\\n-That's the moon.\\n\\n-Oh, okay.\\n\\n\\n\\n{Orchestra}\\n\\n{Dulcimer}\\n\\n-Again, show me again. Mirror, mirror, show her to me. Show me the \\n\\nprincess.\\n\\n-Hmph.\\n\\n-Ah. Perfect.\\n\\n{Inhales}\\n\\n\\n\\n{Snoring}\\n\\n{Vocalizing}\\n\\n{Whistling}\\n\\n{Sizzling}\\n\\n{Sniffs, yawns}\\n\\n-Mmm, yeah, you know I like it like that.\\n\\n--Come on, baby. I said I like it.\\n\\n-Donkey, wake up.\\n\\n-Huh? What?\\n\\n-Wake up.\\n\\n-What?\\n\\n-Good morning. Hm, how do you like your eggs?\\n\\n-Good morning, Princess!\\n\\n-What's all this about?\\n\\n-You know, we kind of got off to a bad start yesterday. I wanted to \\n\\nmake it up to you. I mean, after all, you did rescue me.\\n\\n-Uh, thanks.\\n\\n{Sniffs}\\n\\n-Well, eat up. We've got a big day ahead of us.\\n\\n{Belches}\\n\\n-Shrek!\\n\\n-What? It's a compliment. Better out than in, I always say. {Laughs}\\n\\n-Well, it's no way to behave in front of a princess.\\n\\n{Belches}\\n\\n-Thanks.\\n\\n-She's as nasty as you are.\\n\\n-{Laughs} You know, you're not exactly what I expected.\\n\\n-Well, maybe you shouldn't judge people before you get to know them.\\n\\n{Vocalizing}\\n\\n\\n\\n-La liberte! Hey!\\n\\n-Princess!\\n\\n{Laughs}\\n\\n-What are you doing?\\n\\n-Be still, mon cherie, for I am you savior! And I am rescuing you from \\n\\nthis green - -\\n\\n{Kissing sounds}\\n\\n-beast.\\n\\n-Hey!\\n\\n-That's my princess! Go find you own!\\n\\n-Please, monster! Can't you see I'm a little busy here?\\n\\n-Look, pal, I don't know who you think you are!\\n\\n-Oh! Of couse! Oh, how rude. Please let me introduse myself. Oh, Merry \\n\\nMen. \\n\\n{Laughs}\\n\\n\\n\\n{Accordion}\\n\\nTa, dah, dah, dah, whoo.\\n\\nI steal from the rich and give to the needy.\\n\\nHe takes a wee percentage, \\n\\nBut I'm not greedy. I rescue pretty damsels\\n\\nMan, I'm good\\n\\nWhat a guy, Monsieur Hood\\n\\nBreak it down\\n\\nI like an honest fight\\n\\nand a saucy little maid\\n\\nWhat he's basically saying\\n\\nis he likes to get - - \\n\\nPaid\\n\\nSo\\n\\nWhen an orge in the bush\\n\\ngrabs a lady by the tush\\n\\nThat's bad\\n\\nThat's bad\\n\\nWhen a beauty's with a beast\\n\\nit makes me awfully mad\\n\\nHe's mad\\n\\nHe's really, really mad\\n\\nI'll take my blade and\\n\\nram it through your heart\\n\\nKeep your eyes on me, boys\\n\\n'cause I'm about to start\\n\\n\\n\\n{Grunts, Groans}\\n\\n{Karate Yell}\\n\\n{Merry Men Gasping}\\n\\n{Panting}\\n\\n-Man, that was annoying!\\n\\n-Oh, you little- - \\n\\n{Karate Yell}\\n\\n{Accordion}\\n\\n{Shouting, groaning}\\n\\n{Chuckles}\\n\\n-Uh, shall we?\\n\\n-Hold the phone.\\n\\n{Grunts}\\n\\nOh! Whoa, whoa, whoa. Hold on now. Where did that come from?\\n\\n-What?\\n\\n-That! Back there. That was amazing! Where did you learn that?\\n\\n-Well - - {Chuckles} When one lives alone, uh, one has to learn these \\n\\nthings in case there's a - - There's an arrow in your butt!\\n\\n-What? Oh, would you look at that?\\n\\n-Oh, no. This is all my fault. I'm so sorry.\\n\\n-Why? What's wrong?\\n\\n-Shrek's hurt.\\n\\n-Shrek's hurt. Shrek's hurt? Oh, no, Shrek's gonna die.\\n\\n-Donkey, I'm okay.\\n\\n-You can't do this to me, Shrek. I'm too young for you to die. Keep \\n\\nyou legs elevated. Turn your head and cough. Does anyone know the \\n\\nHeimlich?\\n\\n-Donkey! Calm down. If you want to help Shrek, run into the woods and \\n\\nfind me a blue flower with red thorns.\\n\\n-Blue flower, red thorns. Okay, I'm on it. Blue flower, red thorns. \\n\\nDon't die Shrek. If you see a long tunnel, stay away from the light!\\n\\n-{Both} Donkey!\\n\\n-Oh, yeah. Right. Blue flower, red thorns.\\n\\n-What are the flowers for?\\n\\n-For getting rid of Donkey.\\n\\n-Ah.\\n\\n-Now you hold still, and I'll yank this thing out.\\n\\n-Ow! Hey! Easy with the yankin'.\\n\\n-I'm sorry, but it has to come out.\\n\\n-No, it's tender.\\n\\n-Now, hold on.\\n\\n-What you're doing is the opposite of help.\\n\\n-Don't move.\\n\\n-Look, time out.\\n\\n-Would you - - \\n\\n{Grunts}\\n\\n-Okay. What do you propose we do?\\n\\n-Blue flower, red thorns. Blue flower, red thorns. Blue flower, red \\n\\nthorns. This would be so much easier if I wasn't color-blind! Blue \\n\\nflower, red thorns.\\n\\n-Ow!\\n\\n-Hold on, Shrek! I'm comin'!\\n\\n-Ow! Not good.\\n\\n-Okay. Okay. I can nearly see the head.\\n\\n{Grunts}\\n\\n-It's just about - - \\n\\n-Ow! Ohh!\\n\\n-Ahem.\\n\\n-Nothing happend. We were just, uh - - \\n\\n-Look, if you wanted to be alone, all you had to do was ask. Okay?\\n\\n-Oh, come on! That's the last thing on my mind. The princess here was \\n\\njust- - Ugh! \\n\\n-Ow!\\n\\n-Hey, what's that?\\n\\n{Nervous chickle}\\n\\n-That's- - Is that blood?\\n\\n{Sighs}\\n\\n{Bird chirping}\\n\\n{Grunts}\\n\\n\\n\\nMy beloved monster and me\\n\\nWe go everywhere together\\n\\nWearin' a raincoat\\n\\nthat has four sleeves\\n\\nGets us through all kinds of weather\\n\\n\\n\\n-Aah!\\n\\n\\n\\nShe will always be the only thing\\n\\nThat comes between me and the awful sting\\n\\nThat comes from living in a world\\n\\nthat's so damn mean\\n\\n{Croaks}\\n\\nOh, oh-oh-oh-oh\\n\\n-Hey!\\n\\nLa-la, la-la, la-la-la-la\\n\\n{Both laughing}\\n\\nLa-la, la-la, la-la\\n\\n\\n\\n-There it is, Princess. Your future awaits you.\\n\\n-That's DuLoc?\\n\\n-Yeah, I know. You know, Shrek thinks Lord Farquaad's compensating for \\n\\nsomething,  which I think means he has a really - - Ow!\\n\\n-Um, I, uh- -  I guess we better move on.\\n\\n-Sure. But, Shrek? I'm - - I'm worried about Donkey.\\n\\n{Blubbering}\\n\\n-What?\\n\\n-I mean, look at him. He doesn't look so good. \\n\\n-What are you talking about? I'm fine.\\n\\n-That's what they always say, and then next thing you know, you're on \\n\\nyour back. Dead.\\n\\n-You know, she's right. You look awful. Do you want to sit down?\\n\\n-Uh, you know, I'll make you some tea.\\n\\n-I didn't want to say nothin', but I got this twinge in my neck, and \\n\\nwhen I turn my head like this, look, \\n\\n{Bones crunch}\\n\\n-Ow! See?\\n\\n-Who's hungry? I'll find us some dinner.\\n\\n-I'll get the firewood.\\n\\n-Hey, where you goin'? Oh, man, I can't feel my toes! I don't have any \\n\\ntoes! I think I need a hug.\\n\\n\\n\\n-Mmm. This is good. This is really good. What is this?\\n\\n-Uh, weedrat. Rotisserie style.\\n\\n-No kidding. Well, this is delicious.\\n\\n-Well, they're also great in stews. Now, I don't mean to brag, but I \\n\\nmake a mean weedrat stew.\\n\\n{Chuckling}\\n\\n{Sighs}\\n\\n-I guess I'll be dining a little differently tomorrow night.\\n\\n{Gulps}\\n\\n-Maybe you can come visit me in the swamp sometime. I'll cook all kind \\n\\nof stuff for you. Swamp toad soup, fish eye tartare - - you name it.\\n\\n{Chuckles}\\n\\n-I'd like that.\\n\\n{Slurps, laughs}\\n\\n\\n\\nSee the pyramids along the Nile\\n\\n\\n\\n-Um, Princess?\\n\\n\\n\\nWatch the sunrise from a tropic isle\\n\\n\\n\\n-Yes, Shrek?\\n\\n-I, um, I was wondering.\\n\\n\\n\\nJust remember, darling all the while\\n\\n\\n\\n-Are you- - \\n\\n\\n\\nYou belong to me\\n\\n\\n\\n{Sighs} \\n\\n-Are you gonna eat that?\\n\\n{Chuckles}\\n\\n-Man, isn't this romantic? Just look at that sunset.\\n\\n-Sunset?\\n\\n-Oh, no! I mean, it's late. I-It's very late.\\n\\n-What?\\n\\n-Wait a minute. I see what's goin' on here. You're afraid of the dark, \\n\\naren't you?\\n\\n-Yes! Yes, that's it. I'm terrified. You know, I'd better go inside.\\n\\n-Don't feel bad, Princess. I used to be afraid of the dark, too, until \\n\\n- - Hey, no, wait. I'm still afraid of the dark.\\n\\n{Shrek sighs}\\n\\n -Good night.\\n\\n -Good night.\\n\\n{Door creaks}\\n\\n-Ohh! Now I really see what's goin' on here.\\n\\n-Oh, what are you talkin' about?\\n\\n-I don't even wanna hear it. Look, I'm an animal, and I got instincts. \\n\\nAnd I know you two were diggin' on each other. I could feel it.\\n\\n-You're crazy. I'm just bringing her back to Farquaad.\\n\\n-Oh, come on, Shrek. Wake up and smell the pheromones. Just go on in \\n\\nand tell her how you feel.\\n\\n-I- - There's nothing to tell. Besides, even if I did tell her that, \\n\\nwell, you know - - and I'm not sayin' I do 'cause I don't - - she's a \\n\\nprincess, and I'm - - \\n\\n-An orge?\\n\\n-Yeah. An orge.\\n\\n-Hey, where you goin'?\\n\\n-To get... move firewood.\\n\\n{Sighs} \\n\\n\\n\\n-Princess? Princess Fiona? Princess, where are you?\\n\\n{Wings fluttering}\\n\\n-Princess?\\n\\n{Creaking}\\n\\n{Gasps}\\n\\n-It's very spooky in here. I ain't playing no games.\\n\\n{Screams}\\n\\n-Aah!\\n\\n-Oh, no!\\n\\n-No, help!\\n\\n-Shh!\\n\\n-Shrek! Shrek! Shrek!\\n\\n-No, it's okay. It's okay.\\n\\n-What did you do with the princess?\\n\\n-Donkey, I'm the princess.\\n\\n-Aah!\\n\\n-It's me, in this body.\\n\\n-Oh, my God! You ate the princess. Can you hear me?\\n\\n-Donkey!\\n\\n-Listen, keep breathing! I'll get you out of there!\\n\\n-No!\\n\\n-Shrek! Shrek! Shrek!\\n\\n-Shh.\\n\\n-Shrek!\\n\\n-This is me.\\n\\n{Muffled mumbling}\\n\\n-Princess? What happened to you? You're, uh, uh, uh, different.\\n\\n-I'm ugly, okay?\\n\\n-Well, yeah! Was it something you ate? 'Cause I told Shrek those rats \\n\\nwas a bad idea. You are what you eat, I said. Now - - \\n\\n-No.\\n\\n-I - - I've been this way as long as I can remember.\\n\\n-What do you mean? Look, I ain't never seen you like this before.\\n\\n-It's only happens when sun goes down.\\n\\n&quot;By night one way, by day another. This shall be the norm... until you \\n\\nfind true love's first kiss... and then take love's true form.&quot;\\n\\n-Ah, that's beautiful. I didn't know you wrote poetry.\\n\\n-It's a spell.\\n\\n{Sighs} \\n\\n-When I was a little girl, a witch cast a spell on me. Every night I \\n\\nbecome this. This horrible, ugly beast! I was placed in a tower to \\n\\nawait the day my true love would rescue me. That's why I have to marry \\n\\nLord Farquaad tomorrow before the sun sets and he sees me like this.\\n\\n{Sobs}\\n\\n-All right, all right. Calm down. Look, it's not that bad. You're not \\n\\nthat ugly. Well, I ain't gonna lie. You are ugly. But you only look \\n\\nlike this at night. Shrek's ugly 24-7.\\n\\n-But Donkey, I'm a princess, and this is not how a princess is meant \\n\\nto look.\\n\\n-Princess, how 'bout if you don't marry Farquaad?\\n\\n-I have to.  Only my true love's kiss can break the spell.\\n\\n-But, you know, um, you're kind of an orge, and Shrek - - well, you \\n\\ngot a lot in common.\\n\\n-Shrek?\\n\\n\\n\\n-Princess, I - - Uh, how's it going, first of all? Good? Um, good for \\n\\nme too. I'm okay. I saw this flower and thought of you because it's \\n\\npretty and - - well, I don't really like it, but I thought you might \\n\\nlike it 'cause you're pretty. But I like you anyway. I'd - - uh, uh - \\n\\n- \\n\\n{Sighs}\\n\\n-I'm in trouble. Okay, here we go.\\n\\n-I can't just marry whoever I want. Take a good look at me, Donkey. I \\n\\nmean, really, who can ever love a beast so hideous and ugly? \\n\\n&quot;Princess&quot; and &quot;ugly&quot; don't go together. That's why I can't stay here \\n\\nwith Shrek.\\n\\n{Gasps}\\n\\n-My only chance to live happily ever after is to marry my true love.\\n\\n{Deep sigh}\\n\\n-Don't you see, Donkey? That's just how it has to be. It's the only \\n\\nway to break the spell.\\n\\n-You at least gotta tell Shrek the truth.\\n\\n-No! You can't breathe a word. No one must ever know.\\n\\n-What's the point of being able to talk if you gotta keep secrets?\\n\\n-Promise you won't tell. Promise!\\n\\n-All right, all right. I won't tell him. But you should. I just know \\n\\nbefore this is over, I'm gonna need a whole lot of serious therapy.\\n\\n-Look at my eye twitchin'.\\n\\n{Door opens}\\n\\n{Snoring}\\n\\n-I tell him, I tell him not. I tell him, I tell him not. I tell him. \\n\\n-Shrek! Shrek, there's something I want - - \\n\\n{Snoring}\\n\\n-Shrek. Are you all right?\\n\\n-Perfect! Never been better.\\n\\n-I - - I don't - - There's something I have to tell you.\\n\\n-You don't have to tell me anything, Princess. I heard enough last \\n\\nnight.\\n\\n-You heard what I said?\\n\\n-Every word.\\n\\n-I thought you'd understand.\\n\\n-Oh, I undersatnd. Like you said, &quot;Who could love a hideous, ugly \\n\\nbeast?&quot; \\n\\n-But I thought that wouldn't matter to you.\\n\\n-Yeah? Well, it does.\\n\\n{Gasps, sighs}\\n\\n-Ah, right on time.\\n\\n{Horse whinnies}\\n\\n-Princess, I've brought you a little something.\\n\\n{Fanfare}\\n\\n{Yawns}\\n\\n-What'd I miss? What'd I miss?\\n\\n{Muffled}\\n\\n-Who said that? Couldn't have been a donkey.\\n\\n-Princess Fiona.\\n\\n-As promised. Now hand it over.\\n\\n-Very well, orge. The deed to your swamp, cleared out, as agreed.\\n\\n-Take it and go before I change my mind.\\n\\n-Forgive me, Princess, for startling you, but you startled me, for I \\n\\nhave never seen such a radiant beauty before. I'm Lord Farquaad.\\n\\n-Lord Farquaad? Oh, no, no.\\n\\n{Snaps fingers}\\n\\n-Forgive me, my lord, for I was just saying a short... farewell.\\n\\n-Oh, that is so sweet. You don't have to waste good manners on the \\n\\norge. It's not like it has feelings.\\n\\n-No, you're right. It doesn't.\\n\\n-Princess Fiona, beautiful, fair, flawerss Fiona. I ask your hand in \\n\\nmarriage.\\n\\n{Gasps}\\n\\n-Will you be the perfect bride for the perfect groom?\\n\\n-Lord Farquaad, I accept. Nothing would make - - \\n\\n-Excellent! I'll start the plans, for tomorrow we wed!\\n\\n-No! I mean, uh, why wait? Let's get married today before the sun \\n\\nsets.\\n\\n-Oh, anxious, are you? You're right. The sooner, the better. There's \\n\\nso much to do! Threre's the caterer, the cake, the band, the guest \\n\\nlist. Captain, round up some guests!\\n\\n-Fare-thee-well, orge.\\n\\n-Shrek, what are you doing? You're letting her get away.\\n\\n-Yeah? So what?\\n\\n-Shrek, there's something about her you don't know. Look, I talked to \\n\\nher last night, She's - - \\n\\n-I know you talked to her last night. You're great pals, aren't ya? \\n\\nNow, if you two are such good friends, why don't you follow her home?\\n\\n-Shrek, I - - I wanna go with you.\\n\\n-I told you, didn't I? You're not coming home with me. I live alone! \\n\\nMy swamp! Me! Nobody else! Understand? Nobody! Especially useless, \\n\\npathetic, annoying, talking donkeys!\\n\\n-But I thought - - \\n\\n-Yeah. You know what? You tought wrong!\\n\\n-Shrek.\\n\\n\\n\\nI heard there was a secret chord\\n\\nThat David played and it pleased the Lord\\n\\nBut you don't really care for music, do ya\\n\\nIt goes like this the fourth, the fifth\\n\\nThe minor fall the major lift\\n\\nThe baffled king composing hallelujah\\n\\nHallelujah,  hallelujah\\n\\nBaby, I've been here before\\n\\nI know this room I've walked this floor\\n\\nI used to live alone before I knew you\\n\\nI've seen your flag on the marble arch\\n\\nBut love is not a victory march\\n\\nIt's a cold and it's a broken hallelujah\\n\\nHallelujah,  hallelujah\\n\\nAnd all I ever learned from love\\n\\nIs how to shoot at someone\\n\\nWho outdrew you\\n\\n{Moaning}\\n\\nAnd it's not a cry you can hear at night\\n\\nIt's not somebody who's seen the light\\n\\nIt's a cold and it's a broken hallelujah\\n\\n{Moaning}\\n\\nHallelujah,  hallelujah\\n\\n\\n\\n{Thumping sound}\\n\\n-Donkey?\\n\\n{Grunts}\\n\\n-What are you doing?\\n\\n-I would think, of all people, you would recognize a wall when you see \\n\\none.\\n\\n-Well, yeah. But the wall's supposed to go around my swamp, not \\n\\nthrough it.\\n\\n-It is around your half. See that's your half, and this is my half.\\n\\n-Oh! Your half. Hmm.\\n\\n-Yes, my half. I helped rescue the princess. I did half the work. I \\n\\nget half the booty. Now hand me that big old rock, the one that looks \\n\\nlike your head.\\n\\n-Back off!\\n\\n-No, you back off.\\n\\n-This is my swamp!\\n\\n-Our swamp.\\n\\n-Let go, Donkey!\\n\\n-You let go.\\n\\n-Stubborn jackass!\\n\\n-Smelly orge.\\n\\n-Fine!\\n\\n-Hey, hey, come back here. I'm not through with you yet.\\n\\n-Well, I'm through with you.\\n\\n-Uh-uh. You know, with you it's always, &quot;Me, me, me!&quot; Well, guess \\n\\nwhat! Now it's my turn! So you just shut up and pay attention! You are \\n\\nmean to me. You insult me and you don't appreciate anything that I do! \\n\\nYou're always pushing me around or pushing me away.\\n\\n-Oh, yeah? Well, if I treated you so bad, how come you came back?\\n\\n-Because that's what friends do! They forgive each other!\\n\\n-Oh, yeah. You're right, Donkey. I forgive you... for stabbin' me in \\n\\nthe back!\\n\\n-Ohh! You're so wrapped up in layers, onion boy, you're afraid of your \\n\\nown feelings.\\n\\n-Go away!\\n\\n-There you are , doing it again just like you did to Fiona. All she \\n\\never do was like you, maybe even love you.\\n\\n-Love me? She said I was ugly, a hideous creature. I heard the two of \\n\\nyou talking. \\n\\n-She wasn't talkin' about you. She was talkin' about, uh, somebody \\n\\nelse.\\n\\n-She wasn't talking about me? Well, then who was she talking about?\\n\\n-Uh-uh, no way. I ain't saying anything. You don't wanna listen to me. \\n\\nRight? Right?\\n\\n-Donkey!\\n\\n-No!\\n\\n-Okay, look. I'm sorry, all right?\\n\\n{Sighs}\\n\\n-I'm sorry. I guess I am just a big, stupid, ugly orge. Can you \\n\\nforgive me?\\n\\n-Hey, that's what friends are for, right?\\n\\n-Right. Friends?\\n\\n-Friends.\\n\\n-So, um, what did Fiona say about me?\\n\\n-What are you asking me for? Why don't you just go ask her?\\n\\n-The wedding! We'll never make it in time.\\n\\n-Ha-ha-ha! Never fear, for where, there's a will, there's a way and I \\n\\nhave a way.\\n\\n{Whistles}\\n\\n-Donkey?\\n\\n-I guess it's just my animal magnetism.\\n\\n{Laughing}\\n\\n-Aw, come here, you.\\n\\n-All right, all right.Don't get all slobbery. No one likes a kiss ass. \\n\\nAll right, hop on and hold on tight. I haven't had a chance to install \\n\\nthe seat belts yet.\\n\\n-Whoo!\\n\\n{Bells tolling}\\n\\n{All gasping}\\n\\n-People of DuLoc, we gather here today to bear witnss to the union....\\n\\n-Um-\\n\\n-of our new king - -\\n\\n-Excuse me. Could we just skip ahead to the &quot;I do's&quot;?\\n\\n{Chuckling}\\n\\n-Go on.\\n\\n-Go ahead, HAVE SOME FUN. If we need you, I'll whistle. How about \\n\\nthat? Shrek, wait, wait! Wait a minute! You wanna do this right, don't \\n\\nyou?\\n\\n-What are you talking about?\\n\\n-There's a line you gotta wait for. The preacher's gonna say, &quot;Speak \\n\\nnow or forever hold your peace.&quot; That's when you say, &quot;I object!&quot;\\n\\n-I don't have time for this!\\n\\n-Hey, wait. What are you doing? Listen to me! Look, you love this \\n\\nwoman, don't you?\\n\\n-Yes.\\n\\n-You wanna hold her?\\n\\n-Yes.\\n\\n-Please her?\\n\\n-Yes!\\n\\n-Then you got to, got to try a little tenderness. The chicks love that \\n\\nromantic crap!\\n\\n-All right! Cut it out. When does this guy say the line?\\n\\n-We gotta check it out.\\n\\n\\n\\n-And so, by the power vested in me, \\n\\n-What do you see?\\n\\n-The whole town's in there.\\n\\n-I now pronounce you husband and wife,\\n\\n-They're at the altar.\\n\\n-king and queen.\\n\\n-Mother Fletcher! He already said it.\\n\\n-Oh, for the love of Pete!\\n\\n{Grunts}\\n\\n-I object!\\n\\n-Shrek?\\n\\n{Gasps}\\n\\n-Oh, now what does he want?\\n\\n-Hi, everyone. Havin' a good time, are ya? I love DuLoc, first at all. \\n\\nVery clean.\\n\\n-What are you doing here?\\n\\n-Really, it's rude enough being alive when no one wants you, but \\n\\nshowing up uninvited to a wedding - -\\n\\n-Fiona! I need to talk to you.\\n\\n-Oh, now you wanna talk? It's a little late for that, so if you'll \\n\\nexcuse me - - \\n\\n-But you can't marry him.\\n\\n-And why not?\\n\\n-Because- - Because he's just marring you so he can be king.\\n\\n-Outrageous! Fiona, don't listen to him.\\n\\n-He's not your true love.\\n\\n-And what do you know about true love?\\n\\n-Well, I - - Uh - - I mean - - \\n\\n-Oh, this is precious. The orge has fallen in love with the princess! \\n\\nOh, good Lord.\\n\\n{Crowd laughting}\\n\\n-An orge and a princess!\\n\\n-Shrek, is this true?\\n\\n-Who cares? It's preposterous! Fiona, my love, we're but a kiss away \\n\\nfrom our &quot;happily ever after.&quot; Now kiss me! Mmmmm!\\n\\n-&quot;By night one way, by day another.&quot; I wanted to show you before.\\n\\n{Whimpers}\\n\\n{Crown gasping}\\n\\n-Well, uh, that explains a lot.\\n\\n-Ugh! It's disgusting! Guards! Guards! I order you to get that out of \\n\\nmy sight now! Get them! Get them both!\\n\\n-No, no!\\n\\n-Shrek!\\n\\n-This hocus-pocus alters nothing. This marriage is binding, and that \\n\\nmakes me king! See? See?\\n\\n-No, let go of me! Shrek!\\n\\n-No!\\n\\n-Don't just stand there, you morons.\\n\\n-Get out of my way! Fiona! Arrgh! \\n\\n-I'll make you regret the day we met. I'll see you drawn and \\n\\nquartered!\\n\\n-You'll beg for death to save you!\\n\\n-No, Shrek!\\n\\n-And as for you, my wife,\\n\\n-Fiona!\\n\\n-I'll have you locked back in that tower for the rest of your days!\\n\\n-I'm king!\\n\\n{Whistles}\\n\\n-I will have order! I will have perfection! I will have - - Aaaah!\\n\\n-Aah!\\n\\n-All right. Nobody move. I got a dragon here, and I'm not afraid to \\n\\nuse it.\\n\\n{Roars}\\n\\n-I'm a donkey on the edge!\\n\\n{Belches}\\n\\n-Celebrity marriages. They never last, do they?\\n\\n{Cheering}\\n\\n-Go ahead, Shrek.\\n\\n-Uh, Fiona?\\n\\n-Yes, Shrek?\\n\\n-I - - I love you.\\n\\n-Really?\\n\\n-Really, really.\\n\\n- I love you too.\\n\\n-Aawww!\\n\\n-&quot;Until you find true love's first kiss and then take love's true \\n\\nform.&quot;\\n\\n-&quot;Take love's true form. Take love's true form.&quot;\\n\\n-Fiona? Fiona. Are you all right?\\n\\n-Well, yes. But I don't understand. I'm supposed to be beautiful.\\n\\n-But you ARE beautiful.\\n\\n{Chuckles}\\n\\n-I was hoping this would be a happy ending.\\n\\n\\n\\nI thought love was only true in fairy tales\\n\\nOy!\\n\\nMeant for someone else but not for me\\n\\nLove was out to get me\\n\\nThat's the way it seemed\\n\\nDisappointment haunted all my dreams\\n\\nAnd then I saw her face\\n\\nNow I'm a believer and not a trace\\n\\nOf doubt in my mind\\n\\nI'm in love\\n\\nOoh-aah\\n\\nI'm a believer I couldn't leave her\\n\\nIf I tried\\n\\n\\n\\n-God bless us, every one.\\n\\n\\n\\nCome on, y'all!\\n\\nThen I saw her face\\n\\nHa-ha\\n\\nNow I'm a believer \\n\\nListen!\\n\\nNot a trace\\n\\nOf doubt in my mind\\n\\nI'm in love\\n\\nOoh-aah\\n\\nI'm a believer \\n\\nI couldn't leave her if I tried\\n\\n-Ooh!\\n\\n-Uh!\\n\\nThen I saw her face\\n\\nNow I'm a believer \\n\\nHey!\\n\\nNot a trace\\n\\nUhh! Yeah.\\n\\nOf doubt in my mind\\n\\n\\n\\n-One more time!\\n\\nI'm in love\\n\\nI'm a believer \\n\\nCome on!\\n\\nI believe, I believe, I believe, I believe, \\n\\nI believe, I believe, I believe, I believe, I believe, hey\\n\\nY'all sing it with me!\\n\\nI\\n\\nBelieve\\n\\nI believe\\n\\nPeople in the back!\\n\\nI believe\\n\\nI'm a believer \\n\\nI believe\\n\\nI believe\\n\\nI believe\\n\\nI believe\\n\\n{Hysterical laughing}\\n\\n-Oh, that's funny. Oh. Oh.\\n\\n-I can't breathe. I can't breathe. \\n\\n\\n\\nI believe in self-assertion\\n\\nDestiny or a slight diversion\\n\\nNow it seems I've got my head on straight\\n\\nI'm a freak an apparition\\n\\nSeems I've made the right decision\\n\\nTo try to turn back now it might be too late\\n\\n\\n\\nNow I want to stay home today\\n\\nDon't wanna go out\\n\\nIf anyone comes to play\\n\\nGonna get thrown out\\n\\nI wanna stay home today\\n\\nDon't want no company\\n\\nNo way\\n\\nYeah, yeah, yeah\\n\\n\\n\\nI wanna be a millionaire someday\\n\\nBut know what it feels like to give it away\\n\\nWatch me march to the beat of my own drum\\n\\nAnd it's off to the moon and then back again\\n\\nSame old day Same situation\\n\\nMy happiness rears back as if to say\\n\\n\\n\\nI wanna stay home today\\n\\nDon't wanna go out\\n\\nIf anyone comes to play\\n\\nGonna get thrown out\\n\\nI wanna stay home today\\n\\nDon't want no company\\n\\nNo way\\n\\nYeah, yeah, yeah\\n\\n\\n\\nI wanna stay home, stay home, stay home.........\\n\\n\\n\\n\\n\\nI get such a thrill when you look in my eyes\\n\\nMy heart skips a beat\\n\\nGirl, I feel so alive\\n\\nPlease tell me, baby, if all this is true\\n\\n'Cause deep down inside all I wanted was you\\n\\nOh-oh-oh\\n\\nMakes me wanna dance\\n\\nOh-oh-oh\\n\\nIt's a new romance\\n\\nOh-oh-oh\\n\\nI look into your eyes\\n\\nOh-oh-oh\\n\\nThe best years of our lives\\n\\nWhen we first met\\n\\nI could hardly believe\\n\\nThe things that would happen \\n\\nand we could achieve\\n\\nSo let's be together\\n\\nfor all of our time\\n\\nOh, girl, I'm so thankful\\n\\nthat you are still mine\\n\\nYou always consider me\\n\\nlike an ugly duckling\\n\\nAnd treat me like a Nostradamus\\n\\nwas why I had to get my shine on\\n\\nI break a little something\\n\\nto keep my mind on\\n\\n'Cause you had my mind gone\\n\\nEh-eh, eh-eh, eh-eh\\n\\nTurn the lights on, Come on, baby\\n\\nLet's just rewind the song\\n\\n'Cause all I want to do is \\n\\nmake the rest years the best years\\n\\nAll night long\\n\\n\\n\\nOh-oh-oh\\n\\nMakes me wanna dance\\n\\nMakes me wanna dance\\n\\nOh-oh-oh\\n\\nIt's a new romance\\n\\nIt's a new romance\\n\\nOh-oh-oh\\n\\nI look into your eyes\\n\\nOh, yeah, yeah\\n\\nI look into your eyes\\n\\nOh-oh-oh\\n\\nThe best years of our lives\\n\\nYeah, yeah, yeah, yeah..............\\n\\n\\n\\n\\n\\nEverything looks bright\\n\\nStanding in your light\\n\\nEverything feels right\\n\\nWhat's left is out of sight\\n\\nWhat's a girl to do \\n\\nI'm telling you\\n\\nYou're on my mind\\n\\nI wanna be with you\\n\\n'Cause when you're\\n\\nstandin' next to me\\n\\nIt's like wow\\n\\nAnd all your kisses\\n\\nseem to set me free\\n\\nIt's like wow\\n\\nAnd when we touch\\n\\nit's such a rush\\n\\nI can't get enough\\n\\nIt's like- - It's like\\n\\nOoh-ooh\\n\\nHey, what\\n\\nIt's like wow\\n\\nOoh-ooh, hey\\n\\nHey, yeah\\n\\nIt's like wow\\n\\nEverything is looking\\n\\nright now, right now\\n\\nIt's like wow\\n\\nAnd I got this feeling\\n\\nThis feeling \\n\\nit's just like wow\\n\\nIt's just like wow\\n\\nYou are all I'm thinking of.\\n\\nLike wow\\n\\nEverything feels right\\n\\nEverything feels right\\n\\nLike wow\\n\\nEverything looks bright\\n\\nAll my senses are right\\n\\nLike wow\\n\\nEverything feels right\\n\\nBaby, baby, baby\\n\\nthe way I'm feeling you\\n\\nIs like wow\\n\\n\\n\\nThere is something\\n\\nthat I see\\n\\nIn the way \\n\\nyou look at me\\n\\nThere's a smile\\n\\nThere's a truth\\n\\nIn your eyes\\n\\nWhat an unexpected way\\n\\nOn this unexpected day\\n\\nCould it be\\n\\nThis is where I belong\\n\\nIt is you I have loved\\n\\nAll long\\n\\nThere's no more mystery\\n\\nIt is finally clear to me\\n\\nYou're the home\\n\\nmy heart's searched for\\n\\nSo long\\n\\nIt is you I have loved\\n\\nAll long\\n\\nWhoa, over and over\\n\\nI'm filled with emotion\\n\\nAs I look\\n\\nInto your perfect face\""
      ]
     },
     "execution_count": 74,
     "metadata": {},
     "output_type": "execute_result"
    }
   ],
   "execution_count": 74
  },
  {
   "metadata": {
    "ExecuteTime": {
     "end_time": "2024-09-22T18:34:47.106232Z",
     "start_time": "2024-09-22T18:34:47.006092Z"
    }
   },
   "cell_type": "code",
   "source": "data[data['caption'] == word]",
   "id": "d931541bd551136a",
   "outputs": [
    {
     "data": {
      "text/plain": [
       "          image_id                                            caption  \\\n",
       "1696597  imgflip_4  {Man} Once upon a time there was a lovely prin...   \n",
       "\n",
       "        funny_score  \n",
       "1696597           1  "
      ],
      "text/html": [
       "<div>\n",
       "<style scoped>\n",
       "    .dataframe tbody tr th:only-of-type {\n",
       "        vertical-align: middle;\n",
       "    }\n",
       "\n",
       "    .dataframe tbody tr th {\n",
       "        vertical-align: top;\n",
       "    }\n",
       "\n",
       "    .dataframe thead th {\n",
       "        text-align: right;\n",
       "    }\n",
       "</style>\n",
       "<table border=\"1\" class=\"dataframe\">\n",
       "  <thead>\n",
       "    <tr style=\"text-align: right;\">\n",
       "      <th></th>\n",
       "      <th>image_id</th>\n",
       "      <th>caption</th>\n",
       "      <th>funny_score</th>\n",
       "    </tr>\n",
       "  </thead>\n",
       "  <tbody>\n",
       "    <tr>\n",
       "      <th>1696597</th>\n",
       "      <td>imgflip_4</td>\n",
       "      <td>{Man} Once upon a time there was a lovely prin...</td>\n",
       "      <td>1</td>\n",
       "    </tr>\n",
       "  </tbody>\n",
       "</table>\n",
       "</div>"
      ]
     },
     "execution_count": 73,
     "metadata": {},
     "output_type": "execute_result"
    }
   ],
   "execution_count": 73
  },
  {
   "metadata": {
    "ExecuteTime": {
     "end_time": "2024-09-22T18:52:36.393570Z",
     "start_time": "2024-09-22T18:52:18.897258Z"
    }
   },
   "cell_type": "code",
   "source": [
    "# if args.img - dir == 'Oxford_HIC':\n",
    "#     dirPath = '../Data/Oxford_HIC/oxford_hic_data.csv'\n",
    "#     imgPath = '../Data/Oxford_HIC/oxford_img/'\n",
    "# else:\n",
    "dirPath = '../Data/Instagram/Filter_' + 'wendys' + '.csv'\n",
    "imgPath = '../Data/Instagram/' + 'wendys' + '_img/'\n",
    "# load data\n",
    "data = pd.read_csv(dirPath)\n",
    "data = addImagePath(data, imgPath)\n",
    "# split data\n",
    "train, test = train_test_split(data, test_size=0.2, random_state=42)\n",
    "\n",
    "train_text = textExtraction(train['caption'])\n",
    "train_image = imageExtraction(train['image_id'])\n",
    "train_funny_score = torch.tensor(train['funny_score'].to_numpy())\n",
    "test_text = textExtraction(test['caption'])\n",
    "test_image = imageExtraction(test['image_id'])\n",
    "test_funny_score = torch.tensor(test['funny_score'].to_numpy())"
   ],
   "id": "8bddfef236149dd6",
   "outputs": [
    {
     "name": "stderr",
     "output_type": "stream",
     "text": [
      "C:\\Users\\USER\\PycharmProjects\\Python3.11.9\\pythonProject\\.venv\\Lib\\site-packages\\transformers\\tokenization_utils_base.py:1601: FutureWarning: `clean_up_tokenization_spaces` was not set. It will be set to `True` by default. This behavior will be depracted in transformers v4.45, and will be then set to `False` by default. For more details check this issue: https://github.com/huggingface/transformers/issues/31884\n",
      "  warnings.warn(\n",
      "100%|██████████| 293/293 [00:00<00:00, 861.47it/s] \n",
      "100%|██████████| 293/293 [00:08<00:00, 35.91it/s]\n",
      "100%|██████████| 74/74 [00:00<00:00, 704.72it/s]\n",
      "100%|██████████| 74/74 [00:02<00:00, 34.21it/s]\n"
     ]
    }
   ],
   "execution_count": 4
  },
  {
   "metadata": {
    "ExecuteTime": {
     "end_time": "2024-09-22T18:52:41.920433Z",
     "start_time": "2024-09-22T18:52:41.914984Z"
    }
   },
   "cell_type": "code",
   "source": "train_text.shape, train_image.shape, train_funny_score.shape",
   "id": "851fa717c816958b",
   "outputs": [
    {
     "data": {
      "text/plain": [
       "(torch.Size([293, 373, 768]), torch.Size([293, 64, 768]), torch.Size([293]))"
      ]
     },
     "execution_count": 5,
     "metadata": {},
     "output_type": "execute_result"
    }
   ],
   "execution_count": 5
  },
  {
   "metadata": {
    "ExecuteTime": {
     "end_time": "2024-09-22T18:52:50.237966Z",
     "start_time": "2024-09-22T18:52:50.234728Z"
    }
   },
   "cell_type": "code",
   "source": [
    "train_dataset = torch.utils.data.TensorDataset(train_text, train_image, train_funny_score)\n",
    "test_dataset = torch.utils.data.TensorDataset(test_text, test_image, test_funny_score)\n",
    "train_loader = torch.utils.data.DataLoader(train_dataset, batch_size=32, shuffle=True)\n",
    "test_loader = torch.utils.data.DataLoader(test_dataset, batch_size=32, shuffle=False)"
   ],
   "id": "127ff8b78bd6db6a",
   "outputs": [],
   "execution_count": 6
  },
  {
   "metadata": {
    "ExecuteTime": {
     "end_time": "2024-09-22T15:31:33.447037Z",
     "start_time": "2024-09-22T15:31:31.893764Z"
    }
   },
   "cell_type": "code",
   "source": [
    "### 不確定是否為官方的 Gemini #############################################################################\n",
    "from transformers import AutoTokenizer, AutoModelForSeq2SeqLM\n",
    "tokenizer = AutoTokenizer.from_pretrained(\"describeai/gemini\")\n",
    "gemini = AutoModelForSeq2SeqLM.from_pretrained(\"describeai/gemini\")\n",
    "#######################################################################################################"
   ],
   "id": "9368441165fc2667",
   "outputs": [
    {
     "name": "stderr",
     "output_type": "stream",
     "text": [
      "C:\\Users\\USER\\PycharmProjects\\Python3.11.9\\pythonProject\\.venv\\Lib\\site-packages\\transformers\\tokenization_utils_base.py:1601: FutureWarning: `clean_up_tokenization_spaces` was not set. It will be set to `True` by default. This behavior will be depracted in transformers v4.45, and will be then set to `False` by default. For more details check this issue: https://github.com/huggingface/transformers/issues/31884\n",
      "  warnings.warn(\n"
     ]
    }
   ],
   "execution_count": 4
  },
  {
   "metadata": {
    "ExecuteTime": {
     "end_time": "2024-09-20T07:56:30.971132Z",
     "start_time": "2024-09-20T07:56:30.958131Z"
    }
   },
   "cell_type": "code",
   "source": "gemini",
   "id": "143c8ed0cdb62c6b",
   "outputs": [
    {
     "ename": "NameError",
     "evalue": "name 'gemini' is not defined",
     "output_type": "error",
     "traceback": [
      "\u001B[1;31m---------------------------------------------------------------------------\u001B[0m",
      "\u001B[1;31mNameError\u001B[0m                                 Traceback (most recent call last)",
      "Cell \u001B[1;32mIn[95], line 1\u001B[0m\n\u001B[1;32m----> 1\u001B[0m \u001B[43mgemini\u001B[49m\n",
      "\u001B[1;31mNameError\u001B[0m: name 'gemini' is not defined"
     ]
    }
   ],
   "execution_count": 95
  },
  {
   "metadata": {
    "ExecuteTime": {
     "end_time": "2024-09-22T18:52:57.468259Z",
     "start_time": "2024-09-22T18:52:54.230141Z"
    }
   },
   "cell_type": "code",
   "source": [
    "### 官方的Gemma #########################################################################################\n",
    "from transformers import AutoTokenizer, AutoModelForCausalLM\n",
    "tokenizer = AutoTokenizer.from_pretrained(\"google/gemma-2b\")\n",
    "# gemma = AutoModelForCausalLM.from_pretrained(\"google/gemma-2b\", device_map=\"auto\", revision=\"float16\")\n",
    "gemma = AutoModelForCausalLM.from_pretrained(\"google/gemma-2b\", device_map=\"auto\",  torch_dtype=torch.bfloat16)\n",
    "########################################################################################################"
   ],
   "id": "2b63e7fd2e5f833e",
   "outputs": [
    {
     "name": "stderr",
     "output_type": "stream",
     "text": [
      "`config.hidden_act` is ignored, you should use `config.hidden_activation` instead.\n",
      "Gemma's activation function will be set to `gelu_pytorch_tanh`. Please, use\n",
      "`config.hidden_activation` if you want to override this behaviour.\n",
      "See https://github.com/huggingface/transformers/pull/29402 for more details.\n"
     ]
    },
    {
     "data": {
      "text/plain": [
       "Loading checkpoint shards:   0%|          | 0/2 [00:00<?, ?it/s]"
      ],
      "application/vnd.jupyter.widget-view+json": {
       "version_major": 2,
       "version_minor": 0,
       "model_id": "282a3ae73bcd4eba843865c4dceb1fe4"
      }
     },
     "metadata": {},
     "output_type": "display_data"
    }
   ],
   "execution_count": 7
  },
  {
   "metadata": {
    "ExecuteTime": {
     "end_time": "2024-09-22T16:47:42.602569Z",
     "start_time": "2024-09-22T16:47:41.350489Z"
    }
   },
   "cell_type": "code",
   "source": [
    "device = torch.device('cuda' if torch.cuda.is_available() else 'cpu')\n",
    "gemma.to(device)\n",
    "vocab_size = 256128  # 词汇表大小\n",
    "embedding_dim = 768  # 嵌入维度，与你的图像嵌入维度相同\n",
    "text_embedding = nn.Embedding(vocab_size, embedding_dim).to(device)\n",
    "\n",
    "words = \"👻🔥😂😁👍🤦‍♀️🤦‍♂️🤷‍♀️🤷‍♂️✌🤞😉😎🎶😢💖🎉🌹💋👏🐱‍💻🐱‍🐉🐱‍👓✔👀😃✨😆🤔🤢🎁🫢 ha ha\"\n",
    "tokens = tokenizer(words, truncation=True, padding= 'max_length', max_length=100, return_tensors=\"pt\")\n",
    "output = text_embedding(tokens['input_ids'].to(device))\n",
    "\n",
    "import torch\n",
    "import torch.nn.functional as F\n",
    "\n",
    "def find_closest_embeddings(x, embedding_matrix, top_k=1):\n",
    "    # Normalize both the input tensor x and the embedding matrix\n",
    "    x = F.normalize(x, dim=1)  # Normalize input tensor along feature dimension\n",
    "    embedding_matrix = F.normalize(embedding_matrix, dim=1)  # Normalize embedding matrix\n",
    "    \n",
    "    # Compute cosine similarity between x and embedding matrix\n",
    "    similarity = torch.matmul(x, embedding_matrix.T)  # Shape: [10, 50265]\n",
    "    \n",
    "    # Find top-k closest embeddings for each tensor in x\n",
    "    top_k_values, top_k_indices = torch.topk(similarity, top_k, dim=1)\n",
    "    \n",
    "    return top_k_indices, top_k_values\n",
    "\n",
    "\n",
    "# print(output.squeeze(0).shape)\n",
    "top_k_indices, top_k_values = find_closest_embeddings(output.squeeze(0), text_embedding.weight)\n",
    "# top_k_indices.shape\n",
    "indices = tokenizer.decode(top_k_indices.squeeze(-1))\n",
    "print(indices)"
   ],
   "id": "b5a1bd08816d845f",
   "outputs": [
    {
     "name": "stdout",
     "output_type": "stream",
     "text": [
      "torch.Size([100, 768])\n",
      "<pad><pad><pad><pad><pad><pad><pad><pad><pad><pad><pad><pad><pad><pad><pad><pad><pad><pad><pad><pad><pad><pad><pad><pad><pad><pad><pad><pad><pad><pad><pad><pad><pad><pad><pad><pad><pad><pad><pad><pad><pad><pad><pad><pad><pad><pad><pad><pad><pad><pad><pad><pad><pad><pad><pad><bos>👻🔥😂😁👍🤦‍♀️🤦‍♂️🤷‍♀️🤷‍♂️✌🤞😉😎🎶😢💖🎉🌹💋👏🐱‍💻🐱‍🐉🐱‍👓✔👀😃✨😆🤔🤢🎁🫢 ha ha\n"
     ]
    }
   ],
   "execution_count": 7
  },
  {
   "metadata": {},
   "cell_type": "markdown",
   "source": "",
   "id": "c9c377d6e9b7c06e"
  },
  {
   "metadata": {
    "ExecuteTime": {
     "end_time": "2024-09-20T07:57:29.545915Z",
     "start_time": "2024-09-20T07:57:29.541936Z"
    }
   },
   "cell_type": "code",
   "outputs": [
    {
     "data": {
      "text/plain": [
       "GemmaForCausalLM(\n",
       "  (model): GemmaModel(\n",
       "    (embed_tokens): Embedding(256000, 2048, padding_idx=0)\n",
       "    (layers): ModuleList(\n",
       "      (0-17): 18 x GemmaDecoderLayer(\n",
       "        (self_attn): GemmaSdpaAttention(\n",
       "          (q_proj): Linear(in_features=2048, out_features=2048, bias=False)\n",
       "          (k_proj): Linear(in_features=2048, out_features=256, bias=False)\n",
       "          (v_proj): Linear(in_features=2048, out_features=256, bias=False)\n",
       "          (o_proj): Linear(in_features=2048, out_features=2048, bias=False)\n",
       "          (rotary_emb): GemmaRotaryEmbedding()\n",
       "        )\n",
       "        (mlp): GemmaMLP(\n",
       "          (gate_proj): Linear(in_features=2048, out_features=16384, bias=False)\n",
       "          (up_proj): Linear(in_features=2048, out_features=16384, bias=False)\n",
       "          (down_proj): Linear(in_features=16384, out_features=2048, bias=False)\n",
       "          (act_fn): PytorchGELUTanh()\n",
       "        )\n",
       "        (input_layernorm): GemmaRMSNorm((2048,), eps=1e-06)\n",
       "        (post_attention_layernorm): GemmaRMSNorm((2048,), eps=1e-06)\n",
       "      )\n",
       "    )\n",
       "    (norm): GemmaRMSNorm((2048,), eps=1e-06)\n",
       "  )\n",
       "  (lm_head): Linear(in_features=2048, out_features=256000, bias=False)\n",
       ")"
      ]
     },
     "execution_count": 100,
     "metadata": {},
     "output_type": "execute_result"
    }
   ],
   "execution_count": 100,
   "source": "gemma",
   "id": "138969a74768b4db"
  },
  {
   "metadata": {
    "ExecuteTime": {
     "end_time": "2024-09-19T20:04:59.345967Z",
     "start_time": "2024-09-19T20:04:55.645525Z"
    }
   },
   "cell_type": "code",
   "source": [
    "### LLM測試\n",
    "device = torch.device(\"cuda\" if torch.cuda.is_available() else \"cpu\")\n",
    "gemma.to(device)\n",
    "input_text = \"Write a poem about Machine Learning.\"\n",
    "input_ids = tokenizer(input_text, return_tensors=\"pt\").to(device)\n",
    "\n",
    "outputs = gemma.generate(**input_ids, max_length=500)\n",
    "print(tokenizer.decode(outputs[0]))"
   ],
   "id": "71615226bd69b78b",
   "outputs": [
    {
     "name": "stderr",
     "output_type": "stream",
     "text": [
      "C:\\Users\\USER\\PycharmProjects\\Python3.11.9\\pythonProject\\.venv\\Lib\\site-packages\\transformers\\models\\gemma\\modeling_gemma.py:540: UserWarning: 1Torch was not compiled with flash attention. (Triggered internally at C:\\actions-runner\\_work\\pytorch\\pytorch\\builder\\windows\\pytorch\\aten\\src\\ATen\\native\\transformers\\cuda\\sdp_utils.cpp:555.)\n",
      "  attn_output = torch.nn.functional.scaled_dot_product_attention(\n"
     ]
    },
    {
     "name": "stdout",
     "output_type": "stream",
     "text": [
      "<bos>Write a poem about Machine Learning.\n",
      "\n",
      "Answer:\n",
      "\n",
      "Step 1/2\n",
      "Machine Learning is a powerful tool that can help us make sense of the world around us. It can analyze vast amounts of data and make predictions based on that data. It can also learn from our own actions and behaviors, and adapt to new situations. But what does it mean to be a machine? Is it just a computer program that can learn? Or is it something more? Maybe it's a combination of both. Maybe it's a combination of human intelligence and computer power. Maybe it's a combination of both. But whatever it is, it's a powerful tool that can help us make sense of the world around us. And it's a tool that can help us make sense of ourselves.\n",
      "\n",
      "Step 2/2\n",
      "So, what does it mean to be a machine? It means that we can learn from our own actions and behaviors, and adapt to new situations. It means that we can make sense of the world around us, and make predictions based on that data. It means that we can learn from our own experiences, and use that knowledge to make better decisions in the future. So, what does it mean to be a machine? It means that we can learn from our own experiences, and use that knowledge to make better decisions in the future.<eos>\n"
     ]
    }
   ],
   "execution_count": 5
  },
  {
   "metadata": {
    "ExecuteTime": {
     "end_time": "2024-09-19T21:22:30.575740Z",
     "start_time": "2024-09-19T21:22:29.721030Z"
    }
   },
   "cell_type": "code",
   "source": [
    "device = torch.device(\"cuda\" if torch.cuda.is_available() else \"cpu\")\n",
    "input_text = \"Give me three best book.\"\n",
    "input_ids = tokenizer(input_text, return_tensors=\"pt\").to(device)\n",
    "input_ids\n",
    "\n",
    "outputs = gemma.generate(**input_ids, max_new_tokens=200)\n",
    "print(tokenizer.decode(outputs[0]))"
   ],
   "id": "4869cf8b21256080",
   "outputs": [
    {
     "name": "stderr",
     "output_type": "stream",
     "text": [
      "C:\\Users\\USER\\PycharmProjects\\Python3.11.9\\pythonProject\\.venv\\Lib\\site-packages\\transformers\\models\\gemma\\modeling_gemma.py:540: UserWarning: 1Torch was not compiled with flash attention. (Triggered internally at C:\\actions-runner\\_work\\pytorch\\pytorch\\builder\\windows\\pytorch\\aten\\src\\ATen\\native\\transformers\\cuda\\sdp_utils.cpp:555.)\n",
      "  attn_output = torch.nn.functional.scaled_dot_product_attention(\n"
     ]
    },
    {
     "name": "stdout",
     "output_type": "stream",
     "text": [
      "<bos>Give me three best book.\n",
      "\n",
      "Answer:\n",
      "\n",
      "1. The Great Gatsby\n",
      "2. The Catcher in the Rye\n",
      "3. The Grapes of Wrath<eos>\n"
     ]
    }
   ],
   "execution_count": 7
  },
  {
   "metadata": {
    "ExecuteTime": {
     "end_time": "2024-09-22T19:29:52.461883Z",
     "start_time": "2024-09-22T19:29:52.456391Z"
    }
   },
   "cell_type": "code",
   "source": [
    "class Generator(nn.Module):\n",
    "    def __init__(self):\n",
    "        super(Generator, self).__init__()\n",
    "        self.self_att = nn.MultiheadAttention(768, 1)\n",
    "        self.multi_att = nn.MultiheadAttention(768, 8)\n",
    "        self.layer_norm = nn.LayerNorm(768)\n",
    "        self.linear = nn.Linear(768, 768)\n",
    "        self.linearOut = nn.Linear(768, 1)\n",
    "        self.gemma = AutoModelForCausalLM.from_pretrained(\"google/gemma-2b\", device_map=\"auto\",  torch_dtype=torch.bfloat16)\n",
    "    \n",
    "    def selfAttention(self, x):\n",
    "        self_out,_ = self.self_att(x, x, x)\n",
    "        self_out = self.layer_norm(self_out + x)\n",
    "        return self_out\n",
    "    \n",
    "    def multiheadAttention(self, x):\n",
    "        multi_out,_ = self.multi_att(x, x, x)\n",
    "        multi_out = self.linear(multi_out)\n",
    "        multi_out = self.layer_norm(multi_out + x)\n",
    "        return multi_out\n",
    "    \n",
    "    def coAttention(self, x, y):\n",
    "        # x: self, y: another\n",
    "        co_out,_ = self.multi_att(x, y, y)\n",
    "        co_out = self.linear(co_out)\n",
    "        co_out = self.layer_norm(co_out + y)\n",
    "        return co_out\n",
    "    \n",
    "    def feedForward(self, x):\n",
    "        ff_out = self.linear(x)\n",
    "        ff_out = self.layer_norm(ff_out + x)\n",
    "        return ff_out\n",
    "    \n",
    "    def gemmaGenerate(self, x, max_new_tokens):\n",
    "        with torch.no_grad():\n",
    "            all_output = []\n",
    "            print(x.shape[0])\n",
    "            for i in range(x.shape[0]):\n",
    "                print(x[i])\n",
    "                output = self.gemma.generate(x[i][0], max_new_tokens= max_new_tokens)\n",
    "                all_output.append(output)\n",
    "        return torch.tensor(all_output)\n",
    "               \n",
    "    \n",
    "    def forward(self, text, image):\n",
    "        max_seq_len = max(text.shape[1], image.shape[1])\n",
    "        text = nn.functional.pad(text, (0, 0, 0, max_seq_len - text.shape[1]))\n",
    "        image = nn.functional.pad(image, (0, 0, 0, max_seq_len - image.shape[1]))\n",
    "        text = text.transpose(0, 1)\n",
    "        image = image.transpose(0, 1)\n",
    "        \n",
    "        text = self.selfAttention(text)\n",
    "        text = self.feedForward(text)\n",
    "        \n",
    "        image = self.multiheadAttention(image)\n",
    "        \n",
    "        text = self.coAttention(text, image)\n",
    "        image = self.coAttention(image, text)\n",
    "        \n",
    "        output = text + image\n",
    "        output = self.feedForward(output)\n",
    "        output = self.linearOut(output)\n",
    "        output = output.squeeze(-1)\n",
    "        output = output.transpose(0, 1).long()\n",
    "        output = self.gemmaGenerate(output, 200)\n",
    "        print(output.shape)\n",
    "        # output = output.squeeze(-1)\n",
    "        # output = output.transpose(0, 1).long()\n",
    "        # print(output.shape)\n",
    "        # output = output.reshape(32, -1)\n",
    "        # print(output.shape)\n",
    "        # output = self.gemma1(output)\n",
    "        # output = self.gemma2(output)\n",
    "        # print(output.shape)\n",
    "        return output"
   ],
   "id": "6df9340e53bfbe2a",
   "outputs": [],
   "execution_count": 58
  },
  {
   "metadata": {
    "ExecuteTime": {
     "end_time": "2024-09-22T19:29:59.366917Z",
     "start_time": "2024-09-22T19:29:52.874287Z"
    }
   },
   "cell_type": "code",
   "source": [
    "model = Generator()\n",
    "optimizer = optim.Adam(model.parameters(), lr=0.001)\n",
    "device = torch.device(\"cuda\" if torch.cuda.is_available() else \"cpu\")\n",
    "model.to(device)\n",
    "gemma.to(device)\n",
    "model"
   ],
   "id": "bfd7b3c0683d760f",
   "outputs": [
    {
     "name": "stderr",
     "output_type": "stream",
     "text": [
      "C:\\Users\\USER\\PycharmProjects\\Python3.11.9\\pythonProject\\.venv\\Lib\\site-packages\\accelerate\\utils\\modeling.py:1405: UserWarning: Current model requires 4608 bytes of buffer for offloaded layers, which seems does not fit any GPU's remaining memory. If you are experiencing a OOM later, please consider using offload_buffers=True.\n",
      "  warnings.warn(\n"
     ]
    },
    {
     "data": {
      "text/plain": [
       "Loading checkpoint shards:   0%|          | 0/2 [00:00<?, ?it/s]"
      ],
      "application/vnd.jupyter.widget-view+json": {
       "version_major": 2,
       "version_minor": 0,
       "model_id": "4a676124c2f94d10863a486275ed351c"
      }
     },
     "metadata": {},
     "output_type": "display_data"
    },
    {
     "data": {
      "text/plain": [
       "Generator(\n",
       "  (self_att): MultiheadAttention(\n",
       "    (out_proj): NonDynamicallyQuantizableLinear(in_features=768, out_features=768, bias=True)\n",
       "  )\n",
       "  (multi_att): MultiheadAttention(\n",
       "    (out_proj): NonDynamicallyQuantizableLinear(in_features=768, out_features=768, bias=True)\n",
       "  )\n",
       "  (layer_norm): LayerNorm((768,), eps=1e-05, elementwise_affine=True)\n",
       "  (linear): Linear(in_features=768, out_features=768, bias=True)\n",
       "  (linearOut): Linear(in_features=768, out_features=1, bias=True)\n",
       "  (gemma): GemmaForCausalLM(\n",
       "    (model): GemmaModel(\n",
       "      (embed_tokens): Embedding(256000, 2048, padding_idx=0)\n",
       "      (layers): ModuleList(\n",
       "        (0-17): 18 x GemmaDecoderLayer(\n",
       "          (self_attn): GemmaSdpaAttention(\n",
       "            (q_proj): Linear(in_features=2048, out_features=2048, bias=False)\n",
       "            (k_proj): Linear(in_features=2048, out_features=256, bias=False)\n",
       "            (v_proj): Linear(in_features=2048, out_features=256, bias=False)\n",
       "            (o_proj): Linear(in_features=2048, out_features=2048, bias=False)\n",
       "            (rotary_emb): GemmaRotaryEmbedding()\n",
       "          )\n",
       "          (mlp): GemmaMLP(\n",
       "            (gate_proj): Linear(in_features=2048, out_features=16384, bias=False)\n",
       "            (up_proj): Linear(in_features=2048, out_features=16384, bias=False)\n",
       "            (down_proj): Linear(in_features=16384, out_features=2048, bias=False)\n",
       "            (act_fn): PytorchGELUTanh()\n",
       "          )\n",
       "          (input_layernorm): GemmaRMSNorm((2048,), eps=1e-06)\n",
       "          (post_attention_layernorm): GemmaRMSNorm((2048,), eps=1e-06)\n",
       "        )\n",
       "      )\n",
       "      (norm): GemmaRMSNorm((2048,), eps=1e-06)\n",
       "    )\n",
       "    (lm_head): Linear(in_features=2048, out_features=256000, bias=False)\n",
       "  )\n",
       ")"
      ]
     },
     "execution_count": 59,
     "metadata": {},
     "output_type": "execute_result"
    }
   ],
   "execution_count": 59
  },
  {
   "metadata": {
    "ExecuteTime": {
     "end_time": "2024-09-22T19:29:59.434776Z",
     "start_time": "2024-09-22T19:29:59.431892Z"
    }
   },
   "cell_type": "code",
   "source": [
    "a = torch.randn(2,3)\n",
    "a[0]"
   ],
   "id": "70e395d70ba7e8a8",
   "outputs": [
    {
     "data": {
      "text/plain": [
       "tensor([1.0475, 0.3529, 0.8324])"
      ]
     },
     "execution_count": 60,
     "metadata": {},
     "output_type": "execute_result"
    }
   ],
   "execution_count": 60
  },
  {
   "metadata": {
    "ExecuteTime": {
     "end_time": "2024-09-22T19:30:01.244644Z",
     "start_time": "2024-09-22T19:29:59.519077Z"
    }
   },
   "cell_type": "code",
   "source": [
    "epochs = 10\n",
    "train_losses = []\n",
    "test_losses = []\n",
    "for epoch in range(epochs):\n",
    "    train_loss = 0\n",
    "    test_loss = 0\n",
    "    with tqdm(train_loader, unit=\"batch\") as tepoch:\n",
    "        for text, image, funny_score in tepoch:\n",
    "            optimizer.zero_grad()\n",
    "            output = model(text.to(device).to(torch.float32), image.to(device).to(torch.float32))\n",
    "            # output = gemma.generate(**temp_output, max_new_tokens=200)\n",
    "            # print(output)\n",
    "\n",
    "    #         loss = criterion(output, funny_score)\n",
    "    #         loss.backward()\n",
    "    #         optimizer.step()\n",
    "    #         train_loss += loss.item()\n",
    "    #         tepoch.set_postfix(loss=train_loss)\n",
    "    # train_losses.append(train_loss)\n",
    "    # with tqdm(test_loader, unit=\"batch\") as tepoch:\n",
    "    #     for text, image, funny_score in tepoch:\n",
    "    #         output = model(text, image)\n",
    "    #         loss = criterion(output, funny_score)\n",
    "    #         test_loss += loss.item()\n",
    "    #         tepoch.set_postfix(loss=test_loss)\n",
    "    # test_losses.append(test_loss)"
   ],
   "id": "8418eb4f49f3759b",
   "outputs": [
    {
     "name": "stderr",
     "output_type": "stream",
     "text": [
      "  0%|          | 0/10 [00:01<?, ?batch/s]"
     ]
    },
    {
     "name": "stdout",
     "output_type": "stream",
     "text": [
      "32\n",
      "tensor([0, 0, 0, 0, 0, 0, 0, 0, 0, 0, 0, 0, 0, 0, 0, 0, 0, 0, 0, 0, 0, 0, 0, 0,\n",
      "        0, 0, 0, 0, 0, 0, 0, 0, 0, 0, 0, 0, 0, 0, 0, 0, 0, 0, 0, 0, 0, 0, 0, 0,\n",
      "        0, 0, 0, 0, 0, 0, 0, 0, 0, 0, 0, 0, 0, 0, 0, 0, 0, 0, 0, 0, 0, 0, 0, 0,\n",
      "        0, 0, 0, 0, 0, 0, 0, 0, 0, 0, 0, 0, 0, 0, 0, 0, 0, 0, 0, 0, 0, 0, 0, 0,\n",
      "        0, 0, 0, 0, 0, 0, 0, 0, 0, 0, 0, 0, 0, 0, 0, 0, 0, 0, 0, 0, 0, 0, 0, 0,\n",
      "        0, 0, 0, 0, 0, 0, 0, 0, 0, 0, 0, 0, 0, 0, 0, 0, 0, 0, 0, 0, 0, 0, 0, 0,\n",
      "        0, 0, 0, 0, 0, 0, 0, 0, 0, 0, 0, 0, 0, 0, 0, 0, 0, 0, 0, 0, 0, 0, 0, 0,\n",
      "        0, 0, 0, 0, 0, 0, 0, 0, 0, 0, 0, 0, 0, 0, 0, 0, 0, 0, 0, 0, 0, 0, 0, 0,\n",
      "        0, 0, 0, 0, 0, 0, 0, 0, 0, 0, 0, 0, 0, 0, 0, 0, 0, 0, 0, 0, 0, 0, 0, 0,\n",
      "        0, 0, 0, 0, 0, 0, 0, 0, 0, 0, 0, 0, 0, 0, 0, 0, 0, 0, 0, 0, 0, 0, 0, 0,\n",
      "        0, 0, 0, 0, 0, 0, 0, 0, 0, 0, 0, 0, 0, 0, 0, 0, 0, 0, 0, 0, 0, 0, 0, 0,\n",
      "        0, 0, 0, 0, 0, 0, 0, 0, 0, 0, 0, 0, 0, 0, 0, 0, 0, 0, 0, 0, 0, 0, 0, 0,\n",
      "        0, 0, 0, 0, 0, 0, 0, 0, 0, 0, 0, 0, 0, 0, 0, 0, 0, 0, 0, 0, 0, 0, 0, 0,\n",
      "        0, 0, 0, 0, 0, 0, 0, 0, 0, 0, 0, 0, 0, 0, 0, 0, 0, 0, 0, 0, 0, 0, 0, 0,\n",
      "        0, 0, 0, 0, 0, 0, 0, 0, 0, 0, 0, 0, 0, 0, 0, 0, 0, 0, 0, 0, 0, 0, 0, 0,\n",
      "        0, 0, 0, 0, 0, 0, 0, 0, 0, 0, 0, 0, 0], device='cuda:0')\n"
     ]
    },
    {
     "name": "stderr",
     "output_type": "stream",
     "text": [
      "\n"
     ]
    },
    {
     "ename": "IndexError",
     "evalue": "tuple index out of range",
     "output_type": "error",
     "traceback": [
      "\u001B[1;31m---------------------------------------------------------------------------\u001B[0m",
      "\u001B[1;31mIndexError\u001B[0m                                Traceback (most recent call last)",
      "Cell \u001B[1;32mIn[61], line 10\u001B[0m\n\u001B[0;32m      8\u001B[0m     \u001B[38;5;28;01mfor\u001B[39;00m text, image, funny_score \u001B[38;5;129;01min\u001B[39;00m tepoch:\n\u001B[0;32m      9\u001B[0m         optimizer\u001B[38;5;241m.\u001B[39mzero_grad()\n\u001B[1;32m---> 10\u001B[0m         output \u001B[38;5;241m=\u001B[39m \u001B[43mmodel\u001B[49m\u001B[43m(\u001B[49m\u001B[43mtext\u001B[49m\u001B[38;5;241;43m.\u001B[39;49m\u001B[43mto\u001B[49m\u001B[43m(\u001B[49m\u001B[43mdevice\u001B[49m\u001B[43m)\u001B[49m\u001B[38;5;241;43m.\u001B[39;49m\u001B[43mto\u001B[49m\u001B[43m(\u001B[49m\u001B[43mtorch\u001B[49m\u001B[38;5;241;43m.\u001B[39;49m\u001B[43mfloat32\u001B[49m\u001B[43m)\u001B[49m\u001B[43m,\u001B[49m\u001B[43m \u001B[49m\u001B[43mimage\u001B[49m\u001B[38;5;241;43m.\u001B[39;49m\u001B[43mto\u001B[49m\u001B[43m(\u001B[49m\u001B[43mdevice\u001B[49m\u001B[43m)\u001B[49m\u001B[38;5;241;43m.\u001B[39;49m\u001B[43mto\u001B[49m\u001B[43m(\u001B[49m\u001B[43mtorch\u001B[49m\u001B[38;5;241;43m.\u001B[39;49m\u001B[43mfloat32\u001B[49m\u001B[43m)\u001B[49m\u001B[43m)\u001B[49m\n\u001B[0;32m     11\u001B[0m         \u001B[38;5;66;03m# output = gemma.generate(**temp_output, max_new_tokens=200)\u001B[39;00m\n\u001B[0;32m     12\u001B[0m         \u001B[38;5;66;03m# print(output)\u001B[39;00m\n\u001B[0;32m     13\u001B[0m \n\u001B[1;32m   (...)\u001B[0m\n\u001B[0;32m     25\u001B[0m \u001B[38;5;66;03m#         tepoch.set_postfix(loss=test_loss)\u001B[39;00m\n\u001B[0;32m     26\u001B[0m \u001B[38;5;66;03m# test_losses.append(test_loss)\u001B[39;00m\n",
      "File \u001B[1;32m~\\PycharmProjects\\Python3.11.9\\pythonProject\\.venv\\Lib\\site-packages\\torch\\nn\\modules\\module.py:1553\u001B[0m, in \u001B[0;36mModule._wrapped_call_impl\u001B[1;34m(self, *args, **kwargs)\u001B[0m\n\u001B[0;32m   1551\u001B[0m     \u001B[38;5;28;01mreturn\u001B[39;00m \u001B[38;5;28mself\u001B[39m\u001B[38;5;241m.\u001B[39m_compiled_call_impl(\u001B[38;5;241m*\u001B[39margs, \u001B[38;5;241m*\u001B[39m\u001B[38;5;241m*\u001B[39mkwargs)  \u001B[38;5;66;03m# type: ignore[misc]\u001B[39;00m\n\u001B[0;32m   1552\u001B[0m \u001B[38;5;28;01melse\u001B[39;00m:\n\u001B[1;32m-> 1553\u001B[0m     \u001B[38;5;28;01mreturn\u001B[39;00m \u001B[38;5;28;43mself\u001B[39;49m\u001B[38;5;241;43m.\u001B[39;49m\u001B[43m_call_impl\u001B[49m\u001B[43m(\u001B[49m\u001B[38;5;241;43m*\u001B[39;49m\u001B[43margs\u001B[49m\u001B[43m,\u001B[49m\u001B[43m \u001B[49m\u001B[38;5;241;43m*\u001B[39;49m\u001B[38;5;241;43m*\u001B[39;49m\u001B[43mkwargs\u001B[49m\u001B[43m)\u001B[49m\n",
      "File \u001B[1;32m~\\PycharmProjects\\Python3.11.9\\pythonProject\\.venv\\Lib\\site-packages\\torch\\nn\\modules\\module.py:1562\u001B[0m, in \u001B[0;36mModule._call_impl\u001B[1;34m(self, *args, **kwargs)\u001B[0m\n\u001B[0;32m   1557\u001B[0m \u001B[38;5;66;03m# If we don't have any hooks, we want to skip the rest of the logic in\u001B[39;00m\n\u001B[0;32m   1558\u001B[0m \u001B[38;5;66;03m# this function, and just call forward.\u001B[39;00m\n\u001B[0;32m   1559\u001B[0m \u001B[38;5;28;01mif\u001B[39;00m \u001B[38;5;129;01mnot\u001B[39;00m (\u001B[38;5;28mself\u001B[39m\u001B[38;5;241m.\u001B[39m_backward_hooks \u001B[38;5;129;01mor\u001B[39;00m \u001B[38;5;28mself\u001B[39m\u001B[38;5;241m.\u001B[39m_backward_pre_hooks \u001B[38;5;129;01mor\u001B[39;00m \u001B[38;5;28mself\u001B[39m\u001B[38;5;241m.\u001B[39m_forward_hooks \u001B[38;5;129;01mor\u001B[39;00m \u001B[38;5;28mself\u001B[39m\u001B[38;5;241m.\u001B[39m_forward_pre_hooks\n\u001B[0;32m   1560\u001B[0m         \u001B[38;5;129;01mor\u001B[39;00m _global_backward_pre_hooks \u001B[38;5;129;01mor\u001B[39;00m _global_backward_hooks\n\u001B[0;32m   1561\u001B[0m         \u001B[38;5;129;01mor\u001B[39;00m _global_forward_hooks \u001B[38;5;129;01mor\u001B[39;00m _global_forward_pre_hooks):\n\u001B[1;32m-> 1562\u001B[0m     \u001B[38;5;28;01mreturn\u001B[39;00m \u001B[43mforward_call\u001B[49m\u001B[43m(\u001B[49m\u001B[38;5;241;43m*\u001B[39;49m\u001B[43margs\u001B[49m\u001B[43m,\u001B[49m\u001B[43m \u001B[49m\u001B[38;5;241;43m*\u001B[39;49m\u001B[38;5;241;43m*\u001B[39;49m\u001B[43mkwargs\u001B[49m\u001B[43m)\u001B[49m\n\u001B[0;32m   1564\u001B[0m \u001B[38;5;28;01mtry\u001B[39;00m:\n\u001B[0;32m   1565\u001B[0m     result \u001B[38;5;241m=\u001B[39m \u001B[38;5;28;01mNone\u001B[39;00m\n",
      "Cell \u001B[1;32mIn[58], line 65\u001B[0m, in \u001B[0;36mGenerator.forward\u001B[1;34m(self, text, image)\u001B[0m\n\u001B[0;32m     63\u001B[0m output \u001B[38;5;241m=\u001B[39m output\u001B[38;5;241m.\u001B[39msqueeze(\u001B[38;5;241m-\u001B[39m\u001B[38;5;241m1\u001B[39m)\n\u001B[0;32m     64\u001B[0m output \u001B[38;5;241m=\u001B[39m output\u001B[38;5;241m.\u001B[39mtranspose(\u001B[38;5;241m0\u001B[39m, \u001B[38;5;241m1\u001B[39m)\u001B[38;5;241m.\u001B[39mlong()\n\u001B[1;32m---> 65\u001B[0m output \u001B[38;5;241m=\u001B[39m \u001B[38;5;28;43mself\u001B[39;49m\u001B[38;5;241;43m.\u001B[39;49m\u001B[43mgemmaGenerate\u001B[49m\u001B[43m(\u001B[49m\u001B[43moutput\u001B[49m\u001B[43m,\u001B[49m\u001B[43m \u001B[49m\u001B[38;5;241;43m200\u001B[39;49m\u001B[43m)\u001B[49m\n\u001B[0;32m     66\u001B[0m \u001B[38;5;28mprint\u001B[39m(output\u001B[38;5;241m.\u001B[39mshape)\n\u001B[0;32m     67\u001B[0m \u001B[38;5;66;03m# output = output.squeeze(-1)\u001B[39;00m\n\u001B[0;32m     68\u001B[0m \u001B[38;5;66;03m# output = output.transpose(0, 1).long()\u001B[39;00m\n\u001B[0;32m     69\u001B[0m \u001B[38;5;66;03m# print(output.shape)\u001B[39;00m\n\u001B[1;32m   (...)\u001B[0m\n\u001B[0;32m     73\u001B[0m \u001B[38;5;66;03m# output = self.gemma2(output)\u001B[39;00m\n\u001B[0;32m     74\u001B[0m \u001B[38;5;66;03m# print(output.shape)\u001B[39;00m\n",
      "Cell \u001B[1;32mIn[58], line 40\u001B[0m, in \u001B[0;36mGenerator.gemmaGenerate\u001B[1;34m(self, x, max_new_tokens)\u001B[0m\n\u001B[0;32m     38\u001B[0m     \u001B[38;5;28;01mfor\u001B[39;00m i \u001B[38;5;129;01min\u001B[39;00m \u001B[38;5;28mrange\u001B[39m(x\u001B[38;5;241m.\u001B[39mshape[\u001B[38;5;241m0\u001B[39m]):\n\u001B[0;32m     39\u001B[0m         \u001B[38;5;28mprint\u001B[39m(x[i])\n\u001B[1;32m---> 40\u001B[0m         output \u001B[38;5;241m=\u001B[39m \u001B[38;5;28;43mself\u001B[39;49m\u001B[38;5;241;43m.\u001B[39;49m\u001B[43mgemma\u001B[49m\u001B[38;5;241;43m.\u001B[39;49m\u001B[43mgenerate\u001B[49m\u001B[43m(\u001B[49m\u001B[43mx\u001B[49m\u001B[43m[\u001B[49m\u001B[43mi\u001B[49m\u001B[43m]\u001B[49m\u001B[43m[\u001B[49m\u001B[38;5;241;43m0\u001B[39;49m\u001B[43m]\u001B[49m\u001B[43m,\u001B[49m\u001B[43m \u001B[49m\u001B[43mmax_new_tokens\u001B[49m\u001B[38;5;241;43m=\u001B[39;49m\u001B[43m \u001B[49m\u001B[43mmax_new_tokens\u001B[49m\u001B[43m)\u001B[49m\n\u001B[0;32m     41\u001B[0m         all_output\u001B[38;5;241m.\u001B[39mappend(output)\n\u001B[0;32m     42\u001B[0m \u001B[38;5;28;01mreturn\u001B[39;00m torch\u001B[38;5;241m.\u001B[39mtensor(all_output)\n",
      "File \u001B[1;32m~\\PycharmProjects\\Python3.11.9\\pythonProject\\.venv\\Lib\\site-packages\\torch\\utils\\_contextlib.py:116\u001B[0m, in \u001B[0;36mcontext_decorator.<locals>.decorate_context\u001B[1;34m(*args, **kwargs)\u001B[0m\n\u001B[0;32m    113\u001B[0m \u001B[38;5;129m@functools\u001B[39m\u001B[38;5;241m.\u001B[39mwraps(func)\n\u001B[0;32m    114\u001B[0m \u001B[38;5;28;01mdef\u001B[39;00m \u001B[38;5;21mdecorate_context\u001B[39m(\u001B[38;5;241m*\u001B[39margs, \u001B[38;5;241m*\u001B[39m\u001B[38;5;241m*\u001B[39mkwargs):\n\u001B[0;32m    115\u001B[0m     \u001B[38;5;28;01mwith\u001B[39;00m ctx_factory():\n\u001B[1;32m--> 116\u001B[0m         \u001B[38;5;28;01mreturn\u001B[39;00m \u001B[43mfunc\u001B[49m\u001B[43m(\u001B[49m\u001B[38;5;241;43m*\u001B[39;49m\u001B[43margs\u001B[49m\u001B[43m,\u001B[49m\u001B[43m \u001B[49m\u001B[38;5;241;43m*\u001B[39;49m\u001B[38;5;241;43m*\u001B[39;49m\u001B[43mkwargs\u001B[49m\u001B[43m)\u001B[49m\n",
      "File \u001B[1;32m~\\PycharmProjects\\Python3.11.9\\pythonProject\\.venv\\Lib\\site-packages\\transformers\\generation\\utils.py:1710\u001B[0m, in \u001B[0;36mGenerationMixin.generate\u001B[1;34m(self, inputs, generation_config, logits_processor, stopping_criteria, prefix_allowed_tokens_fn, synced_gpus, assistant_model, streamer, negative_prompt_ids, negative_prompt_attention_mask, **kwargs)\u001B[0m\n\u001B[0;32m   1706\u001B[0m \u001B[38;5;66;03m# 3. Define model inputs\u001B[39;00m\n\u001B[0;32m   1707\u001B[0m inputs_tensor, model_input_name, model_kwargs \u001B[38;5;241m=\u001B[39m \u001B[38;5;28mself\u001B[39m\u001B[38;5;241m.\u001B[39m_prepare_model_inputs(\n\u001B[0;32m   1708\u001B[0m     inputs, generation_config\u001B[38;5;241m.\u001B[39mbos_token_id, model_kwargs\n\u001B[0;32m   1709\u001B[0m )\n\u001B[1;32m-> 1710\u001B[0m batch_size \u001B[38;5;241m=\u001B[39m \u001B[43minputs_tensor\u001B[49m\u001B[38;5;241;43m.\u001B[39;49m\u001B[43mshape\u001B[49m\u001B[43m[\u001B[49m\u001B[38;5;241;43m0\u001B[39;49m\u001B[43m]\u001B[49m\n\u001B[0;32m   1712\u001B[0m device \u001B[38;5;241m=\u001B[39m inputs_tensor\u001B[38;5;241m.\u001B[39mdevice\n\u001B[0;32m   1713\u001B[0m \u001B[38;5;28mself\u001B[39m\u001B[38;5;241m.\u001B[39m_prepare_special_tokens(generation_config, kwargs_has_attention_mask, device\u001B[38;5;241m=\u001B[39mdevice)\n",
      "\u001B[1;31mIndexError\u001B[0m: tuple index out of range"
     ]
    }
   ],
   "execution_count": 61
  },
  {
   "metadata": {
    "ExecuteTime": {
     "end_time": "2024-09-22T19:04:36.684018Z",
     "start_time": "2024-09-22T19:04:36.680297Z"
    }
   },
   "cell_type": "code",
   "source": [
    "output.shape\n",
    "# temp = temp_output.transpose(0, 1)[1]\n",
    "# temp.shape"
   ],
   "id": "7cd08c7031df1f0a",
   "outputs": [
    {
     "data": {
      "text/plain": [
       "torch.Size([32, 373])"
      ]
     },
     "execution_count": 39,
     "metadata": {},
     "output_type": "execute_result"
    }
   ],
   "execution_count": 39
  },
  {
   "metadata": {
    "ExecuteTime": {
     "end_time": "2024-09-20T08:26:24.102659Z",
     "start_time": "2024-09-20T08:26:24.092304Z"
    }
   },
   "cell_type": "code",
   "source": "temp",
   "id": "1d390033fd6f1f03",
   "outputs": [
    {
     "data": {
      "text/plain": [
       "tensor([[ 0.639444649219513],\n",
       "        [ 0.645720303058624],\n",
       "        [ 0.632481873035431],\n",
       "        [ 0.439957946538925],\n",
       "        [ 0.508315026760101],\n",
       "        [ 0.611480295658112],\n",
       "        [ 0.575025856494904],\n",
       "        [ 0.638554513454437],\n",
       "        [ 0.545290052890778],\n",
       "        [-0.294346719980240],\n",
       "        [-0.652767658233643],\n",
       "        [-0.837707340717316],\n",
       "        [-1.048079013824463],\n",
       "        [-0.468097448348999],\n",
       "        [-0.354525029659271],\n",
       "        [ 0.574068844318390],\n",
       "        [-0.446700125932693],\n",
       "        [-0.169422537088394],\n",
       "        [-0.363713234663010],\n",
       "        [-0.916093885898590],\n",
       "        [-0.805513679981232],\n",
       "        [-0.657463848590851],\n",
       "        [ 0.152350604534149],\n",
       "        [-0.206516295671463],\n",
       "        [ 0.034146703779697],\n",
       "        [-0.815440118312836],\n",
       "        [-0.486833393573761],\n",
       "        [-0.361155211925507],\n",
       "        [-0.318530976772308],\n",
       "        [-0.699815869331360],\n",
       "        [-1.000678300857544],\n",
       "        [ 0.249535590410233],\n",
       "        [ 0.505719900131226],\n",
       "        [ 0.159278362989426],\n",
       "        [ 0.612942039966583],\n",
       "        [ 0.021958105266094],\n",
       "        [ 0.219809025526047],\n",
       "        [ 0.469693958759308],\n",
       "        [ 0.272208452224731],\n",
       "        [ 0.600523650646210],\n",
       "        [ 0.537783265113831],\n",
       "        [ 0.778649151325226],\n",
       "        [ 0.490302324295044],\n",
       "        [ 0.494720816612244],\n",
       "        [ 0.327162683010101],\n",
       "        [ 0.725462436676025],\n",
       "        [ 0.889340102672577],\n",
       "        [ 0.811648666858673],\n",
       "        [ 0.585867404937744],\n",
       "        [ 0.815526902675629],\n",
       "        [ 0.870906412601471],\n",
       "        [ 0.678377568721771],\n",
       "        [ 0.833839774131775],\n",
       "        [ 0.791332185268402],\n",
       "        [ 0.739545404911041],\n",
       "        [ 0.625008642673492],\n",
       "        [ 0.659301817417145],\n",
       "        [ 0.525736272335052],\n",
       "        [ 0.503357052803040],\n",
       "        [ 0.630461275577545],\n",
       "        [ 0.589496552944183],\n",
       "        [ 0.629877388477325],\n",
       "        [ 0.543713986873627],\n",
       "        [ 0.672318279743195]], device='cuda:0', grad_fn=<SelectBackward0>)"
      ]
     },
     "execution_count": 106,
     "metadata": {},
     "output_type": "execute_result"
    }
   ],
   "execution_count": 106
  },
  {
   "metadata": {
    "ExecuteTime": {
     "end_time": "2024-09-20T08:26:05.954097Z",
     "start_time": "2024-09-20T08:26:05.944625Z"
    }
   },
   "cell_type": "code",
   "source": [
    "temp\n",
    "decoded_token_ids = embeddings_to_tokens(temp.to(device), text_embedding.to(device))\n",
    "print(decoded_token_ids)\n",
    "emoji = tokenizer_emoji.decode(decoded_token_ids.tolist())\n",
    "emoji"
   ],
   "id": "33c81e294798f392",
   "outputs": [
    {
     "name": "stdout",
     "output_type": "stream",
     "text": [
      "tensor([0, 0, 0, 0, 0, 0, 0, 0, 0, 4, 4, 4, 4, 4, 4, 0, 4, 4, 4, 4, 4, 4, 0, 4,\n",
      "        0, 4, 4, 4, 4, 4, 4, 0, 0, 0, 0, 0, 0, 0, 0, 0, 0, 0, 0, 0, 0, 0, 0, 0,\n",
      "        0, 0, 0, 0, 0, 0, 0, 0, 0, 0, 0, 0, 0, 0, 0, 0], device='cuda:0')\n"
     ]
    },
    {
     "data": {
      "text/plain": [
       "'<s><s><s><s><s><s><s><s><s>......<s>......<s>.<s>......<s><s><s><s><s><s><s><s><s><s><s><s><s><s><s><s><s><s><s><s><s><s><s><s><s><s><s><s><s><s><s><s><s>'"
      ]
     },
     "execution_count": 105,
     "metadata": {},
     "output_type": "execute_result"
    }
   ],
   "execution_count": 105
  },
  {
   "metadata": {
    "ExecuteTime": {
     "end_time": "2024-09-19T21:43:14.370326Z",
     "start_time": "2024-09-19T21:43:11.409458Z"
    }
   },
   "cell_type": "code",
   "source": [
    "def tensor_to_text(tensor):\n",
    "    # 將 tensor 轉換為 list，然後轉換為一個字符串\n",
    "    tensor_list = tensor.tolist()\n",
    "    tensor_text = str(tensor_list)\n",
    "    return tensor_text\n",
    "\n",
    "input_text = tensor_to_text(temp)\n",
    "\n",
    "gemma.to(device)\n",
    "input_ids = tokenizer(input_text, return_tensors=\"pt\").to(device)\n",
    "input_ids.to(device)\n",
    "outputs = gemma.generate(**input_ids, max_new_tokens=200)\n",
    "emoji_output = tokenizer.decode(outputs[0], skip_special_tokens=True)\n",
    "emoji_output\n"
   ],
   "id": "6a9e8a18279bf688",
   "outputs": [
    {
     "data": {
      "text/plain": [
       "'[[0.6394446492195129], [0.6457203030586243], [0.6324818730354309], [0.43995794653892517], [0.5083150267601013], [0.6114802956581116], [0.5750258564949036], [0.6385545134544373], [0.5452900528907776], [-0.29434671998023987], [-0.6527676582336426], [-0.8377073407173157], [-1.048079013824463], [-0.468097448348999], [-0.35452502965927124], [0.5740688443183899], [-0.4467001259326935], [-0.16942253708839417], [-0.36371323466300964], [-0.9160938858985901], [-0.8055136799812317], [-0.6574638485908508], [0.15235060453414917], [-0.206516295671463], [0.03414670377969742], [-0.8154401183128357], [-0.486833393573761], [-0.3611552119255066], [-0.31853097677230835], [-0.6998158693313599], [-1.000678300857544], [0.24953559041023254], [0.5057199001312256], [0.15927836298942566], [0.6129420399665833], [0.021958105266094208], [0.21980902552604675], [0.46969395875930786], [0.27220845222473145], [0.6005236506462097], [0.5377832651138306], [0.7786491513252258], [0.49030232429504395], [0.49472081661224365], [0.3271626830101013], [0.7254624366760254], [0.8893401026725769], [0.8116486668586731], [0.5858674049377441], [0.8155269026756287], [0.870906412601471], [0.6783775687217712], [0.8338397741317749], [0.7913321852684021], [0.7395454049110413], [0.6250086426734924], [0.6593018174171448], [0.5257362723350525], [0.5033570528030396], [0.6304612755775452], [0.5894965529441833], [0.6298773884773254], [0.5437139868736267], [0.6723182797431946]]\\n[[0.6394446492195129], [0.6457203030586243], [0.6324818730354309], [0.43995794653892517], [0.5083150267601013], [0.6114802956581116], [0.5750258564949036], [0.6385545134544373], [0.5452900528907776], [-0.294346719980239'"
      ]
     },
     "execution_count": 53,
     "metadata": {},
     "output_type": "execute_result"
    }
   ],
   "execution_count": 53
  },
  {
   "metadata": {
    "ExecuteTime": {
     "end_time": "2024-09-19T22:05:38.025454Z",
     "start_time": "2024-09-19T22:05:38.021695Z"
    }
   },
   "cell_type": "code",
   "source": [
    "str_temp = emoji_output.split(\"\\n\")\n",
    "for i in range(len(str_temp)):\n",
    "    str_temp[i] = str_temp[i].split(\",\")\n",
    "#remove the last element\n",
    "for i in range(len(str_temp)):\n",
    "    for j in range(len(str_temp[i])):\n",
    "        str_temp[i][j] = float(str_temp[i][j].replace(\"[\", \"\").replace(\"]\", \"\").replace(\" \", \"\"))\n",
    "    \n",
    "    # if i == len(str_temp) - 1:\n",
    "    #     str_temp[i] = str_temp[i][:-1]\n",
    "    # else:\n",
    "    #     str_temp[i] = str_temp[i]\n",
    "tensor = torch.tensor(str_temp[0])"
   ],
   "id": "e66c61518eb3787b",
   "outputs": [],
   "execution_count": 93
  },
  {
   "metadata": {
    "ExecuteTime": {
     "end_time": "2024-09-20T08:22:43.381965Z",
     "start_time": "2024-09-20T08:22:43.378226Z"
    }
   },
   "cell_type": "code",
   "source": "str_temp[0]",
   "id": "d21eca7e105955e5",
   "outputs": [
    {
     "data": {
      "text/plain": [
       "[0.6394446492195129,\n",
       " 0.6457203030586243,\n",
       " 0.6324818730354309,\n",
       " 0.43995794653892517,\n",
       " 0.5083150267601013,\n",
       " 0.6114802956581116,\n",
       " 0.5750258564949036,\n",
       " 0.6385545134544373,\n",
       " 0.5452900528907776,\n",
       " -0.29434671998023987,\n",
       " -0.6527676582336426,\n",
       " -0.8377073407173157,\n",
       " -1.048079013824463,\n",
       " -0.468097448348999,\n",
       " -0.35452502965927124,\n",
       " 0.5740688443183899,\n",
       " -0.4467001259326935,\n",
       " -0.16942253708839417,\n",
       " -0.36371323466300964,\n",
       " -0.9160938858985901,\n",
       " -0.8055136799812317,\n",
       " -0.6574638485908508,\n",
       " 0.15235060453414917,\n",
       " -0.206516295671463,\n",
       " 0.03414670377969742,\n",
       " -0.8154401183128357,\n",
       " -0.486833393573761,\n",
       " -0.3611552119255066,\n",
       " -0.31853097677230835,\n",
       " -0.6998158693313599,\n",
       " -1.000678300857544,\n",
       " 0.24953559041023254,\n",
       " 0.5057199001312256,\n",
       " 0.15927836298942566,\n",
       " 0.6129420399665833,\n",
       " 0.021958105266094208,\n",
       " 0.21980902552604675,\n",
       " 0.46969395875930786,\n",
       " 0.27220845222473145,\n",
       " 0.6005236506462097,\n",
       " 0.5377832651138306,\n",
       " 0.7786491513252258,\n",
       " 0.49030232429504395,\n",
       " 0.49472081661224365,\n",
       " 0.3271626830101013,\n",
       " 0.7254624366760254,\n",
       " 0.8893401026725769,\n",
       " 0.8116486668586731,\n",
       " 0.5858674049377441,\n",
       " 0.8155269026756287,\n",
       " 0.870906412601471,\n",
       " 0.6783775687217712,\n",
       " 0.8338397741317749,\n",
       " 0.7913321852684021,\n",
       " 0.7395454049110413,\n",
       " 0.6250086426734924,\n",
       " 0.6593018174171448,\n",
       " 0.5257362723350525,\n",
       " 0.5033570528030396,\n",
       " 0.6304612755775452,\n",
       " 0.5894965529441833,\n",
       " 0.6298773884773254,\n",
       " 0.5437139868736267,\n",
       " 0.6723182797431946]"
      ]
     },
     "execution_count": 102,
     "metadata": {},
     "output_type": "execute_result"
    }
   ],
   "execution_count": 102
  },
  {
   "metadata": {
    "ExecuteTime": {
     "end_time": "2024-09-19T22:05:39.030283Z",
     "start_time": "2024-09-19T22:05:39.021321Z"
    }
   },
   "cell_type": "code",
   "source": [
    "tensor = tensor.unsqueeze(-1)\n",
    "print(tensor.shape)\n",
    "# emoji_output\n",
    "# 将嵌入转换回 token IDs\n",
    "decoded_token_ids = embeddings_to_tokens(tensor.to(device), text_embedding.to(device))\n",
    "print(decoded_token_ids)\n",
    "emoji = tokenizer_emoji.decode(decoded_token_ids.tolist())\n",
    "emoji"
   ],
   "id": "10267136000cce5f",
   "outputs": [
    {
     "name": "stdout",
     "output_type": "stream",
     "text": [
      "torch.Size([64, 1])\n",
      "tensor([0, 0, 0, 0, 0, 0, 0, 0, 0, 4, 4, 4, 4, 4, 4, 0, 4, 4, 4, 4, 4, 4, 0, 4,\n",
      "        0, 4, 4, 4, 4, 4, 4, 0, 0, 0, 0, 0, 0, 0, 0, 0, 0, 0, 0, 0, 0, 0, 0, 0,\n",
      "        0, 0, 0, 0, 0, 0, 0, 0, 0, 0, 0, 0, 0, 0, 0, 0], device='cuda:0')\n"
     ]
    },
    {
     "data": {
      "text/plain": [
       "'<s><s><s><s><s><s><s><s><s>......<s>......<s>.<s>......<s><s><s><s><s><s><s><s><s><s><s><s><s><s><s><s><s><s><s><s><s><s><s><s><s><s><s><s><s><s><s><s><s>'"
      ]
     },
     "execution_count": 94,
     "metadata": {},
     "output_type": "execute_result"
    }
   ],
   "execution_count": 94
  },
  {
   "metadata": {
    "ExecuteTime": {
     "end_time": "2024-09-19T21:58:14.107993Z",
     "start_time": "2024-09-19T21:58:14.105820Z"
    }
   },
   "cell_type": "code",
   "source": "",
   "id": "6db512008728380e",
   "outputs": [],
   "execution_count": 76
  },
  {
   "metadata": {},
   "cell_type": "code",
   "outputs": [],
   "execution_count": null,
   "source": [
    "# 解析字符串为 Python 列表\n",
    "import ast\n",
    "parsed_data = ast.literal_eval(emoji_output)\n",
    "\n",
    "# 转换为 PyTorch 张量\n",
    "tensor = torch.tensor(parsed_data, dtype=torch.float32)\n",
    "\n",
    "    \n"
   ],
   "id": "bdc7b4d9260da1a6"
  },
  {
   "metadata": {
    "ExecuteTime": {
     "end_time": "2024-09-19T22:04:56.709621Z",
     "start_time": "2024-09-19T22:04:56.625959Z"
    }
   },
   "cell_type": "code",
   "source": [
    "def embeddings_to_tokens(embeddings, embedding_layer):\n",
    "    # 获取词汇表的嵌入\n",
    "    vocab_embeddings = embedding_layer.weight\n",
    "    # Normalize embeddings\n",
    "    embedded_vectors = F.normalize(embeddings, p=2, dim=-1)\n",
    "    vocab_embeddings = F.normalize(vocab_embeddings, p=2, dim=-1)\n",
    "\n",
    "    # 计算相似度\n",
    "    similarities = torch.matmul(embedded_vectors, vocab_embeddings.T)\n",
    "    \n",
    "    # 找到最接近的索引\n",
    "    _, closest_indices = torch.max(similarities, dim=-1)\n",
    "    return closest_indices\n",
    "\n",
    "\n",
    "vocab_size = 50265  # 词汇表大小\n",
    "embedding_dim = 1\n",
    "\n",
    "# 将嵌入转换回 token IDs\n",
    "decoded_token_ids = embeddings_to_tokens(emoji_output, text_embedding.to(device))\n",
    "print(decoded_token_ids)\n",
    "emoji = tokenizer_emoji.decode(decoded_token_ids.tolist())\n",
    "emoji"
   ],
   "id": "489df63548ea2abf",
   "outputs": [
    {
     "ename": "AttributeError",
     "evalue": "'str' object has no attribute 'norm'",
     "output_type": "error",
     "traceback": [
      "\u001B[1;31m---------------------------------------------------------------------------\u001B[0m",
      "\u001B[1;31mAttributeError\u001B[0m                            Traceback (most recent call last)",
      "Cell \u001B[1;32mIn[91], line 20\u001B[0m\n\u001B[0;32m     17\u001B[0m embedding_dim \u001B[38;5;241m=\u001B[39m \u001B[38;5;241m1\u001B[39m\n\u001B[0;32m     19\u001B[0m \u001B[38;5;66;03m# 将嵌入转换回 token IDs\u001B[39;00m\n\u001B[1;32m---> 20\u001B[0m decoded_token_ids \u001B[38;5;241m=\u001B[39m \u001B[43membeddings_to_tokens\u001B[49m\u001B[43m(\u001B[49m\u001B[43memoji_output\u001B[49m\u001B[43m,\u001B[49m\u001B[43m \u001B[49m\u001B[43mtext_embedding\u001B[49m\u001B[38;5;241;43m.\u001B[39;49m\u001B[43mto\u001B[49m\u001B[43m(\u001B[49m\u001B[43mdevice\u001B[49m\u001B[43m)\u001B[49m\u001B[43m)\u001B[49m\n\u001B[0;32m     21\u001B[0m \u001B[38;5;28mprint\u001B[39m(decoded_token_ids)\n\u001B[0;32m     22\u001B[0m emoji \u001B[38;5;241m=\u001B[39m tokenizer_emoji\u001B[38;5;241m.\u001B[39mdecode(decoded_token_ids\u001B[38;5;241m.\u001B[39mtolist())\n",
      "Cell \u001B[1;32mIn[91], line 5\u001B[0m, in \u001B[0;36membeddings_to_tokens\u001B[1;34m(embeddings, embedding_layer)\u001B[0m\n\u001B[0;32m      3\u001B[0m vocab_embeddings \u001B[38;5;241m=\u001B[39m embedding_layer\u001B[38;5;241m.\u001B[39mweight\n\u001B[0;32m      4\u001B[0m \u001B[38;5;66;03m# Normalize embeddings\u001B[39;00m\n\u001B[1;32m----> 5\u001B[0m embedded_vectors \u001B[38;5;241m=\u001B[39m \u001B[43mF\u001B[49m\u001B[38;5;241;43m.\u001B[39;49m\u001B[43mnormalize\u001B[49m\u001B[43m(\u001B[49m\u001B[43membeddings\u001B[49m\u001B[43m,\u001B[49m\u001B[43m \u001B[49m\u001B[43mp\u001B[49m\u001B[38;5;241;43m=\u001B[39;49m\u001B[38;5;241;43m2\u001B[39;49m\u001B[43m,\u001B[49m\u001B[43m \u001B[49m\u001B[43mdim\u001B[49m\u001B[38;5;241;43m=\u001B[39;49m\u001B[38;5;241;43m-\u001B[39;49m\u001B[38;5;241;43m1\u001B[39;49m\u001B[43m)\u001B[49m\n\u001B[0;32m      6\u001B[0m vocab_embeddings \u001B[38;5;241m=\u001B[39m F\u001B[38;5;241m.\u001B[39mnormalize(vocab_embeddings, p\u001B[38;5;241m=\u001B[39m\u001B[38;5;241m2\u001B[39m, dim\u001B[38;5;241m=\u001B[39m\u001B[38;5;241m-\u001B[39m\u001B[38;5;241m1\u001B[39m)\n\u001B[0;32m      8\u001B[0m \u001B[38;5;66;03m# 计算相似度\u001B[39;00m\n",
      "File \u001B[1;32m~\\PycharmProjects\\Python3.11.9\\pythonProject\\.venv\\Lib\\site-packages\\torch\\nn\\functional.py:4816\u001B[0m, in \u001B[0;36mnormalize\u001B[1;34m(input, p, dim, eps, out)\u001B[0m\n\u001B[0;32m   4814\u001B[0m     \u001B[38;5;28;01mreturn\u001B[39;00m handle_torch_function(normalize, (\u001B[38;5;28minput\u001B[39m, out), \u001B[38;5;28minput\u001B[39m, p\u001B[38;5;241m=\u001B[39mp, dim\u001B[38;5;241m=\u001B[39mdim, eps\u001B[38;5;241m=\u001B[39meps, out\u001B[38;5;241m=\u001B[39mout)\n\u001B[0;32m   4815\u001B[0m \u001B[38;5;28;01mif\u001B[39;00m out \u001B[38;5;129;01mis\u001B[39;00m \u001B[38;5;28;01mNone\u001B[39;00m:\n\u001B[1;32m-> 4816\u001B[0m     denom \u001B[38;5;241m=\u001B[39m \u001B[38;5;28;43minput\u001B[39;49m\u001B[38;5;241;43m.\u001B[39;49m\u001B[43mnorm\u001B[49m(p, dim, keepdim\u001B[38;5;241m=\u001B[39m\u001B[38;5;28;01mTrue\u001B[39;00m)\u001B[38;5;241m.\u001B[39mclamp_min(eps)\u001B[38;5;241m.\u001B[39mexpand_as(\u001B[38;5;28minput\u001B[39m)\n\u001B[0;32m   4817\u001B[0m     \u001B[38;5;28;01mreturn\u001B[39;00m \u001B[38;5;28minput\u001B[39m \u001B[38;5;241m/\u001B[39m denom\n\u001B[0;32m   4818\u001B[0m \u001B[38;5;28;01melse\u001B[39;00m:\n",
      "\u001B[1;31mAttributeError\u001B[0m: 'str' object has no attribute 'norm'"
     ]
    }
   ],
   "execution_count": 91
  },
  {
   "metadata": {
    "ExecuteTime": {
     "end_time": "2024-09-19T21:29:59.011706Z",
     "start_time": "2024-09-19T21:29:59.003704Z"
    }
   },
   "cell_type": "code",
   "source": [
    "import torch\n",
    "import torch.nn.functional as F\n",
    "def embeddings_to_tokens(embeddings, embedding_layer):\n",
    "    # 获取词汇表的嵌入\n",
    "    vocab_embeddings = embedding_layer.weight\n",
    "    print(vocab_embeddings.shape)\n",
    "    # 计算每个 token 嵌入与词汇表嵌入的余弦相似度\n",
    "    similarities = F.cosine_similarity(embeddings.unsqueeze(1), vocab_embeddings.unsqueeze(0), dim=-1)\n",
    "    # 获取最大相似度的索引作为 token ID\n",
    "    token_ids = similarities.argmax(dim=-1)\n",
    "    return token_ids\n",
    "\n",
    "vocab_size = 50265  # 词汇表大小\n",
    "embedding_dim = 1\n",
    "\n",
    "# 将嵌入转换回 token IDs\n",
    "decoded_token_ids = embeddings_to_tokens(temp, text_embedding.to(device))\n",
    "print(decoded_token_ids)\n",
    "emoji = tokenizer_emoji.decode(decoded_token_ids.tolist())\n",
    "emoji"
   ],
   "id": "375607faef8cc329",
   "outputs": [
    {
     "name": "stdout",
     "output_type": "stream",
     "text": [
      "torch.Size([50265, 1])\n",
      "tensor([0, 0, 0, 0, 0, 0, 0, 0, 0, 4, 4, 4, 4, 4, 4, 0, 4, 4, 4, 4, 4, 4, 0, 4,\n",
      "        0, 4, 4, 4, 4, 4, 4, 0, 0, 0, 0, 0, 0, 0, 0, 0, 0, 0, 0, 0, 0, 0, 0, 0,\n",
      "        0, 0, 0, 0, 0, 0, 0, 0, 0, 0, 0, 0, 0, 0, 0, 0], device='cuda:0')\n"
     ]
    },
    {
     "data": {
      "text/plain": [
       "'<s><s><s><s><s><s><s><s><s>......<s>......<s>.<s>......<s><s><s><s><s><s><s><s><s><s><s><s><s><s><s><s><s><s><s><s><s><s><s><s><s><s><s><s><s><s><s><s><s>'"
      ]
     },
     "execution_count": 30,
     "metadata": {},
     "output_type": "execute_result"
    }
   ],
   "execution_count": 30
  },
  {
   "metadata": {
    "ExecuteTime": {
     "end_time": "2024-09-19T20:25:09.033913Z",
     "start_time": "2024-09-19T20:25:09.018593Z"
    }
   },
   "cell_type": "code",
   "source": [
    "emoji = tokenizer_emoji.decode(temp.tolist())\n",
    "emoji\n",
    "\n",
    "# gemma_input = tokenizer(emoji, return_tensors=\"pt\").to(device)\n",
    "# gemma_outputs = gemma.generate(**gemma_input, max_new_tokens=200)"
   ],
   "id": "acdf14280dba6239",
   "outputs": [
    {
     "ename": "TypeError",
     "evalue": "argument 'ids': 'float' object cannot be interpreted as an integer",
     "output_type": "error",
     "traceback": [
      "\u001B[1;31m---------------------------------------------------------------------------\u001B[0m",
      "\u001B[1;31mTypeError\u001B[0m                                 Traceback (most recent call last)",
      "Cell \u001B[1;32mIn[49], line 1\u001B[0m\n\u001B[1;32m----> 1\u001B[0m emoji \u001B[38;5;241m=\u001B[39m \u001B[43mtokenizer_emoji\u001B[49m\u001B[38;5;241;43m.\u001B[39;49m\u001B[43mdecode\u001B[49m\u001B[43m(\u001B[49m\u001B[43mtemp\u001B[49m\u001B[38;5;241;43m.\u001B[39;49m\u001B[43mtolist\u001B[49m\u001B[43m(\u001B[49m\u001B[43m)\u001B[49m\u001B[43m)\u001B[49m\n\u001B[0;32m      2\u001B[0m emoji\n\u001B[0;32m      4\u001B[0m \u001B[38;5;66;03m# gemma_input = tokenizer(emoji, return_tensors=\"pt\").to(device)\u001B[39;00m\n\u001B[0;32m      5\u001B[0m \u001B[38;5;66;03m# gemma_outputs = gemma.generate(**gemma_input, max_new_tokens=200)\u001B[39;00m\n",
      "File \u001B[1;32m~\\PycharmProjects\\Python3.11.9\\pythonProject\\.venv\\Lib\\site-packages\\transformers\\tokenization_utils_base.py:4016\u001B[0m, in \u001B[0;36mPreTrainedTokenizerBase.decode\u001B[1;34m(self, token_ids, skip_special_tokens, clean_up_tokenization_spaces, **kwargs)\u001B[0m\n\u001B[0;32m   4013\u001B[0m \u001B[38;5;66;03m# Convert inputs to python lists\u001B[39;00m\n\u001B[0;32m   4014\u001B[0m token_ids \u001B[38;5;241m=\u001B[39m to_py_obj(token_ids)\n\u001B[1;32m-> 4016\u001B[0m \u001B[38;5;28;01mreturn\u001B[39;00m \u001B[38;5;28;43mself\u001B[39;49m\u001B[38;5;241;43m.\u001B[39;49m\u001B[43m_decode\u001B[49m\u001B[43m(\u001B[49m\n\u001B[0;32m   4017\u001B[0m \u001B[43m    \u001B[49m\u001B[43mtoken_ids\u001B[49m\u001B[38;5;241;43m=\u001B[39;49m\u001B[43mtoken_ids\u001B[49m\u001B[43m,\u001B[49m\n\u001B[0;32m   4018\u001B[0m \u001B[43m    \u001B[49m\u001B[43mskip_special_tokens\u001B[49m\u001B[38;5;241;43m=\u001B[39;49m\u001B[43mskip_special_tokens\u001B[49m\u001B[43m,\u001B[49m\n\u001B[0;32m   4019\u001B[0m \u001B[43m    \u001B[49m\u001B[43mclean_up_tokenization_spaces\u001B[49m\u001B[38;5;241;43m=\u001B[39;49m\u001B[43mclean_up_tokenization_spaces\u001B[49m\u001B[43m,\u001B[49m\n\u001B[0;32m   4020\u001B[0m \u001B[43m    \u001B[49m\u001B[38;5;241;43m*\u001B[39;49m\u001B[38;5;241;43m*\u001B[39;49m\u001B[43mkwargs\u001B[49m\u001B[43m,\u001B[49m\n\u001B[0;32m   4021\u001B[0m \u001B[43m\u001B[49m\u001B[43m)\u001B[49m\n",
      "File \u001B[1;32m~\\PycharmProjects\\Python3.11.9\\pythonProject\\.venv\\Lib\\site-packages\\transformers\\tokenization_utils_fast.py:651\u001B[0m, in \u001B[0;36mPreTrainedTokenizerFast._decode\u001B[1;34m(self, token_ids, skip_special_tokens, clean_up_tokenization_spaces, **kwargs)\u001B[0m\n\u001B[0;32m    649\u001B[0m \u001B[38;5;28;01mif\u001B[39;00m \u001B[38;5;28misinstance\u001B[39m(token_ids, \u001B[38;5;28mint\u001B[39m):\n\u001B[0;32m    650\u001B[0m     token_ids \u001B[38;5;241m=\u001B[39m [token_ids]\n\u001B[1;32m--> 651\u001B[0m text \u001B[38;5;241m=\u001B[39m \u001B[38;5;28;43mself\u001B[39;49m\u001B[38;5;241;43m.\u001B[39;49m\u001B[43m_tokenizer\u001B[49m\u001B[38;5;241;43m.\u001B[39;49m\u001B[43mdecode\u001B[49m\u001B[43m(\u001B[49m\u001B[43mtoken_ids\u001B[49m\u001B[43m,\u001B[49m\u001B[43m \u001B[49m\u001B[43mskip_special_tokens\u001B[49m\u001B[38;5;241;43m=\u001B[39;49m\u001B[43mskip_special_tokens\u001B[49m\u001B[43m)\u001B[49m\n\u001B[0;32m    653\u001B[0m clean_up_tokenization_spaces \u001B[38;5;241m=\u001B[39m (\n\u001B[0;32m    654\u001B[0m     clean_up_tokenization_spaces\n\u001B[0;32m    655\u001B[0m     \u001B[38;5;28;01mif\u001B[39;00m clean_up_tokenization_spaces \u001B[38;5;129;01mis\u001B[39;00m \u001B[38;5;129;01mnot\u001B[39;00m \u001B[38;5;28;01mNone\u001B[39;00m\n\u001B[0;32m    656\u001B[0m     \u001B[38;5;28;01melse\u001B[39;00m \u001B[38;5;28mself\u001B[39m\u001B[38;5;241m.\u001B[39mclean_up_tokenization_spaces\n\u001B[0;32m    657\u001B[0m )\n\u001B[0;32m    658\u001B[0m \u001B[38;5;28;01mif\u001B[39;00m clean_up_tokenization_spaces:\n",
      "\u001B[1;31mTypeError\u001B[0m: argument 'ids': 'float' object cannot be interpreted as an integer"
     ]
    }
   ],
   "execution_count": 49
  },
  {
   "metadata": {},
   "cell_type": "code",
   "outputs": [],
   "execution_count": null,
   "source": "# decoded_preds = tokenizer.batch_decode(preds[0], skip_special_tokens=True)",
   "id": "cbc6c7a26cd9ebee"
  }
 ],
 "metadata": {
  "kernelspec": {
   "display_name": "Python 3",
   "language": "python",
   "name": "python3"
  },
  "language_info": {
   "codemirror_mode": {
    "name": "ipython",
    "version": 2
   },
   "file_extension": ".py",
   "mimetype": "text/x-python",
   "name": "python",
   "nbconvert_exporter": "python",
   "pygments_lexer": "ipython2",
   "version": "2.7.6"
  }
 },
 "nbformat": 4,
 "nbformat_minor": 5
}
