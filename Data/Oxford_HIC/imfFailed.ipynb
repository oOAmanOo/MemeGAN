{
 "cells": [
  {
   "cell_type": "code",
   "id": "initial_id",
   "metadata": {
    "collapsed": true,
    "ExecuteTime": {
     "end_time": "2024-09-12T17:19:27.374916Z",
     "start_time": "2024-09-12T17:19:26.926144Z"
    }
   },
   "source": [
    "from os.path import exists\n",
    "\n",
    "import pandas as pd\n",
    "import requests\n",
    "import os\n",
    "\n",
    "from nbformat.v1.nbjson import reads\n",
    "from tqdm import tqdm"
   ],
   "outputs": [],
   "execution_count": 1
  },
  {
   "metadata": {
    "ExecuteTime": {
     "end_time": "2024-09-12T16:46:05.851643Z",
     "start_time": "2024-09-12T16:46:05.845728Z"
    }
   },
   "cell_type": "code",
   "source": [
    "# read imgFailed.txt and download the images\n",
    "imgFailed = pd.read_csv('imgFailed', header=None)\n",
    "imgFailed.columns = ['imgSrc']\n",
    "imgFailed"
   ],
   "id": "d1e9df765da34a63",
   "outputs": [
    {
     "data": {
      "text/plain": [
       "                                                imgSrc\n",
       "0    https://d13n9ry8xcpemi.cloudfront.net/photo/od...\n",
       "1    https://d13n9ry8xcpemi.cloudfront.net/photo/od...\n",
       "2    https://d13n9ry8xcpemi.cloudfront.net/photo/od...\n",
       "3    https://d13n9ry8xcpemi.cloudfront.net/photo/od...\n",
       "4    https://d13n9ry8xcpemi.cloudfront.net/photo/od...\n",
       "..                                                 ...\n",
       "524  https://raw.githubusercontent.com/alpv95/Dank-...\n",
       "525  https://raw.githubusercontent.com/alpv95/Dank-...\n",
       "526  https://raw.githubusercontent.com/alpv95/Dank-...\n",
       "527  https://raw.githubusercontent.com/alpv95/Dank-...\n",
       "528  https://raw.githubusercontent.com/alpv95/Dank-...\n",
       "\n",
       "[529 rows x 1 columns]"
      ],
      "text/html": [
       "<div>\n",
       "<style scoped>\n",
       "    .dataframe tbody tr th:only-of-type {\n",
       "        vertical-align: middle;\n",
       "    }\n",
       "\n",
       "    .dataframe tbody tr th {\n",
       "        vertical-align: top;\n",
       "    }\n",
       "\n",
       "    .dataframe thead th {\n",
       "        text-align: right;\n",
       "    }\n",
       "</style>\n",
       "<table border=\"1\" class=\"dataframe\">\n",
       "  <thead>\n",
       "    <tr style=\"text-align: right;\">\n",
       "      <th></th>\n",
       "      <th>imgSrc</th>\n",
       "    </tr>\n",
       "  </thead>\n",
       "  <tbody>\n",
       "    <tr>\n",
       "      <th>0</th>\n",
       "      <td>https://d13n9ry8xcpemi.cloudfront.net/photo/od...</td>\n",
       "    </tr>\n",
       "    <tr>\n",
       "      <th>1</th>\n",
       "      <td>https://d13n9ry8xcpemi.cloudfront.net/photo/od...</td>\n",
       "    </tr>\n",
       "    <tr>\n",
       "      <th>2</th>\n",
       "      <td>https://d13n9ry8xcpemi.cloudfront.net/photo/od...</td>\n",
       "    </tr>\n",
       "    <tr>\n",
       "      <th>3</th>\n",
       "      <td>https://d13n9ry8xcpemi.cloudfront.net/photo/od...</td>\n",
       "    </tr>\n",
       "    <tr>\n",
       "      <th>4</th>\n",
       "      <td>https://d13n9ry8xcpemi.cloudfront.net/photo/od...</td>\n",
       "    </tr>\n",
       "    <tr>\n",
       "      <th>...</th>\n",
       "      <td>...</td>\n",
       "    </tr>\n",
       "    <tr>\n",
       "      <th>524</th>\n",
       "      <td>https://raw.githubusercontent.com/alpv95/Dank-...</td>\n",
       "    </tr>\n",
       "    <tr>\n",
       "      <th>525</th>\n",
       "      <td>https://raw.githubusercontent.com/alpv95/Dank-...</td>\n",
       "    </tr>\n",
       "    <tr>\n",
       "      <th>526</th>\n",
       "      <td>https://raw.githubusercontent.com/alpv95/Dank-...</td>\n",
       "    </tr>\n",
       "    <tr>\n",
       "      <th>527</th>\n",
       "      <td>https://raw.githubusercontent.com/alpv95/Dank-...</td>\n",
       "    </tr>\n",
       "    <tr>\n",
       "      <th>528</th>\n",
       "      <td>https://raw.githubusercontent.com/alpv95/Dank-...</td>\n",
       "    </tr>\n",
       "  </tbody>\n",
       "</table>\n",
       "<p>529 rows × 1 columns</p>\n",
       "</div>"
      ]
     },
     "execution_count": 17,
     "metadata": {},
     "output_type": "execute_result"
    }
   ],
   "execution_count": 17
  },
  {
   "metadata": {
    "ExecuteTime": {
     "end_time": "2024-09-12T17:21:00.893066Z",
     "start_time": "2024-09-12T17:21:00.779877Z"
    }
   },
   "cell_type": "code",
   "source": [
    "oxford_image_info = pd.read_csv('../../Citations/Oxford_HIC/data/oxford_hic_image_info.csv')\n",
    "oxford_image_info.head()"
   ],
   "id": "544f42282d0fb1e9",
   "outputs": [
    {
     "data": {
      "text/plain": [
       "   image_id                                          image_url\n",
       "0  bokete_0  https://d13n9ry8xcpemi.cloudfront.net/photo/od...\n",
       "1  bokete_1  https://d13n9ry8xcpemi.cloudfront.net/photo/od...\n",
       "2  bokete_2  https://d13n9ry8xcpemi.cloudfront.net/photo/od...\n",
       "3  bokete_3  https://d13n9ry8xcpemi.cloudfront.net/photo/od...\n",
       "4  bokete_4  https://d13n9ry8xcpemi.cloudfront.net/photo/od..."
      ],
      "text/html": [
       "<div>\n",
       "<style scoped>\n",
       "    .dataframe tbody tr th:only-of-type {\n",
       "        vertical-align: middle;\n",
       "    }\n",
       "\n",
       "    .dataframe tbody tr th {\n",
       "        vertical-align: top;\n",
       "    }\n",
       "\n",
       "    .dataframe thead th {\n",
       "        text-align: right;\n",
       "    }\n",
       "</style>\n",
       "<table border=\"1\" class=\"dataframe\">\n",
       "  <thead>\n",
       "    <tr style=\"text-align: right;\">\n",
       "      <th></th>\n",
       "      <th>image_id</th>\n",
       "      <th>image_url</th>\n",
       "    </tr>\n",
       "  </thead>\n",
       "  <tbody>\n",
       "    <tr>\n",
       "      <th>0</th>\n",
       "      <td>bokete_0</td>\n",
       "      <td>https://d13n9ry8xcpemi.cloudfront.net/photo/od...</td>\n",
       "    </tr>\n",
       "    <tr>\n",
       "      <th>1</th>\n",
       "      <td>bokete_1</td>\n",
       "      <td>https://d13n9ry8xcpemi.cloudfront.net/photo/od...</td>\n",
       "    </tr>\n",
       "    <tr>\n",
       "      <th>2</th>\n",
       "      <td>bokete_2</td>\n",
       "      <td>https://d13n9ry8xcpemi.cloudfront.net/photo/od...</td>\n",
       "    </tr>\n",
       "    <tr>\n",
       "      <th>3</th>\n",
       "      <td>bokete_3</td>\n",
       "      <td>https://d13n9ry8xcpemi.cloudfront.net/photo/od...</td>\n",
       "    </tr>\n",
       "    <tr>\n",
       "      <th>4</th>\n",
       "      <td>bokete_4</td>\n",
       "      <td>https://d13n9ry8xcpemi.cloudfront.net/photo/od...</td>\n",
       "    </tr>\n",
       "  </tbody>\n",
       "</table>\n",
       "</div>"
      ]
     },
     "execution_count": 6,
     "metadata": {},
     "output_type": "execute_result"
    }
   ],
   "execution_count": 6
  },
  {
   "metadata": {
    "ExecuteTime": {
     "end_time": "2024-09-12T17:20:23.633087Z",
     "start_time": "2024-09-12T17:20:23.489518Z"
    }
   },
   "cell_type": "code",
   "source": [
    "#rename all files in images folder\n",
    "\n",
    "path = 'images'\n",
    "files = os.listdir(path)\n",
    "exist_img = []\n",
    "# print(files)\n",
    "for index, file in enumerate(files):\n",
    "    # print(file)\n",
    "    temp = file.split('.')\n",
    "    #store all fileName in a list\n",
    "    # print(temp)\n",
    "    exist_img.append(temp[0])\n",
    "    # temp = temp[0]+'.jpg'\n",
    "    # os.rename(os.path.join(path, file), os.path.join(path, temp))"
   ],
   "id": "9b21f9f0155f2d32",
   "outputs": [],
   "execution_count": 4
  },
  {
   "metadata": {},
   "cell_type": "code",
   "source": "exists",
   "id": "3b9d6e462283c33f",
   "outputs": [],
   "execution_count": null
  },
  {
   "metadata": {
    "ExecuteTime": {
     "end_time": "2024-09-12T17:25:53.705255Z",
     "start_time": "2024-09-12T17:21:04.667114Z"
    }
   },
   "cell_type": "code",
   "source": [
    "#download the images from oxford_image_info and save them to img folder\n",
    "with tqdm(total=oxford_image_info.shape[0]) as pbar:\n",
    "    for index, row in oxford_image_info.iterrows():\n",
    "        #create img folder\n",
    "        if row['image_id'] not in exist_img:            \n",
    "            with open('images/'+row['image_id'], 'wb') as f:\n",
    "                try :\n",
    "                    f.write(requests.get(row['image_url']).content)\n",
    "                except:\n",
    "                    print(row['image_id'] +\" \"+ row['image_url'])\n",
    "        pbar.update(1)\n"
   ],
   "id": "9ef6a681e69603d0",
   "outputs": [
    {
     "name": "stderr",
     "output_type": "stream",
     "text": [
      " 99%|█████████▊| 115190/116886 [00:30<00:00, 5524.77it/s] "
     ]
    },
    {
     "name": "stdout",
     "output_type": "stream",
     "text": [
      "-okay-.jpg https://raw.githubusercontent.com/alpv95/Dank-Learning/master/im2txt/memes/-okay-.jpg\n",
      "-sudden-clarity-clarence.jpg https://raw.githubusercontent.com/alpv95/Dank-Learning/master/im2txt/memes/-sudden-clarity-clarence.jpg\n",
      "-taemin.jpg https://raw.githubusercontent.com/alpv95/Dank-Learning/master/im2txt/memes/-taemin.jpg\n",
      "1889-10-guy.jpg https://raw.githubusercontent.com/alpv95/Dank-Learning/master/im2txt/memes/1889-10-guy.jpg\n",
      "2006scape.jpg https://raw.githubusercontent.com/alpv95/Dank-Learning/master/im2txt/memes/2006scape.jpg\n",
      "2spbgym.jpg https://raw.githubusercontent.com/alpv95/Dank-Learning/master/im2txt/memes/2spbgym.jpg\n",
      "TutorPP.jpg https://raw.githubusercontent.com/alpv95/Dank-Learning/master/im2txt/memes/TutorPP.jpg\n",
      "a-door.jpg https://raw.githubusercontent.com/alpv95/Dank-Learning/master/im2txt/memes/a-door.jpg\n",
      "aaaand-its-gone.jpg https://raw.githubusercontent.com/alpv95/Dank-Learning/master/im2txt/memes/aaaand-its-gone.jpg\n",
      "aaand-its-gone.jpg https://raw.githubusercontent.com/alpv95/Dank-Learning/master/im2txt/memes/aaand-its-gone.jpg\n",
      "aand-its-gone.jpg https://raw.githubusercontent.com/alpv95/Dank-Learning/master/im2txt/memes/aand-its-gone.jpg\n",
      "abby-farle.jpg https://raw.githubusercontent.com/alpv95/Dank-Learning/master/im2txt/memes/abby-farle.jpg\n",
      "abo.jpg https://raw.githubusercontent.com/alpv95/Dank-Learning/master/im2txt/memes/abo.jpg\n",
      "aboriginal.jpg https://raw.githubusercontent.com/alpv95/Dank-Learning/master/im2txt/memes/aboriginal.jpg\n",
      "achmed-the-dead-terrorist.jpg https://raw.githubusercontent.com/alpv95/Dank-Learning/master/im2txt/memes/achmed-the-dead-terrorist.jpg\n",
      "active-elektrichker.jpg https://raw.githubusercontent.com/alpv95/Dank-Learning/master/im2txt/memes/active-elektrichker.jpg\n",
      "advice-brick.jpg https://raw.githubusercontent.com/alpv95/Dank-Learning/master/im2txt/memes/advice-brick.jpg\n",
      "advice-diamond.jpg https://raw.githubusercontent.com/alpv95/Dank-Learning/master/im2txt/memes/advice-diamond.jpg\n",
      "advice-doctor.jpg https://raw.githubusercontent.com/alpv95/Dank-Learning/master/im2txt/memes/advice-doctor.jpg\n",
      "advice-dog.jpg https://raw.githubusercontent.com/alpv95/Dank-Learning/master/im2txt/memes/advice-dog.jpg\n",
      "advice-edit-button.jpg https://raw.githubusercontent.com/alpv95/Dank-Learning/master/im2txt/memes/advice-edit-button.jpg\n",
      "advice-furry.jpg https://raw.githubusercontent.com/alpv95/Dank-Learning/master/im2txt/memes/advice-furry.jpg\n",
      "advice-hurt-garrus.jpg https://raw.githubusercontent.com/alpv95/Dank-Learning/master/im2txt/memes/advice-hurt-garrus.jpg\n",
      "advice-klansman.jpg https://raw.githubusercontent.com/alpv95/Dank-Learning/master/im2txt/memes/advice-klansman.jpg\n",
      "advice-matt-berninger.jpg https://raw.githubusercontent.com/alpv95/Dank-Learning/master/im2txt/memes/advice-matt-berninger.jpg\n",
      "advice-nazi.jpg https://raw.githubusercontent.com/alpv95/Dank-Learning/master/im2txt/memes/advice-nazi.jpg\n",
      "advice-neckbeard.jpg https://raw.githubusercontent.com/alpv95/Dank-Learning/master/im2txt/memes/advice-neckbeard.jpg\n",
      "advice-nigger.jpg https://raw.githubusercontent.com/alpv95/Dank-Learning/master/im2txt/memes/advice-nigger.jpg\n",
      "advice-polack.jpg https://raw.githubusercontent.com/alpv95/Dank-Learning/master/im2txt/memes/advice-polack.jpg\n",
      "advice-pole.jpg https://raw.githubusercontent.com/alpv95/Dank-Learning/master/im2txt/memes/advice-pole.jpg\n",
      "advice-ron-swanson.jpg https://raw.githubusercontent.com/alpv95/Dank-Learning/master/im2txt/memes/advice-ron-swanson.jpg\n",
      "advice-skrillex.jpg https://raw.githubusercontent.com/alpv95/Dank-Learning/master/im2txt/memes/advice-skrillex.jpg\n",
      "advice-thom-yorke.jpg https://raw.githubusercontent.com/alpv95/Dank-Learning/master/im2txt/memes/advice-thom-yorke.jpg\n",
      "advice-waters.jpg https://raw.githubusercontent.com/alpv95/Dank-Learning/master/im2txt/memes/advice-waters.jpg\n",
      "advicecar.jpg https://raw.githubusercontent.com/alpv95/Dank-Learning/master/im2txt/memes/advicecar.jpg\n",
      "advokad.jpg https://raw.githubusercontent.com/alpv95/Dank-Learning/master/im2txt/memes/advokad.jpg\n",
      "african-children-dancing.jpg https://raw.githubusercontent.com/alpv95/Dank-Learning/master/im2txt/memes/african-children-dancing.jpg\n",
      "african-kids-dancing.jpg https://raw.githubusercontent.com/alpv95/Dank-Learning/master/im2txt/memes/african-kids-dancing.jpg\n",
      "ajiii.jpg https://raw.githubusercontent.com/alpv95/Dank-Learning/master/im2txt/memes/ajiii.jpg\n",
      "akunneuvo.jpg https://raw.githubusercontent.com/alpv95/Dank-Learning/master/im2txt/memes/akunneuvo.jpg\n"
     ]
    },
    {
     "name": "stderr",
     "output_type": "stream",
     "text": [
      " 99%|█████████▉| 115964/116886 [00:50<00:00, 5524.77it/s]"
     ]
    },
    {
     "name": "stdout",
     "output_type": "stream",
     "text": [
      "alf-stewart.jpg https://raw.githubusercontent.com/alpv95/Dank-Learning/master/im2txt/memes/alf-stewart.jpg\n"
     ]
    },
    {
     "name": "stderr",
     "output_type": "stream",
     "text": [
      " 99%|█████████▉| 115965/116886 [00:50<00:04, 211.26it/s] "
     ]
    },
    {
     "name": "stdout",
     "output_type": "stream",
     "text": [
      "alfredo-lim-meme.jpg https://raw.githubusercontent.com/alpv95/Dank-Learning/master/im2txt/memes/alfredo-lim-meme.jpg\n"
     ]
    },
    {
     "name": "stderr",
     "output_type": "stream",
     "text": [
      " 99%|█████████▉| 115969/116886 [00:51<00:04, 201.97it/s]"
     ]
    },
    {
     "name": "stdout",
     "output_type": "stream",
     "text": [
      "alistair.jpg https://raw.githubusercontent.com/alpv95/Dank-Learning/master/im2txt/memes/alistair.jpg\n",
      "all-hail-the-magic-conch.jpg https://raw.githubusercontent.com/alpv95/Dank-Learning/master/im2txt/memes/all-hail-the-magic-conch.jpg\n",
      "all-the-things.jpg https://raw.githubusercontent.com/alpv95/Dank-Learning/master/im2txt/memes/all-the-things.jpg\n",
      "always-snape.jpg https://raw.githubusercontent.com/alpv95/Dank-Learning/master/im2txt/memes/always-snape.jpg\n",
      "alyssa-rosales.jpg https://raw.githubusercontent.com/alpv95/Dank-Learning/master/im2txt/memes/alyssa-rosales.jpg\n",
      "amigofer.jpg https://raw.githubusercontent.com/alpv95/Dank-Learning/master/im2txt/memes/amigofer.jpg\n",
      "amused-anna-wintour.jpg https://raw.githubusercontent.com/alpv95/Dank-Learning/master/im2txt/memes/amused-anna-wintour.jpg\n",
      "anchorman-birthday.jpg https://raw.githubusercontent.com/alpv95/Dank-Learning/master/im2txt/memes/anchorman-birthday.jpg\n",
      "anchorman.jpg https://raw.githubusercontent.com/alpv95/Dank-Learning/master/im2txt/memes/anchorman.jpg\n",
      "and-we-all-let-it-happen.jpg https://raw.githubusercontent.com/alpv95/Dank-Learning/master/im2txt/memes/and-we-all-let-it-happen.jpg\n",
      "anders-breivik-scuba.jpg https://raw.githubusercontent.com/alpv95/Dank-Learning/master/im2txt/memes/anders-breivik-scuba.jpg\n",
      "andreafabra.jpg https://raw.githubusercontent.com/alpv95/Dank-Learning/master/im2txt/memes/andreafabra.jpg\n",
      "angry-andre.jpg https://raw.githubusercontent.com/alpv95/Dank-Learning/master/im2txt/memes/angry-andre.jpg\n",
      "angry-arnold.jpg https://raw.githubusercontent.com/alpv95/Dank-Learning/master/im2txt/memes/angry-arnold.jpg\n",
      "angry-black-woman.jpg https://raw.githubusercontent.com/alpv95/Dank-Learning/master/im2txt/memes/angry-black-woman.jpg\n",
      "angry-cat-asshole.jpg https://raw.githubusercontent.com/alpv95/Dank-Learning/master/im2txt/memes/angry-cat-asshole.jpg\n",
      "angry-dj.jpg https://raw.githubusercontent.com/alpv95/Dank-Learning/master/im2txt/memes/angry-dj.jpg\n",
      "angry-linus.jpg https://raw.githubusercontent.com/alpv95/Dank-Learning/master/im2txt/memes/angry-linus.jpg\n",
      "angry-school-boy.jpg https://raw.githubusercontent.com/alpv95/Dank-Learning/master/im2txt/memes/angry-school-boy.jpg\n",
      "angry-scotsman.jpg https://raw.githubusercontent.com/alpv95/Dank-Learning/master/im2txt/memes/angry-scotsman.jpg\n",
      "angry-trailer-trash-mom.jpg https://raw.githubusercontent.com/alpv95/Dank-Learning/master/im2txt/memes/angry-trailer-trash-mom.jpg\n",
      "angrydoctor.jpg https://raw.githubusercontent.com/alpv95/Dank-Learning/master/im2txt/memes/angrydoctor.jpg\n",
      "angryschoolboy.jpg https://raw.githubusercontent.com/alpv95/Dank-Learning/master/im2txt/memes/angryschoolboy.jpg\n",
      "animeanime.jpg https://raw.githubusercontent.com/alpv95/Dank-Learning/master/im2txt/memes/animeanime.jpg\n",
      "animeshnik-otaku-narutofan.jpg https://raw.githubusercontent.com/alpv95/Dank-Learning/master/im2txt/memes/animeshnik-otaku-narutofan.jpg\n",
      "anne-frank-lol.jpg https://raw.githubusercontent.com/alpv95/Dank-Learning/master/im2txt/memes/anne-frank-lol.jpg\n",
      "announcement-alfred.jpg https://raw.githubusercontent.com/alpv95/Dank-Learning/master/im2txt/memes/announcement-alfred.jpg\n",
      "annoyed-picard.jpg https://raw.githubusercontent.com/alpv95/Dank-Learning/master/im2txt/memes/annoyed-picard.jpg\n",
      "annoying-elementary-school-kid.jpg https://raw.githubusercontent.com/alpv95/Dank-Learning/master/im2txt/memes/annoying-elementary-school-kid.jpg\n",
      "annoying-facebook-girl.jpg https://raw.githubusercontent.com/alpv95/Dank-Learning/master/im2txt/memes/annoying-facebook-girl.jpg\n",
      "annoying-facebook-guy.jpg https://raw.githubusercontent.com/alpv95/Dank-Learning/master/im2txt/memes/annoying-facebook-guy.jpg\n",
      "annoying-fb-girl.jpg https://raw.githubusercontent.com/alpv95/Dank-Learning/master/im2txt/memes/annoying-fb-girl.jpg\n",
      "annoying-gym-newbie.jpg https://raw.githubusercontent.com/alpv95/Dank-Learning/master/im2txt/memes/annoying-gym-newbie.jpg\n",
      "annoying-imgurian.jpg https://raw.githubusercontent.com/alpv95/Dank-Learning/master/im2txt/memes/annoying-imgurian.jpg\n",
      "annoying-orange.jpg https://raw.githubusercontent.com/alpv95/Dank-Learning/master/im2txt/memes/annoying-orange.jpg\n",
      "annoying-twitter-freak.jpg https://raw.githubusercontent.com/alpv95/Dank-Learning/master/im2txt/memes/annoying-twitter-freak.jpg\n",
      "annoyingmom.jpg https://raw.githubusercontent.com/alpv95/Dank-Learning/master/im2txt/memes/annoyingmom.jpg\n",
      "anonymous-memes.jpg https://raw.githubusercontent.com/alpv95/Dank-Learning/master/im2txt/memes/anonymous-memes.jpg\n",
      "another-beon-user.jpg https://raw.githubusercontent.com/alpv95/Dank-Learning/master/im2txt/memes/another-beon-user.jpg\n",
      "anthropology-major-fox.jpg https://raw.githubusercontent.com/alpv95/Dank-Learning/master/im2txt/memes/anthropology-major-fox.jpg\n",
      "anti-joke-castiel.jpg https://raw.githubusercontent.com/alpv95/Dank-Learning/master/im2txt/memes/anti-joke-castiel.jpg\n",
      "anti-joke-chicken.jpg https://raw.githubusercontent.com/alpv95/Dank-Learning/master/im2txt/memes/anti-joke-chicken.jpg\n"
     ]
    },
    {
     "name": "stderr",
     "output_type": "stream",
     "text": [
      " 99%|█████████▉| 116045/116886 [01:10<00:04, 201.97it/s]"
     ]
    },
    {
     "name": "stdout",
     "output_type": "stream",
     "text": [
      "antonio-alcantara-imanol-arias.jpg https://raw.githubusercontent.com/alpv95/Dank-Learning/master/im2txt/memes/antonio-alcantara-imanol-arias.jpg\n"
     ]
    },
    {
     "name": "stderr",
     "output_type": "stream",
     "text": [
      " 99%|█████████▉| 116046/116886 [01:10<00:11, 74.28it/s] "
     ]
    },
    {
     "name": "stdout",
     "output_type": "stream",
     "text": [
      "anxiety.jpg https://raw.githubusercontent.com/alpv95/Dank-Learning/master/im2txt/memes/anxiety.jpg\n"
     ]
    },
    {
     "name": "stderr",
     "output_type": "stream",
     "text": [
      " 99%|█████████▉| 116048/116886 [01:10<00:11, 72.60it/s]"
     ]
    },
    {
     "name": "stdout",
     "output_type": "stream",
     "text": [
      "archaeology-major-dog.jpg https://raw.githubusercontent.com/alpv95/Dank-Learning/master/im2txt/memes/archaeology-major-dog.jpg\n",
      "archer.jpg https://raw.githubusercontent.com/alpv95/Dank-Learning/master/im2txt/memes/archer.jpg\n",
      "are-you-serious-face.jpg https://raw.githubusercontent.com/alpv95/Dank-Learning/master/im2txt/memes/are-you-serious-face.jpg\n",
      "arhitrololo.jpg https://raw.githubusercontent.com/alpv95/Dank-Learning/master/im2txt/memes/arhitrololo.jpg\n",
      "aristotle.jpg https://raw.githubusercontent.com/alpv95/Dank-Learning/master/im2txt/memes/aristotle.jpg\n",
      "armando-hoyos-12456.jpg https://raw.githubusercontent.com/alpv95/Dank-Learning/master/im2txt/memes/armando-hoyos-12456.jpg\n",
      "arnaldo-tirone.jpg https://raw.githubusercontent.com/alpv95/Dank-Learning/master/im2txt/memes/arnaldo-tirone.jpg\n",
      "aromantic-aardvark.jpg https://raw.githubusercontent.com/alpv95/Dank-Learning/master/im2txt/memes/aromantic-aardvark.jpg\n",
      "aroused-once-ler.jpg https://raw.githubusercontent.com/alpv95/Dank-Learning/master/im2txt/memes/aroused-once-ler.jpg\n",
      "arshavin666.jpg https://raw.githubusercontent.com/alpv95/Dank-Learning/master/im2txt/memes/arshavin666.jpg\n",
      "art-newbie-owl.jpg https://raw.githubusercontent.com/alpv95/Dank-Learning/master/im2txt/memes/art-newbie-owl.jpg\n",
      "art-student-owl.jpg https://raw.githubusercontent.com/alpv95/Dank-Learning/master/im2txt/memes/art-student-owl.jpg\n",
      "asc-backstage-badger.jpg https://raw.githubusercontent.com/alpv95/Dank-Learning/master/im2txt/memes/asc-backstage-badger.jpg\n",
      "ash-meme.jpg https://raw.githubusercontent.com/alpv95/Dank-Learning/master/im2txt/memes/ash-meme.jpg\n",
      "ash-pedreiro.jpg https://raw.githubusercontent.com/alpv95/Dank-Learning/master/im2txt/memes/ash-pedreiro.jpg\n",
      "ash-the-brit.jpg https://raw.githubusercontent.com/alpv95/Dank-Learning/master/im2txt/memes/ash-the-brit.jpg\n",
      "asinine-america.jpg https://raw.githubusercontent.com/alpv95/Dank-Learning/master/im2txt/memes/asinine-america.jpg\n",
      "aspiring-musician-turtle.jpg https://raw.githubusercontent.com/alpv95/Dank-Learning/master/im2txt/memes/aspiring-musician-turtle.jpg\n",
      "assassins-creed.jpg https://raw.githubusercontent.com/alpv95/Dank-Learning/master/im2txt/memes/assassins-creed.jpg\n",
      "astute-psychologist.jpg https://raw.githubusercontent.com/alpv95/Dank-Learning/master/im2txt/memes/astute-psychologist.jpg\n",
      "atheistfag.jpg https://raw.githubusercontent.com/alpv95/Dank-Learning/master/im2txt/memes/atheistfag.jpg\n",
      "austin-powers.jpg https://raw.githubusercontent.com/alpv95/Dank-Learning/master/im2txt/memes/austin-powers.jpg\n",
      "australia.jpg https://raw.githubusercontent.com/alpv95/Dank-Learning/master/im2txt/memes/australia.jpg\n",
      "average-dota-player.jpg https://raw.githubusercontent.com/alpv95/Dank-Learning/master/im2txt/memes/average-dota-player.jpg\n",
      "average-italian-criminal.jpg https://raw.githubusercontent.com/alpv95/Dank-Learning/master/im2txt/memes/average-italian-criminal.jpg\n",
      "average-italian-driver.jpg https://raw.githubusercontent.com/alpv95/Dank-Learning/master/im2txt/memes/average-italian-driver.jpg\n",
      "awkward-wizard.jpg https://raw.githubusercontent.com/alpv95/Dank-Learning/master/im2txt/memes/awkward-wizard.jpg\n",
      "awsome-ariel.jpg https://raw.githubusercontent.com/alpv95/Dank-Learning/master/im2txt/memes/awsome-ariel.jpg\n",
      "ay-ya.jpg https://raw.githubusercontent.com/alpv95/Dank-Learning/master/im2txt/memes/ay-ya.jpg\n",
      "aylinfernanda.jpg https://raw.githubusercontent.com/alpv95/Dank-Learning/master/im2txt/memes/aylinfernanda.jpg\n",
      "aysi.jpg https://raw.githubusercontent.com/alpv95/Dank-Learning/master/im2txt/memes/aysi.jpg\n",
      "baby-wag.jpg https://raw.githubusercontent.com/alpv95/Dank-Learning/master/im2txt/memes/baby-wag.jpg\n",
      "back-in-my-day.jpg https://raw.githubusercontent.com/alpv95/Dank-Learning/master/im2txt/memes/back-in-my-day.jpg\n",
      "bad-drunk-baby.jpg https://raw.githubusercontent.com/alpv95/Dank-Learning/master/im2txt/memes/bad-drunk-baby.jpg\n",
      "bad-factman.jpg https://raw.githubusercontent.com/alpv95/Dank-Learning/master/im2txt/memes/bad-factman.jpg\n",
      "bad-joke-jerry.jpg https://raw.githubusercontent.com/alpv95/Dank-Learning/master/im2txt/memes/bad-joke-jerry.jpg\n",
      "bad-luck-brian.jpg https://raw.githubusercontent.com/alpv95/Dank-Learning/master/im2txt/memes/bad-luck-brian.jpg\n",
      "bad-straight-ally.jpg https://raw.githubusercontent.com/alpv95/Dank-Learning/master/im2txt/memes/bad-straight-ally.jpg\n"
     ]
    },
    {
     "name": "stderr",
     "output_type": "stream",
     "text": [
      " 99%|█████████▉| 116123/116886 [01:30<00:10, 72.60it/s]"
     ]
    },
    {
     "name": "stdout",
     "output_type": "stream",
     "text": [
      "badass-clove.jpg https://raw.githubusercontent.com/alpv95/Dank-Learning/master/im2txt/memes/badass-clove.jpg\n"
     ]
    },
    {
     "name": "stderr",
     "output_type": "stream",
     "text": [
      " 99%|█████████▉| 116125/116886 [01:30<00:22, 33.20it/s]"
     ]
    },
    {
     "name": "stdout",
     "output_type": "stream",
     "text": [
      "baked-guy.jpg https://raw.githubusercontent.com/alpv95/Dank-Learning/master/im2txt/memes/baked-guy.jpg\n",
      "bald-eagle.jpg https://raw.githubusercontent.com/alpv95/Dank-Learning/master/im2txt/memes/bald-eagle.jpg\n",
      "ballet-chihuahua.jpg https://raw.githubusercontent.com/alpv95/Dank-Learning/master/im2txt/memes/ballet-chihuahua.jpg\n",
      "band-kid.jpg https://raw.githubusercontent.com/alpv95/Dank-Learning/master/im2txt/memes/band-kid.jpg\n",
      "bandit-keith.jpg https://raw.githubusercontent.com/alpv95/Dank-Learning/master/im2txt/memes/bandit-keith.jpg\n",
      "bane-dark-knight.jpg https://raw.githubusercontent.com/alpv95/Dank-Learning/master/im2txt/memes/bane-dark-knight.jpg\n",
      "bane-meme.jpg https://raw.githubusercontent.com/alpv95/Dank-Learning/master/im2txt/memes/bane-meme.jpg\n",
      "batman-is-sad.jpg https://raw.githubusercontent.com/alpv95/Dank-Learning/master/im2txt/memes/batman-is-sad.jpg\n",
      "batman-slap-robin.jpg https://raw.githubusercontent.com/alpv95/Dank-Learning/master/im2txt/memes/batman-slap-robin.jpg\n",
      "batman-slapping-robin.jpg https://raw.githubusercontent.com/alpv95/Dank-Learning/master/im2txt/memes/batman-slapping-robin.jpg\n",
      "battlefield-soldier.jpg https://raw.githubusercontent.com/alpv95/Dank-Learning/master/im2txt/memes/battlefield-soldier.jpg\n",
      "bear-grylls-loneliness.jpg https://raw.githubusercontent.com/alpv95/Dank-Learning/master/im2txt/memes/bear-grylls-loneliness.jpg\n",
      "beastguy.jpg https://raw.githubusercontent.com/alpv95/Dank-Learning/master/im2txt/memes/beastguy.jpg\n",
      "beavis-and-butthead.jpg https://raw.githubusercontent.com/alpv95/Dank-Learning/master/im2txt/memes/beavis-and-butthead.jpg\n",
      "bed-intruder.jpg https://raw.githubusercontent.com/alpv95/Dank-Learning/master/im2txt/memes/bed-intruder.jpg\n",
      "beer-baby.jpg https://raw.githubusercontent.com/alpv95/Dank-Learning/master/im2txt/memes/beer-baby.jpg\n",
      "befuddled-bruce.jpg https://raw.githubusercontent.com/alpv95/Dank-Learning/master/im2txt/memes/befuddled-bruce.jpg\n",
      "belarus-okay-man-ppc.jpg https://raw.githubusercontent.com/alpv95/Dank-Learning/master/im2txt/memes/belarus-okay-man-ppc.jpg\n",
      "bender-bending-rodriguez.jpg https://raw.githubusercontent.com/alpv95/Dank-Learning/master/im2txt/memes/bender-bending-rodriguez.jpg\n",
      "bender-blackjack-and-hookers.jpg https://raw.githubusercontent.com/alpv95/Dank-Learning/master/im2txt/memes/bender-blackjack-and-hookers.jpg\n",
      "bender-rodriguez.jpg https://raw.githubusercontent.com/alpv95/Dank-Learning/master/im2txt/memes/bender-rodriguez.jpg\n",
      "beon-user.jpg https://raw.githubusercontent.com/alpv95/Dank-Learning/master/im2txt/memes/beon-user.jpg\n",
      "berdyev.jpg https://raw.githubusercontent.com/alpv95/Dank-Learning/master/im2txt/memes/berdyev.jpg\n",
      "berks-tickets.jpg https://raw.githubusercontent.com/alpv95/Dank-Learning/master/im2txt/memes/berks-tickets.jpg\n",
      "bidolphin.jpg https://raw.githubusercontent.com/alpv95/Dank-Learning/master/im2txt/memes/bidolphin.jpg\n",
      "bigfield.jpg https://raw.githubusercontent.com/alpv95/Dank-Learning/master/im2txt/memes/bigfield.jpg\n",
      "bigyan-ng-jacket.jpg https://raw.githubusercontent.com/alpv95/Dank-Learning/master/im2txt/memes/bigyan-ng-jacket.jpg\n",
      "bill-clinton.jpg https://raw.githubusercontent.com/alpv95/Dank-Learning/master/im2txt/memes/bill-clinton.jpg\n",
      "bill-oreilly-proves-god.jpg https://raw.githubusercontent.com/alpv95/Dank-Learning/master/im2txt/memes/bill-oreilly-proves-god.jpg\n",
      "bimborracho.jpg https://raw.githubusercontent.com/alpv95/Dank-Learning/master/im2txt/memes/bimborracho.jpg\n",
      "biology-major-parrot.jpg https://raw.githubusercontent.com/alpv95/Dank-Learning/master/im2txt/memes/biology-major-parrot.jpg\n",
      "bitch-please-grammar.jpg https://raw.githubusercontent.com/alpv95/Dank-Learning/master/im2txt/memes/bitch-please-grammar.jpg\n",
      "bivaloe.jpg https://raw.githubusercontent.com/alpv95/Dank-Learning/master/im2txt/memes/bivaloe.jpg\n",
      "black-kid.jpg https://raw.githubusercontent.com/alpv95/Dank-Learning/master/im2txt/memes/black-kid.jpg\n"
     ]
    },
    {
     "name": "stderr",
     "output_type": "stream",
     "text": [
      " 99%|█████████▉| 116198/116886 [01:50<00:39, 17.63it/s]"
     ]
    },
    {
     "name": "stdout",
     "output_type": "stream",
     "text": [
      "black-metal-sword-kid.jpg https://raw.githubusercontent.com/alpv95/Dank-Learning/master/im2txt/memes/black-metal-sword-kid.jpg\n",
      "black-metal.jpg https://raw.githubusercontent.com/alpv95/Dank-Learning/master/im2txt/memes/black-metal.jpg\n"
     ]
    },
    {
     "name": "stderr",
     "output_type": "stream",
     "text": [
      " 99%|█████████▉| 116199/116886 [01:50<00:39, 17.33it/s]"
     ]
    },
    {
     "name": "stdout",
     "output_type": "stream",
     "text": [
      "blackjack-and-hookers-bender.jpg https://raw.githubusercontent.com/alpv95/Dank-Learning/master/im2txt/memes/blackjack-and-hookers-bender.jpg\n",
      "blank-black.jpg https://raw.githubusercontent.com/alpv95/Dank-Learning/master/im2txt/memes/blank-black.jpg\n",
      "blastoise.jpg https://raw.githubusercontent.com/alpv95/Dank-Learning/master/im2txt/memes/blastoise.jpg\n",
      "bob-the-builder.jpg https://raw.githubusercontent.com/alpv95/Dank-Learning/master/im2txt/memes/bob-the-builder.jpg\n",
      "bodybuilder-problems.jpg https://raw.githubusercontent.com/alpv95/Dank-Learning/master/im2txt/memes/bodybuilder-problems.jpg\n",
      "borat-meme.jpg https://raw.githubusercontent.com/alpv95/Dank-Learning/master/im2txt/memes/borat-meme.jpg\n",
      "bossy-the-llama.jpg https://raw.githubusercontent.com/alpv95/Dank-Learning/master/im2txt/memes/bossy-the-llama.jpg\n",
      "botota.jpg https://raw.githubusercontent.com/alpv95/Dank-Learning/master/im2txt/memes/botota.jpg\n",
      "brace-yourself-meme.jpg https://raw.githubusercontent.com/alpv95/Dank-Learning/master/im2txt/memes/brace-yourself-meme.jpg\n",
      "bratva.jpg https://raw.githubusercontent.com/alpv95/Dank-Learning/master/im2txt/memes/bratva.jpg\n",
      "breaking-bad-jesse.jpg https://raw.githubusercontent.com/alpv95/Dank-Learning/master/im2txt/memes/breaking-bad-jesse.jpg\n",
      "breid1.jpg https://raw.githubusercontent.com/alpv95/Dank-Learning/master/im2txt/memes/breid1.jpg\n",
      "brick-tamland.jpg https://raw.githubusercontent.com/alpv95/Dank-Learning/master/im2txt/memes/brick-tamland.jpg\n",
      "broly.jpg https://raw.githubusercontent.com/alpv95/Dank-Learning/master/im2txt/memes/broly.jpg\n",
      "brown-tooth-lucy.jpg https://raw.githubusercontent.com/alpv95/Dank-Learning/master/im2txt/memes/brown-tooth-lucy.jpg\n",
      "bud-ekzortsistom.jpg https://raw.githubusercontent.com/alpv95/Dank-Learning/master/im2txt/memes/bud-ekzortsistom.jpg\n",
      "buddy-jesus.jpg https://raw.githubusercontent.com/alpv95/Dank-Learning/master/im2txt/memes/buddy-jesus.jpg\n",
      "budnyawkoi.jpg https://raw.githubusercontent.com/alpv95/Dank-Learning/master/im2txt/memes/budnyawkoi.jpg\n",
      "burning-house-girl.jpg https://raw.githubusercontent.com/alpv95/Dank-Learning/master/im2txt/memes/burning-house-girl.jpg\n",
      "business-dog.jpg https://raw.githubusercontent.com/alpv95/Dank-Learning/master/im2txt/memes/business-dog.jpg\n",
      "but-it-is-not-this-day.jpg https://raw.githubusercontent.com/alpv95/Dank-Learning/master/im2txt/memes/but-it-is-not-this-day.jpg\n",
      "butthurt-dweller.jpg https://raw.githubusercontent.com/alpv95/Dank-Learning/master/im2txt/memes/butthurt-dweller.jpg\n",
      "butthurt-sean.jpg https://raw.githubusercontent.com/alpv95/Dank-Learning/master/im2txt/memes/butthurt-sean.jpg\n",
      "buzz-lightyear-meme-fixd.jpg https://raw.githubusercontent.com/alpv95/Dank-Learning/master/im2txt/memes/buzz-lightyear-meme-fixd.jpg\n",
      "cacoironico.jpg https://raw.githubusercontent.com/alpv95/Dank-Learning/master/im2txt/memes/cacoironico.jpg\n",
      "calamardo-says.jpg https://raw.githubusercontent.com/alpv95/Dank-Learning/master/im2txt/memes/calamardo-says.jpg\n",
      "camila-vallejos-chile.jpg https://raw.githubusercontent.com/alpv95/Dank-Learning/master/im2txt/memes/camila-vallejos-chile.jpg\n",
      "cap-art.jpg https://raw.githubusercontent.com/alpv95/Dank-Learning/master/im2txt/memes/cap-art.jpg\n",
      "captain-kirk.jpg https://raw.githubusercontent.com/alpv95/Dank-Learning/master/im2txt/memes/captain-kirk.jpg\n",
      "captain-obvious.jpg https://raw.githubusercontent.com/alpv95/Dank-Learning/master/im2txt/memes/captain-obvious.jpg\n",
      "captain-picard.jpg https://raw.githubusercontent.com/alpv95/Dank-Learning/master/im2txt/memes/captain-picard.jpg\n",
      "captcha.jpg https://raw.githubusercontent.com/alpv95/Dank-Learning/master/im2txt/memes/captcha.jpg\n",
      "capucha-hater.jpg https://raw.githubusercontent.com/alpv95/Dank-Learning/master/im2txt/memes/capucha-hater.jpg\n",
      "careers.jpg https://raw.githubusercontent.com/alpv95/Dank-Learning/master/im2txt/memes/careers.jpg\n",
      "carl-johnson.jpg https://raw.githubusercontent.com/alpv95/Dank-Learning/master/im2txt/memes/carl-johnson.jpg\n",
      "carl-spackler.jpg https://raw.githubusercontent.com/alpv95/Dank-Learning/master/im2txt/memes/carl-spackler.jpg\n"
     ]
    },
    {
     "name": "stderr",
     "output_type": "stream",
     "text": [
      " 99%|█████████▉| 116273/116886 [02:10<00:35, 17.33it/s]"
     ]
    },
    {
     "name": "stdout",
     "output_type": "stream",
     "text": [
      "casos-de-familia.jpg https://raw.githubusercontent.com/alpv95/Dank-Learning/master/im2txt/memes/casos-de-familia.jpg\n"
     ]
    },
    {
     "name": "stderr",
     "output_type": "stream",
     "text": [
      " 99%|█████████▉| 116275/116886 [02:10<01:00, 10.17it/s]"
     ]
    },
    {
     "name": "stdout",
     "output_type": "stream",
     "text": [
      "censo-chile.jpg https://raw.githubusercontent.com/alpv95/Dank-Learning/master/im2txt/memes/censo-chile.jpg\n",
      "censochile.jpg https://raw.githubusercontent.com/alpv95/Dank-Learning/master/im2txt/memes/censochile.jpg\n",
      "chadbrochill.jpg https://raw.githubusercontent.com/alpv95/Dank-Learning/master/im2txt/memes/chadbrochill.jpg\n",
      "challenge-denied.jpg https://raw.githubusercontent.com/alpv95/Dank-Learning/master/im2txt/memes/challenge-denied.jpg\n",
      "chan-chan.jpg https://raw.githubusercontent.com/alpv95/Dank-Learning/master/im2txt/memes/chan-chan.jpg\n",
      "chantal-andere.jpg https://raw.githubusercontent.com/alpv95/Dank-Learning/master/im2txt/memes/chantal-andere.jpg\n",
      "charlie-sheen-winning.jpg https://raw.githubusercontent.com/alpv95/Dank-Learning/master/im2txt/memes/charlie-sheen-winning.jpg\n",
      "cheeky-harry-potter.jpg https://raw.githubusercontent.com/alpv95/Dank-Learning/master/im2txt/memes/cheeky-harry-potter.jpg\n",
      "chemistry-cat.jpg https://raw.githubusercontent.com/alpv95/Dank-Learning/master/im2txt/memes/chemistry-cat.jpg\n",
      "chewbacca.jpg https://raw.githubusercontent.com/alpv95/Dank-Learning/master/im2txt/memes/chewbacca.jpg\n",
      "chibolo-de-mierda.jpg https://raw.githubusercontent.com/alpv95/Dank-Learning/master/im2txt/memes/chibolo-de-mierda.jpg\n",
      "chick-from-syktyvkar.jpg https://raw.githubusercontent.com/alpv95/Dank-Learning/master/im2txt/memes/chick-from-syktyvkar.jpg\n",
      "chico-drogado-22.jpg https://raw.githubusercontent.com/alpv95/Dank-Learning/master/im2txt/memes/chico-drogado-22.jpg\n",
      "chief-keef.jpg https://raw.githubusercontent.com/alpv95/Dank-Learning/master/im2txt/memes/chief-keef.jpg\n",
      "chilled-out-shepard.jpg https://raw.githubusercontent.com/alpv95/Dank-Learning/master/im2txt/memes/chilled-out-shepard.jpg\n",
      "choir-kiwi.jpg https://raw.githubusercontent.com/alpv95/Dank-Learning/master/im2txt/memes/choir-kiwi.jpg\n",
      "chris-jeritroll.jpg https://raw.githubusercontent.com/alpv95/Dank-Learning/master/im2txt/memes/chris-jeritroll.jpg\n",
      "chris-traeger.jpg https://raw.githubusercontent.com/alpv95/Dank-Learning/master/im2txt/memes/chris-traeger.jpg\n",
      "christopher-walken-cowbell.jpg https://raw.githubusercontent.com/alpv95/Dank-Learning/master/im2txt/memes/christopher-walken-cowbell.jpg\n",
      "chronic-illness-cat.jpg https://raw.githubusercontent.com/alpv95/Dank-Learning/master/im2txt/memes/chronic-illness-cat.jpg\n",
      "chubby-bubbles-girl.jpg https://raw.githubusercontent.com/alpv95/Dank-Learning/master/im2txt/memes/chubby-bubbles-girl.jpg\n",
      "chuck-norris-advice.jpg https://raw.githubusercontent.com/alpv95/Dank-Learning/master/im2txt/memes/chuck-norris-advice.jpg\n",
      "chuck-testa-nope.jpg https://raw.githubusercontent.com/alpv95/Dank-Learning/master/im2txt/memes/chuck-testa-nope.jpg\n",
      "chumlee.jpg https://raw.githubusercontent.com/alpv95/Dank-Learning/master/im2txt/memes/chumlee.jpg\n",
      "cirno.jpg https://raw.githubusercontent.com/alpv95/Dank-Learning/master/im2txt/memes/cirno.jpg\n",
      "cjhanks.jpg https://raw.githubusercontent.com/alpv95/Dank-Learning/master/im2txt/memes/cjhanks.jpg\n",
      "clappyq.jpg https://raw.githubusercontent.com/alpv95/Dank-Learning/master/im2txt/memes/clappyq.jpg\n",
      "clingy-girlfriend.jpg https://raw.githubusercontent.com/alpv95/Dank-Learning/master/im2txt/memes/clingy-girlfriend.jpg\n",
      "close-enough.jpg https://raw.githubusercontent.com/alpv95/Dank-Learning/master/im2txt/memes/close-enough.jpg\n",
      "comic-book-addict-penguin.jpg https://raw.githubusercontent.com/alpv95/Dank-Learning/master/im2txt/memes/comic-book-addict-penguin.jpg\n",
      "comic-book-guy-simpsons.jpg https://raw.githubusercontent.com/alpv95/Dank-Learning/master/im2txt/memes/comic-book-guy-simpsons.jpg\n",
      "comox-valley-deer.jpg https://raw.githubusercontent.com/alpv95/Dank-Learning/master/im2txt/memes/comox-valley-deer.jpg\n",
      "computer-kid.jpg https://raw.githubusercontent.com/alpv95/Dank-Learning/master/im2txt/memes/computer-kid.jpg\n",
      "condescending-fox.jpg https://raw.githubusercontent.com/alpv95/Dank-Learning/master/im2txt/memes/condescending-fox.jpg\n",
      "confused-bill-cosby.jpg https://raw.githubusercontent.com/alpv95/Dank-Learning/master/im2txt/memes/confused-bill-cosby.jpg\n",
      "confused-kony.jpg https://raw.githubusercontent.com/alpv95/Dank-Learning/master/im2txt/memes/confused-kony.jpg\n"
     ]
    },
    {
     "name": "stderr",
     "output_type": "stream",
     "text": [
      "100%|█████████▉| 116349/116886 [02:30<01:18,  6.85it/s]"
     ]
    },
    {
     "name": "stdout",
     "output_type": "stream",
     "text": [
      "conspiracy-baby.jpg https://raw.githubusercontent.com/alpv95/Dank-Learning/master/im2txt/memes/conspiracy-baby.jpg\n",
      "conspiracy-keanu.jpg https://raw.githubusercontent.com/alpv95/Dank-Learning/master/im2txt/memes/conspiracy-keanu.jpg\n",
      "conspiracy-psyduck.jpg https://raw.githubusercontent.com/alpv95/Dank-Learning/master/im2txt/memes/conspiracy-psyduck.jpg\n",
      "contradiction-cris.jpg https://raw.githubusercontent.com/alpv95/Dank-Learning/master/im2txt/memes/contradiction-cris.jpg\n",
      "contradictory-chris.jpg https://raw.githubusercontent.com/alpv95/Dank-Learning/master/im2txt/memes/contradictory-chris.jpg\n",
      "cool-hipster-girl.jpg https://raw.githubusercontent.com/alpv95/Dank-Learning/master/im2txt/memes/cool-hipster-girl.jpg\n",
      "coreagues-geologist.jpg https://raw.githubusercontent.com/alpv95/Dank-Learning/master/im2txt/memes/coreagues-geologist.jpg\n",
      "correction-guy.jpg https://raw.githubusercontent.com/alpv95/Dank-Learning/master/im2txt/memes/correction-guy.jpg\n",
      "country-english-idiot.jpg https://raw.githubusercontent.com/alpv95/Dank-Learning/master/im2txt/memes/country-english-idiot.jpg\n",
      "courage-dwight.jpg https://raw.githubusercontent.com/alpv95/Dank-Learning/master/im2txt/memes/courage-dwight.jpg\n",
      "coworker-cow.jpg https://raw.githubusercontent.com/alpv95/Dank-Learning/master/im2txt/memes/coworker-cow.jpg\n",
      "crab.jpg https://raw.githubusercontent.com/alpv95/Dank-Learning/master/im2txt/memes/crab.jpg\n",
      "craig-would-be-so-happy.jpg https://raw.githubusercontent.com/alpv95/Dank-Learning/master/im2txt/memes/craig-would-be-so-happy.jpg\n",
      "crazy-camel-lol.jpg https://raw.githubusercontent.com/alpv95/Dank-Learning/master/im2txt/memes/crazy-camel-lol.jpg\n",
      "crazy-perverted-japanese-businessman.jpg https://raw.githubusercontent.com/alpv95/Dank-Learning/master/im2txt/memes/crazy-perverted-japanese-businessman.jpg\n",
      "crazy-villain.jpg https://raw.githubusercontent.com/alpv95/Dank-Learning/master/im2txt/memes/crazy-villain.jpg\n",
      "crazyparents.jpg https://raw.githubusercontent.com/alpv95/Dank-Learning/master/im2txt/memes/crazyparents.jpg\n",
      "creeper.jpg https://raw.githubusercontent.com/alpv95/Dank-Learning/master/im2txt/memes/creeper.jpg\n",
      "creepy-ash.jpg https://raw.githubusercontent.com/alpv95/Dank-Learning/master/im2txt/memes/creepy-ash.jpg\n",
      "creepy-camera-man.jpg https://raw.githubusercontent.com/alpv95/Dank-Learning/master/im2txt/memes/creepy-camera-man.jpg\n",
      "creepy-emperor-palpatine.jpg https://raw.githubusercontent.com/alpv95/Dank-Learning/master/im2txt/memes/creepy-emperor-palpatine.jpg\n",
      "cristiano.jpg https://raw.githubusercontent.com/alpv95/Dank-Learning/master/im2txt/memes/cristiano.jpg\n",
      "cristianoronaldo.jpg https://raw.githubusercontent.com/alpv95/Dank-Learning/master/im2txt/memes/cristianoronaldo.jpg\n",
      "crybmxguy.jpg https://raw.githubusercontent.com/alpv95/Dank-Learning/master/im2txt/memes/crybmxguy.jpg\n",
      "crying-castiel.jpg https://raw.githubusercontent.com/alpv95/Dank-Learning/master/im2txt/memes/crying-castiel.jpg\n",
      "crying-girl-sad.jpg https://raw.githubusercontent.com/alpv95/Dank-Learning/master/im2txt/memes/crying-girl-sad.jpg\n",
      "crying-kid.jpg https://raw.githubusercontent.com/alpv95/Dank-Learning/master/im2txt/memes/crying-kid.jpg\n",
      "crying-meme.jpg https://raw.githubusercontent.com/alpv95/Dank-Learning/master/im2txt/memes/crying-meme.jpg\n",
      "crying-peter-parker.jpg https://raw.githubusercontent.com/alpv95/Dank-Learning/master/im2txt/memes/crying-peter-parker.jpg\n",
      "crying-tobey-maguire.jpg https://raw.githubusercontent.com/alpv95/Dank-Learning/master/im2txt/memes/crying-tobey-maguire.jpg\n",
      "cryingbreivik.jpg https://raw.githubusercontent.com/alpv95/Dank-Learning/master/im2txt/memes/cryingbreivik.jpg\n",
      "csi-miami.jpg https://raw.githubusercontent.com/alpv95/Dank-Learning/master/im2txt/memes/csi-miami.jpg\n",
      "cunningputin.jpg https://raw.githubusercontent.com/alpv95/Dank-Learning/master/im2txt/memes/cunningputin.jpg\n",
      "cuntdestroyer69.jpg https://raw.githubusercontent.com/alpv95/Dank-Learning/master/im2txt/memes/cuntdestroyer69.jpg\n",
      "customer-service-croc.jpg https://raw.githubusercontent.com/alpv95/Dank-Learning/master/im2txt/memes/customer-service-croc.jpg\n",
      "cute-kitten.jpg https://raw.githubusercontent.com/alpv95/Dank-Learning/master/im2txt/memes/cute-kitten.jpg\n",
      "cynical-sexy-fox.jpg https://raw.githubusercontent.com/alpv95/Dank-Learning/master/im2txt/memes/cynical-sexy-fox.jpg\n",
      "czerstwiak.jpg https://raw.githubusercontent.com/alpv95/Dank-Learning/master/im2txt/memes/czerstwiak.jpg\n",
      "dafuq-chipmonk.jpg https://raw.githubusercontent.com/alpv95/Dank-Learning/master/im2txt/memes/dafuq-chipmonk.jpg\n",
      "damned-pacifist.jpg https://raw.githubusercontent.com/alpv95/Dank-Learning/master/im2txt/memes/damned-pacifist.jpg\n",
      "damondepressao.jpg https://raw.githubusercontent.com/alpv95/Dank-Learning/master/im2txt/memes/damondepressao.jpg\n",
      "danish-problems-roligan.jpg https://raw.githubusercontent.com/alpv95/Dank-Learning/master/im2txt/memes/danish-problems-roligan.jpg\n"
     ]
    },
    {
     "name": "stderr",
     "output_type": "stream",
     "text": [
      "100%|█████████▉| 116427/116886 [02:50<01:26,  5.33it/s]"
     ]
    },
    {
     "name": "stdout",
     "output_type": "stream",
     "text": [
      "dat-ash.jpg https://raw.githubusercontent.com/alpv95/Dank-Learning/master/im2txt/memes/dat-ash.jpg\n",
      "date-rape-dave.jpg https://raw.githubusercontent.com/alpv95/Dank-Learning/master/im2txt/memes/date-rape-dave.jpg\n",
      "dave-mustaine.jpg https://raw.githubusercontent.com/alpv95/Dank-Learning/master/im2txt/memes/dave-mustaine.jpg\n",
      "david-guetta-3.jpg https://raw.githubusercontent.com/alpv95/Dank-Learning/master/im2txt/memes/david-guetta-3.jpg\n",
      "dd-gnome.jpg https://raw.githubusercontent.com/alpv95/Dank-Learning/master/im2txt/memes/dd-gnome.jpg\n",
      "death-note.jpg https://raw.githubusercontent.com/alpv95/Dank-Learning/master/im2txt/memes/death-note.jpg\n",
      "deep-thinking-cena.jpg https://raw.githubusercontent.com/alpv95/Dank-Learning/master/im2txt/memes/deep-thinking-cena.jpg\n",
      "denial-bible.jpg https://raw.githubusercontent.com/alpv95/Dank-Learning/master/im2txt/memes/denial-bible.jpg\n",
      "depressed-dog.jpg https://raw.githubusercontent.com/alpv95/Dank-Learning/master/im2txt/memes/depressed-dog.jpg\n",
      "depressive-pinkamena.jpg https://raw.githubusercontent.com/alpv95/Dank-Learning/master/im2txt/memes/depressive-pinkamena.jpg\n",
      "derektime.jpg https://raw.githubusercontent.com/alpv95/Dank-Learning/master/im2txt/memes/derektime.jpg\n",
      "derevo.jpg https://raw.githubusercontent.com/alpv95/Dank-Learning/master/im2txt/memes/derevo.jpg\n",
      "derp-meme.jpg https://raw.githubusercontent.com/alpv95/Dank-Learning/master/im2txt/memes/derp-meme.jpg\n",
      "derpy-dale.jpg https://raw.githubusercontent.com/alpv95/Dank-Learning/master/im2txt/memes/derpy-dale.jpg\n",
      "desk-flip-rage-guy.jpg https://raw.githubusercontent.com/alpv95/Dank-Learning/master/im2txt/memes/desk-flip-rage-guy.jpg\n",
      "detonator5.jpg https://raw.githubusercontent.com/alpv95/Dank-Learning/master/im2txt/memes/detonator5.jpg\n",
      "deviantart-owl.jpg https://raw.githubusercontent.com/alpv95/Dank-Learning/master/im2txt/memes/deviantart-owl.jpg\n",
      "dexter-morgan.jpg https://raw.githubusercontent.com/alpv95/Dank-Learning/master/im2txt/memes/dexter-morgan.jpg\n",
      "dictator-cat.jpg https://raw.githubusercontent.com/alpv95/Dank-Learning/master/im2txt/memes/dictator-cat.jpg\n",
      "dinosaur-director.jpg https://raw.githubusercontent.com/alpv95/Dank-Learning/master/im2txt/memes/dinosaur-director.jpg\n",
      "disapproval-hedgehog.jpg https://raw.githubusercontent.com/alpv95/Dank-Learning/master/im2txt/memes/disapproval-hedgehog.jpg\n",
      "disapproving-batman.jpg https://raw.githubusercontent.com/alpv95/Dank-Learning/master/im2txt/memes/disapproving-batman.jpg\n",
      "disco-dancer.jpg https://raw.githubusercontent.com/alpv95/Dank-Learning/master/im2txt/memes/disco-dancer.jpg\n",
      "disgruntled-brony.jpg https://raw.githubusercontent.com/alpv95/Dank-Learning/master/im2txt/memes/disgruntled-brony.jpg\n",
      "disgruntled-john.jpg https://raw.githubusercontent.com/alpv95/Dank-Learning/master/im2txt/memes/disgruntled-john.jpg\n",
      "disgruntled-joseph.jpg https://raw.githubusercontent.com/alpv95/Dank-Learning/master/im2txt/memes/disgruntled-joseph.jpg\n",
      "disgusted-caco-antibes.jpg https://raw.githubusercontent.com/alpv95/Dank-Learning/master/im2txt/memes/disgusted-caco-antibes.jpg\n",
      "disingenuous-liberal.jpg https://raw.githubusercontent.com/alpv95/Dank-Learning/master/im2txt/memes/disingenuous-liberal.jpg\n",
      "disney-nerd.jpg https://raw.githubusercontent.com/alpv95/Dank-Learning/master/im2txt/memes/disney-nerd.jpg\n",
      "dissociativedegu.jpg https://raw.githubusercontent.com/alpv95/Dank-Learning/master/im2txt/memes/dissociativedegu.jpg\n",
      "doble-dare-you.jpg https://raw.githubusercontent.com/alpv95/Dank-Learning/master/im2txt/memes/doble-dare-you.jpg\n",
      "doctor-who.jpg https://raw.githubusercontent.com/alpv95/Dank-Learning/master/im2txt/memes/doctor-who.jpg\n",
      "dogeee.jpg https://raw.githubusercontent.com/alpv95/Dank-Learning/master/im2txt/memes/dogeee.jpg\n",
      "dolores-umbridge.jpg https://raw.githubusercontent.com/alpv95/Dank-Learning/master/im2txt/memes/dolores-umbridge.jpg\n",
      "donkey-shrek.jpg https://raw.githubusercontent.com/alpv95/Dank-Learning/master/im2txt/memes/donkey-shrek.jpg\n",
      "dont-you-squidward.jpg https://raw.githubusercontent.com/alpv95/Dank-Learning/master/im2txt/memes/dont-you-squidward.jpg\n",
      "donya-angelica.jpg https://raw.githubusercontent.com/alpv95/Dank-Learning/master/im2txt/memes/donya-angelica.jpg\n",
      "dos-equis-guy.jpg https://raw.githubusercontent.com/alpv95/Dank-Learning/master/im2txt/memes/dos-equis-guy.jpg\n"
     ]
    },
    {
     "name": "stderr",
     "output_type": "stream",
     "text": [
      "100%|█████████▉| 116501/116886 [03:10<01:24,  4.55it/s]"
     ]
    },
    {
     "name": "stdout",
     "output_type": "stream",
     "text": [
      "double-fisting-dildo.jpg https://raw.githubusercontent.com/alpv95/Dank-Learning/master/im2txt/memes/double-fisting-dildo.jpg\n"
     ]
    },
    {
     "name": "stderr",
     "output_type": "stream",
     "text": [
      "100%|█████████▉| 116502/116886 [03:10<01:24,  4.52it/s]"
     ]
    },
    {
     "name": "stdout",
     "output_type": "stream",
     "text": [
      "douchebag-gamer.jpg https://raw.githubusercontent.com/alpv95/Dank-Learning/master/im2txt/memes/douchebag-gamer.jpg\n",
      "douchebag-giraffe.jpg https://raw.githubusercontent.com/alpv95/Dank-Learning/master/im2txt/memes/douchebag-giraffe.jpg\n",
      "douchebag-wolverine.jpg https://raw.githubusercontent.com/alpv95/Dank-Learning/master/im2txt/memes/douchebag-wolverine.jpg\n",
      "douchey-boyfriend.jpg https://raw.githubusercontent.com/alpv95/Dank-Learning/master/im2txt/memes/douchey-boyfriend.jpg\n",
      "doug-funny.jpg https://raw.githubusercontent.com/alpv95/Dank-Learning/master/im2txt/memes/doug-funny.jpg\n",
      "down-syndrome-drake.jpg https://raw.githubusercontent.com/alpv95/Dank-Learning/master/im2txt/memes/down-syndrome-drake.jpg\n",
      "dr-evil-and-his-minions.jpg https://raw.githubusercontent.com/alpv95/Dank-Learning/master/im2txt/memes/dr-evil-and-his-minions.jpg\n",
      "dr-evil-quotation-marks.jpg https://raw.githubusercontent.com/alpv95/Dank-Learning/master/im2txt/memes/dr-evil-quotation-marks.jpg\n",
      "dr-phil.jpg https://raw.githubusercontent.com/alpv95/Dank-Learning/master/im2txt/memes/dr-phil.jpg\n",
      "drake-quotes.jpg https://raw.githubusercontent.com/alpv95/Dank-Learning/master/im2txt/memes/drake-quotes.jpg\n",
      "drama-llama.jpg https://raw.githubusercontent.com/alpv95/Dank-Learning/master/im2txt/memes/drama-llama.jpg\n",
      "dramadramaduck.jpg https://raw.githubusercontent.com/alpv95/Dank-Learning/master/im2txt/memes/dramadramaduck.jpg\n",
      "dramatic-fortune-teller.jpg https://raw.githubusercontent.com/alpv95/Dank-Learning/master/im2txt/memes/dramatic-fortune-teller.jpg\n",
      "drew-pickles-the-gayest-man-in-the-world.jpg https://raw.githubusercontent.com/alpv95/Dank-Learning/master/im2txt/memes/drew-pickles-the-gayest-man-in-the-world.jpg\n",
      "drunk-baby-1.jpg https://raw.githubusercontent.com/alpv95/Dank-Learning/master/im2txt/memes/drunk-baby-1.jpg\n",
      "drunken-monkey.jpg https://raw.githubusercontent.com/alpv95/Dank-Learning/master/im2txt/memes/drunken-monkey.jpg\n",
      "dsk-generator.jpg https://raw.githubusercontent.com/alpv95/Dank-Learning/master/im2txt/memes/dsk-generator.jpg\n",
      "du-vet-att-du-r-svensk-nr.jpg https://raw.githubusercontent.com/alpv95/Dank-Learning/master/im2txt/memes/du-vet-att-du-r-svensk-nr.jpg\n",
      "dumb-blonde.jpg https://raw.githubusercontent.com/alpv95/Dank-Learning/master/im2txt/memes/dumb-blonde.jpg\n",
      "dumb-king.jpg https://raw.githubusercontent.com/alpv95/Dank-Learning/master/im2txt/memes/dumb-king.jpg\n",
      "dumb-whore-gina-rinehart.jpg https://raw.githubusercontent.com/alpv95/Dank-Learning/master/im2txt/memes/dumb-whore-gina-rinehart.jpg\n",
      "dvorfootballist.jpg https://raw.githubusercontent.com/alpv95/Dank-Learning/master/im2txt/memes/dvorfootballist.jpg\n",
      "eat-the-cockroach.jpg https://raw.githubusercontent.com/alpv95/Dank-Learning/master/im2txt/memes/eat-the-cockroach.jpg\n",
      "eating-disorder-owl.jpg https://raw.githubusercontent.com/alpv95/Dank-Learning/master/im2txt/memes/eating-disorder-owl.jpg\n",
      "eeyore.jpg https://raw.githubusercontent.com/alpv95/Dank-Learning/master/im2txt/memes/eeyore.jpg\n"
     ]
    },
    {
     "name": "stderr",
     "output_type": "stream",
     "text": [
      "100%|█████████▉| 116561/116886 [03:26<01:17,  4.17it/s]"
     ]
    },
    {
     "name": "stdout",
     "output_type": "stream",
     "text": [
      "el-arte-de-amarte-por-nappa.jpg https://raw.githubusercontent.com/alpv95/Dank-Learning/master/im2txt/memes/el-arte-de-amarte-por-nappa.jpg\n",
      "el-padrazo.jpg https://raw.githubusercontent.com/alpv95/Dank-Learning/master/im2txt/memes/el-padrazo.jpg\n",
      "el-panchito-dise.jpg https://raw.githubusercontent.com/alpv95/Dank-Learning/master/im2txt/memes/el-panchito-dise.jpg\n"
     ]
    },
    {
     "name": "stderr",
     "output_type": "stream",
     "text": [
      "100%|█████████▉| 116563/116886 [03:26<01:16,  4.23it/s]"
     ]
    },
    {
     "name": "stdout",
     "output_type": "stream",
     "text": [
      "el-tuki.jpg https://raw.githubusercontent.com/alpv95/Dank-Learning/master/im2txt/memes/el-tuki.jpg\n",
      "el-valor-de-la-verdura-es-verdad.jpg https://raw.githubusercontent.com/alpv95/Dank-Learning/master/im2txt/memes/el-valor-de-la-verdura-es-verdad.jpg\n",
      "eli-troll-manning.jpg https://raw.githubusercontent.com/alpv95/Dank-Learning/master/im2txt/memes/eli-troll-manning.jpg\n",
      "elitist-fashionista.jpg https://raw.githubusercontent.com/alpv95/Dank-Learning/master/im2txt/memes/elitist-fashionista.jpg\n",
      "ellino.jpg https://raw.githubusercontent.com/alpv95/Dank-Learning/master/im2txt/memes/ellino.jpg\n",
      "emo-oldfag.jpg https://raw.githubusercontent.com/alpv95/Dank-Learning/master/im2txt/memes/emo-oldfag.jpg\n",
      "emocorese.jpg https://raw.githubusercontent.com/alpv95/Dank-Learning/master/im2txt/memes/emocorese.jpg\n",
      "emperorrr.jpg https://raw.githubusercontent.com/alpv95/Dank-Learning/master/im2txt/memes/emperorrr.jpg\n",
      "empty-promises-coach.jpg https://raw.githubusercontent.com/alpv95/Dank-Learning/master/im2txt/memes/empty-promises-coach.jpg\n",
      "engineering-student-bat.jpg https://raw.githubusercontent.com/alpv95/Dank-Learning/master/im2txt/memes/engineering-student-bat.jpg\n",
      "english-motherfucker-do-you-speak-it.jpg https://raw.githubusercontent.com/alpv95/Dank-Learning/master/im2txt/memes/english-motherfucker-do-you-speak-it.jpg\n",
      "english-motherfucker.jpg https://raw.githubusercontent.com/alpv95/Dank-Learning/master/im2txt/memes/english-motherfucker.jpg\n",
      "epic-meal-time.jpg https://raw.githubusercontent.com/alpv95/Dank-Learning/master/im2txt/memes/epic-meal-time.jpg\n",
      "erhmagerd.jpg https://raw.githubusercontent.com/alpv95/Dank-Learning/master/im2txt/memes/erhmagerd.jpg\n",
      "ermagherd-girl.jpg https://raw.githubusercontent.com/alpv95/Dank-Learning/master/im2txt/memes/ermagherd-girl.jpg\n",
      "ermahgerd-girl.jpg https://raw.githubusercontent.com/alpv95/Dank-Learning/master/im2txt/memes/ermahgerd-girl.jpg\n",
      "es-bakans.jpg https://raw.githubusercontent.com/alpv95/Dank-Learning/master/im2txt/memes/es-bakans.jpg\n",
      "escobar-el-patron-del-mal.jpg https://raw.githubusercontent.com/alpv95/Dank-Learning/master/im2txt/memes/escobar-el-patron-del-mal.jpg\n",
      "evil-asian-baby.jpg https://raw.githubusercontent.com/alpv95/Dank-Learning/master/im2txt/memes/evil-asian-baby.jpg\n",
      "evil-cat-bonbon.jpg https://raw.githubusercontent.com/alpv95/Dank-Learning/master/im2txt/memes/evil-cat-bonbon.jpg\n",
      "evil-cows.jpg https://raw.githubusercontent.com/alpv95/Dank-Learning/master/im2txt/memes/evil-cows.jpg\n",
      "evil-girl.jpg https://raw.githubusercontent.com/alpv95/Dank-Learning/master/im2txt/memes/evil-girl.jpg\n"
     ]
    },
    {
     "name": "stderr",
     "output_type": "stream",
     "text": [
      "100%|█████████▉| 116605/116886 [03:37<01:08,  4.12it/s]"
     ]
    },
    {
     "name": "stdout",
     "output_type": "stream",
     "text": [
      "evil-raccoon.jpg https://raw.githubusercontent.com/alpv95/Dank-Learning/master/im2txt/memes/evil-raccoon.jpg\n"
     ]
    },
    {
     "name": "stderr",
     "output_type": "stream",
     "text": [
      "100%|█████████▉| 116606/116886 [03:37<01:08,  4.09it/s]"
     ]
    },
    {
     "name": "stdout",
     "output_type": "stream",
     "text": [
      "excessively-annoyed-squirrel.jpg https://raw.githubusercontent.com/alpv95/Dank-Learning/master/im2txt/memes/excessively-annoyed-squirrel.jpg\n",
      "eye-of-sauron.jpg https://raw.githubusercontent.com/alpv95/Dank-Learning/master/im2txt/memes/eye-of-sauron.jpg\n",
      "f-yeah.jpg https://raw.githubusercontent.com/alpv95/Dank-Learning/master/im2txt/memes/f-yeah.jpg\n",
      "face-off.jpg https://raw.githubusercontent.com/alpv95/Dank-Learning/master/im2txt/memes/face-off.jpg\n",
      "facebook-max.jpg https://raw.githubusercontent.com/alpv95/Dank-Learning/master/im2txt/memes/facebook-max.jpg\n",
      "facebookyaomingfumon.jpg https://raw.githubusercontent.com/alpv95/Dank-Learning/master/im2txt/memes/facebookyaomingfumon.jpg\n",
      "facerolling-gamer-dolan.jpg https://raw.githubusercontent.com/alpv95/Dank-Learning/master/im2txt/memes/facerolling-gamer-dolan.jpg\n",
      "fake-dog.jpg https://raw.githubusercontent.com/alpv95/Dank-Learning/master/im2txt/memes/fake-dog.jpg\n",
      "family-guy-pepperidge-farm.jpg https://raw.githubusercontent.com/alpv95/Dank-Learning/master/im2txt/memes/family-guy-pepperidge-farm.jpg\n",
      "family-man.jpg https://raw.githubusercontent.com/alpv95/Dank-Learning/master/im2txt/memes/family-man.jpg\n",
      "family-tech-support.jpg https://raw.githubusercontent.com/alpv95/Dank-Learning/master/im2txt/memes/family-tech-support.jpg\n",
      "fanfic-flamingo.jpg https://raw.githubusercontent.com/alpv95/Dank-Learning/master/im2txt/memes/fanfic-flamingo.jpg\n",
      "fast-food-feline.jpg https://raw.githubusercontent.com/alpv95/Dank-Learning/master/im2txt/memes/fast-food-feline.jpg\n",
      "fat-chinese-kid.jpg https://raw.githubusercontent.com/alpv95/Dank-Learning/master/im2txt/memes/fat-chinese-kid.jpg\n",
      "fat-coaster-enthusiast.jpg https://raw.githubusercontent.com/alpv95/Dank-Learning/master/im2txt/memes/fat-coaster-enthusiast.jpg\n",
      "fat-girl.jpg https://raw.githubusercontent.com/alpv95/Dank-Learning/master/im2txt/memes/fat-girl.jpg\n"
     ]
    },
    {
     "name": "stderr",
     "output_type": "stream",
     "text": [
      "100%|█████████▉| 116636/116886 [03:44<00:59,  4.21it/s]"
     ]
    },
    {
     "name": "stdout",
     "output_type": "stream",
     "text": [
      "fatlarry-and-fatdog.jpg https://raw.githubusercontent.com/alpv95/Dank-Learning/master/im2txt/memes/fatlarry-and-fatdog.jpg\n",
      "fear-sinestro.jpg https://raw.githubusercontent.com/alpv95/Dank-Learning/master/im2txt/memes/fear-sinestro.jpg\n",
      "fedinsport.jpg https://raw.githubusercontent.com/alpv95/Dank-Learning/master/im2txt/memes/fedinsport.jpg\n",
      "fedsex-shipping-guy.jpg https://raw.githubusercontent.com/alpv95/Dank-Learning/master/im2txt/memes/fedsex-shipping-guy.jpg\n",
      "female-internet-troll.jpg https://raw.githubusercontent.com/alpv95/Dank-Learning/master/im2txt/memes/female-internet-troll.jpg\n",
      "feminist-cunt.jpg https://raw.githubusercontent.com/alpv95/Dank-Learning/master/im2txt/memes/feminist-cunt.jpg\n",
      "film-school-ferret.jpg https://raw.githubusercontent.com/alpv95/Dank-Learning/master/im2txt/memes/film-school-ferret.jpg\n",
      "final-advice-dog.jpg https://raw.githubusercontent.com/alpv95/Dank-Learning/master/im2txt/memes/final-advice-dog.jpg\n",
      "finnishproblems.jpg https://raw.githubusercontent.com/alpv95/Dank-Learning/master/im2txt/memes/finnishproblems.jpg\n",
      "first-day-on-the-internet-kid.jpg https://raw.githubusercontent.com/alpv95/Dank-Learning/master/im2txt/memes/first-day-on-the-internet-kid.jpg\n",
      "first-world-problems.jpg https://raw.githubusercontent.com/alpv95/Dank-Learning/master/im2txt/memes/first-world-problems.jpg\n"
     ]
    },
    {
     "name": "stderr",
     "output_type": "stream",
     "text": [
      "100%|█████████▉| 116657/116886 [03:50<00:57,  3.99it/s]"
     ]
    },
    {
     "name": "stdout",
     "output_type": "stream",
     "text": [
      "flamboyant-gay-man.jpg https://raw.githubusercontent.com/alpv95/Dank-Learning/master/im2txt/memes/flamboyant-gay-man.jpg\n",
      "flame-haired-poser.jpg https://raw.githubusercontent.com/alpv95/Dank-Learning/master/im2txt/memes/flame-haired-poser.jpg\n",
      "flirting-sasuke-meme.jpg https://raw.githubusercontent.com/alpv95/Dank-Learning/master/im2txt/memes/flirting-sasuke-meme.jpg\n",
      "football-manager-2013.jpg https://raw.githubusercontent.com/alpv95/Dank-Learning/master/im2txt/memes/football-manager-2013.jpg\n",
      "forever-alone.jpg https://raw.githubusercontent.com/alpv95/Dank-Learning/master/im2txt/memes/forever-alone.jpg\n",
      "forever-bronze.jpg https://raw.githubusercontent.com/alpv95/Dank-Learning/master/im2txt/memes/forever-bronze.jpg\n",
      "foreveralonerussian.jpg https://raw.githubusercontent.com/alpv95/Dank-Learning/master/im2txt/memes/foreveralonerussian.jpg\n",
      "foul-bachelor-camel.jpg https://raw.githubusercontent.com/alpv95/Dank-Learning/master/im2txt/memes/foul-bachelor-camel.jpg\n"
     ]
    },
    {
     "name": "stderr",
     "output_type": "stream",
     "text": [
      "100%|█████████▉| 116672/116886 [03:54<00:54,  3.91it/s]"
     ]
    },
    {
     "name": "stdout",
     "output_type": "stream",
     "text": [
      "foul-frog-couple.jpg https://raw.githubusercontent.com/alpv95/Dank-Learning/master/im2txt/memes/foul-frog-couple.jpg\n",
      "fps-n00b.jpg https://raw.githubusercontent.com/alpv95/Dank-Learning/master/im2txt/memes/fps-n00b.jpg\n",
      "francseco-schettino.jpg https://raw.githubusercontent.com/alpv95/Dank-Learning/master/im2txt/memes/francseco-schettino.jpg\n",
      "frankenstein.jpg https://raw.githubusercontent.com/alpv95/Dank-Learning/master/im2txt/memes/frankenstein.jpg\n"
     ]
    },
    {
     "name": "stderr",
     "output_type": "stream",
     "text": [
      "100%|█████████▉| 116683/116886 [03:57<00:52,  3.87it/s]"
     ]
    },
    {
     "name": "stdout",
     "output_type": "stream",
     "text": [
      "freddy-krueger.jpg https://raw.githubusercontent.com/alpv95/Dank-Learning/master/im2txt/memes/freddy-krueger.jpg\n",
      "frodo.jpg https://raw.githubusercontent.com/alpv95/Dank-Learning/master/im2txt/memes/frodo.jpg\n",
      "frustrated-journalist-cat.jpg https://raw.githubusercontent.com/alpv95/Dank-Learning/master/im2txt/memes/frustrated-journalist-cat.jpg\n"
     ]
    },
    {
     "name": "stderr",
     "output_type": "stream",
     "text": [
      "100%|█████████▉| 116691/116886 [04:00<00:54,  3.56it/s]"
     ]
    },
    {
     "name": "stdout",
     "output_type": "stream",
     "text": [
      "fuck-that-guy.jpg https://raw.githubusercontent.com/alpv95/Dank-Learning/master/im2txt/memes/fuck-that-guy.jpg\n",
      "fuck-yeah-band-buffalo.jpg https://raw.githubusercontent.com/alpv95/Dank-Learning/master/im2txt/memes/fuck-yeah-band-buffalo.jpg\n",
      "fucked-up-flynn.jpg https://raw.githubusercontent.com/alpv95/Dank-Learning/master/im2txt/memes/fucked-up-flynn.jpg\n"
     ]
    },
    {
     "name": "stderr",
     "output_type": "stream",
     "text": [
      "100%|█████████▉| 116697/116886 [04:02<00:51,  3.64it/s]"
     ]
    },
    {
     "name": "stdout",
     "output_type": "stream",
     "text": [
      "fuming-tourettes-guy.jpg https://raw.githubusercontent.com/alpv95/Dank-Learning/master/im2txt/memes/fuming-tourettes-guy.jpg\n",
      "funny-asian-guy.jpg https://raw.githubusercontent.com/alpv95/Dank-Learning/master/im2txt/memes/funny-asian-guy.jpg\n"
     ]
    },
    {
     "name": "stderr",
     "output_type": "stream",
     "text": [
      "100%|█████████▉| 116701/116886 [04:03<00:50,  3.69it/s]"
     ]
    },
    {
     "name": "stdout",
     "output_type": "stream",
     "text": [
      "funnyjunk-meme.jpg https://raw.githubusercontent.com/alpv95/Dank-Learning/master/im2txt/memes/funnyjunk-meme.jpg\n"
     ]
    },
    {
     "name": "stderr",
     "output_type": "stream",
     "text": [
      "100%|█████████▉| 116704/116886 [04:04<00:51,  3.52it/s]"
     ]
    },
    {
     "name": "stdout",
     "output_type": "stream",
     "text": [
      "futurama-fry.jpg https://raw.githubusercontent.com/alpv95/Dank-Learning/master/im2txt/memes/futurama-fry.jpg\n"
     ]
    },
    {
     "name": "stderr",
     "output_type": "stream",
     "text": [
      "100%|█████████▉| 116709/116886 [04:06<00:54,  3.28it/s]"
     ]
    },
    {
     "name": "stdout",
     "output_type": "stream",
     "text": [
      "gaba.jpg https://raw.githubusercontent.com/alpv95/Dank-Learning/master/im2txt/memes/gaba.jpg\n"
     ]
    },
    {
     "name": "stderr",
     "output_type": "stream",
     "text": [
      "100%|█████████▉| 116713/116886 [04:06<00:45,  3.84it/s]"
     ]
    },
    {
     "name": "stdout",
     "output_type": "stream",
     "text": [
      "game-of-thrones-dancing-maste.jpg https://raw.githubusercontent.com/alpv95/Dank-Learning/master/im2txt/memes/game-of-thrones-dancing-maste.jpg\n",
      "gamer-dog.jpg https://raw.githubusercontent.com/alpv95/Dank-Learning/master/im2txt/memes/gamer-dog.jpg\n"
     ]
    },
    {
     "name": "stderr",
     "output_type": "stream",
     "text": [
      "100%|█████████▉| 116718/116886 [04:08<00:41,  4.09it/s]"
     ]
    },
    {
     "name": "stdout",
     "output_type": "stream",
     "text": [
      "gaming-gopher.jpg https://raw.githubusercontent.com/alpv95/Dank-Learning/master/im2txt/memes/gaming-gopher.jpg\n",
      "gangnam-style.jpg https://raw.githubusercontent.com/alpv95/Dank-Learning/master/im2txt/memes/gangnam-style.jpg\n",
      "gary-bettman.jpg https://raw.githubusercontent.com/alpv95/Dank-Learning/master/im2txt/memes/gary-bettman.jpg\n"
     ]
    },
    {
     "name": "stderr",
     "output_type": "stream",
     "text": [
      "100%|█████████▉| 116722/116886 [04:08<00:27,  6.04it/s]"
     ]
    },
    {
     "name": "stdout",
     "output_type": "stream",
     "text": [
      "gasy.jpg https://raw.githubusercontent.com/alpv95/Dank-Learning/master/im2txt/memes/gasy.jpg\n",
      "gato-con-botas.jpg https://raw.githubusercontent.com/alpv95/Dank-Learning/master/im2txt/memes/gato-con-botas.jpg\n",
      "gato-empresario-andateql.jpg https://raw.githubusercontent.com/alpv95/Dank-Learning/master/im2txt/memes/gato-empresario-andateql.jpg\n"
     ]
    },
    {
     "name": "stderr",
     "output_type": "stream",
     "text": [
      "100%|█████████▉| 116724/116886 [04:08<00:29,  5.46it/s]"
     ]
    },
    {
     "name": "stdout",
     "output_type": "stream",
     "text": [
      "gena-orlov.jpg https://raw.githubusercontent.com/alpv95/Dank-Learning/master/im2txt/memes/gena-orlov.jpg\n"
     ]
    },
    {
     "name": "stderr",
     "output_type": "stream",
     "text": [
      "100%|█████████▉| 116730/116886 [04:10<00:39,  3.97it/s]"
     ]
    },
    {
     "name": "stdout",
     "output_type": "stream",
     "text": [
      "gentrification-giraffe.jpg https://raw.githubusercontent.com/alpv95/Dank-Learning/master/im2txt/memes/gentrification-giraffe.jpg\n",
      "geography-alligator.jpg https://raw.githubusercontent.com/alpv95/Dank-Learning/master/im2txt/memes/geography-alligator.jpg\n"
     ]
    },
    {
     "name": "stderr",
     "output_type": "stream",
     "text": [
      "100%|█████████▉| 116735/116886 [04:12<00:35,  4.22it/s]"
     ]
    },
    {
     "name": "stdout",
     "output_type": "stream",
     "text": [
      "gillespie-says-no.jpg https://raw.githubusercontent.com/alpv95/Dank-Learning/master/im2txt/memes/gillespie-says-no.jpg\n",
      "gintama.jpg https://raw.githubusercontent.com/alpv95/Dank-Learning/master/im2txt/memes/gintama.jpg\n",
      "gkdjfgskdjh.jpg https://raw.githubusercontent.com/alpv95/Dank-Learning/master/im2txt/memes/gkdjfgskdjh.jpg\n"
     ]
    },
    {
     "name": "stderr",
     "output_type": "stream",
     "text": [
      "100%|█████████▉| 116737/116886 [04:12<00:35,  4.20it/s]"
     ]
    },
    {
     "name": "stdout",
     "output_type": "stream",
     "text": [
      "glam-rocker.jpg https://raw.githubusercontent.com/alpv95/Dank-Learning/master/im2txt/memes/glam-rocker.jpg\n"
     ]
    },
    {
     "name": "stderr",
     "output_type": "stream",
     "text": [
      "100%|█████████▉| 116740/116886 [04:13<00:42,  3.47it/s]"
     ]
    },
    {
     "name": "stdout",
     "output_type": "stream",
     "text": [
      "goats.jpg https://raw.githubusercontent.com/alpv95/Dank-Learning/master/im2txt/memes/goats.jpg\n"
     ]
    },
    {
     "name": "stderr",
     "output_type": "stream",
     "text": [
      "100%|█████████▉| 116742/116886 [04:14<00:42,  3.40it/s]"
     ]
    },
    {
     "name": "stdout",
     "output_type": "stream",
     "text": [
      "god.jpg https://raw.githubusercontent.com/alpv95/Dank-Learning/master/im2txt/memes/god.jpg\n"
     ]
    },
    {
     "name": "stderr",
     "output_type": "stream",
     "text": [
      "100%|█████████▉| 116747/116886 [04:15<00:30,  4.61it/s]"
     ]
    },
    {
     "name": "stdout",
     "output_type": "stream",
     "text": [
      "godinez12.jpg https://raw.githubusercontent.com/alpv95/Dank-Learning/master/im2txt/memes/godinez12.jpg\n",
      "goku-troubled.jpg https://raw.githubusercontent.com/alpv95/Dank-Learning/master/im2txt/memes/goku-troubled.jpg\n"
     ]
    },
    {
     "name": "stderr",
     "output_type": "stream",
     "text": [
      "100%|█████████▉| 116750/116886 [04:16<00:45,  2.99it/s]"
     ]
    },
    {
     "name": "stdout",
     "output_type": "stream",
     "text": [
      "gooby-pls.jpg https://raw.githubusercontent.com/alpv95/Dank-Learning/master/im2txt/memes/gooby-pls.jpg\n"
     ]
    },
    {
     "name": "stderr",
     "output_type": "stream",
     "text": [
      "100%|█████████▉| 116756/116886 [04:18<00:30,  4.25it/s]"
     ]
    },
    {
     "name": "stdout",
     "output_type": "stream",
     "text": [
      "good-grandma-gayle.jpg https://raw.githubusercontent.com/alpv95/Dank-Learning/master/im2txt/memes/good-grandma-gayle.jpg\n",
      "good-guy-ghost.jpg https://raw.githubusercontent.com/alpv95/Dank-Learning/master/im2txt/memes/good-guy-ghost.jpg\n"
     ]
    },
    {
     "name": "stderr",
     "output_type": "stream",
     "text": [
      "100%|█████████▉| 116758/116886 [04:19<00:39,  3.20it/s]"
     ]
    },
    {
     "name": "stdout",
     "output_type": "stream",
     "text": [
      "good-guy-jesus.jpg https://raw.githubusercontent.com/alpv95/Dank-Learning/master/im2txt/memes/good-guy-jesus.jpg\n"
     ]
    },
    {
     "name": "stderr",
     "output_type": "stream",
     "text": [
      "100%|█████████▉| 116760/116886 [04:19<00:35,  3.59it/s]"
     ]
    },
    {
     "name": "stdout",
     "output_type": "stream",
     "text": [
      "good-luck-drunk.jpg https://raw.githubusercontent.com/alpv95/Dank-Learning/master/im2txt/memes/good-luck-drunk.jpg\n"
     ]
    },
    {
     "name": "stderr",
     "output_type": "stream",
     "text": [
      "100%|█████████▉| 116762/116886 [04:19<00:32,  3.84it/s]"
     ]
    },
    {
     "name": "stdout",
     "output_type": "stream",
     "text": [
      "good-morning-son.jpg https://raw.githubusercontent.com/alpv95/Dank-Learning/master/im2txt/memes/good-morning-son.jpg\n"
     ]
    },
    {
     "name": "stderr",
     "output_type": "stream",
     "text": [
      "100%|█████████▉| 116764/116886 [04:20<00:29,  4.15it/s]"
     ]
    },
    {
     "name": "stdout",
     "output_type": "stream",
     "text": [
      "gordo-granudo.jpg https://raw.githubusercontent.com/alpv95/Dank-Learning/master/im2txt/memes/gordo-granudo.jpg\n"
     ]
    },
    {
     "name": "stderr",
     "output_type": "stream",
     "text": [
      "100%|█████████▉| 116769/116886 [04:21<00:23,  5.08it/s]"
     ]
    },
    {
     "name": "stdout",
     "output_type": "stream",
     "text": [
      "gothiccrow.jpg https://raw.githubusercontent.com/alpv95/Dank-Learning/master/im2txt/memes/gothiccrow.jpg\n",
      "grail-knight-ij.jpg https://raw.githubusercontent.com/alpv95/Dank-Learning/master/im2txt/memes/grail-knight-ij.jpg\n",
      "grammar-nazi.jpg https://raw.githubusercontent.com/alpv95/Dank-Learning/master/im2txt/memes/grammar-nazi.jpg\n"
     ]
    },
    {
     "name": "stderr",
     "output_type": "stream",
     "text": [
      "100%|█████████▉| 116771/116886 [04:21<00:17,  6.43it/s]"
     ]
    },
    {
     "name": "stdout",
     "output_type": "stream",
     "text": [
      "granny-potterhad.jpg https://raw.githubusercontent.com/alpv95/Dank-Learning/master/im2txt/memes/granny-potterhad.jpg\n",
      "greedy-larfleeze.jpg https://raw.githubusercontent.com/alpv95/Dank-Learning/master/im2txt/memes/greedy-larfleeze.jpg\n"
     ]
    },
    {
     "name": "stderr",
     "output_type": "stream",
     "text": [
      "100%|█████████▉| 116776/116886 [04:22<00:19,  5.50it/s]"
     ]
    },
    {
     "name": "stdout",
     "output_type": "stream",
     "text": [
      "grumpy-beaver.jpg https://raw.githubusercontent.com/alpv95/Dank-Learning/master/im2txt/memes/grumpy-beaver.jpg\n",
      "grumpy-cat-2.jpg https://raw.githubusercontent.com/alpv95/Dank-Learning/master/im2txt/memes/grumpy-cat-2.jpg\n",
      "grumpy-cat-5.jpg https://raw.githubusercontent.com/alpv95/Dank-Learning/master/im2txt/memes/grumpy-cat-5.jpg\n"
     ]
    },
    {
     "name": "stderr",
     "output_type": "stream",
     "text": [
      "100%|█████████▉| 116778/116886 [04:22<00:15,  6.87it/s]"
     ]
    },
    {
     "name": "stdout",
     "output_type": "stream",
     "text": [
      "grumpy-cat-good.jpg https://raw.githubusercontent.com/alpv95/Dank-Learning/master/im2txt/memes/grumpy-cat-good.jpg\n"
     ]
    },
    {
     "name": "stderr",
     "output_type": "stream",
     "text": [
      "100%|█████████▉| 116782/116886 [04:23<00:20,  5.14it/s]"
     ]
    },
    {
     "name": "stdout",
     "output_type": "stream",
     "text": [
      "grumpy-cat.jpg https://raw.githubusercontent.com/alpv95/Dank-Learning/master/im2txt/memes/grumpy-cat.jpg\n",
      "grumpy-christmas-cat.jpg https://raw.githubusercontent.com/alpv95/Dank-Learning/master/im2txt/memes/grumpy-christmas-cat.jpg\n",
      "grumpy-face-cat.jpg https://raw.githubusercontent.com/alpv95/Dank-Learning/master/im2txt/memes/grumpy-face-cat.jpg\n"
     ]
    },
    {
     "name": "stderr",
     "output_type": "stream",
     "text": [
      "100%|█████████▉| 116786/116886 [04:24<00:16,  6.04it/s]"
     ]
    },
    {
     "name": "stdout",
     "output_type": "stream",
     "text": [
      "guber.jpg https://raw.githubusercontent.com/alpv95/Dank-Learning/master/im2txt/memes/guber.jpg\n",
      "guess-who-.jpg https://raw.githubusercontent.com/alpv95/Dank-Learning/master/im2txt/memes/guess-who-.jpg\n"
     ]
    },
    {
     "name": "stderr",
     "output_type": "stream",
     "text": [
      "100%|█████████▉| 116791/116886 [04:26<00:25,  3.76it/s]"
     ]
    },
    {
     "name": "stdout",
     "output_type": "stream",
     "text": [
      "gusev.jpg https://raw.githubusercontent.com/alpv95/Dank-Learning/master/im2txt/memes/gusev.jpg\n",
      "gutiguti.jpg https://raw.githubusercontent.com/alpv95/Dank-Learning/master/im2txt/memes/gutiguti.jpg\n"
     ]
    },
    {
     "name": "stderr",
     "output_type": "stream",
     "text": [
      "100%|█████████▉| 116794/116886 [04:27<00:20,  4.59it/s]"
     ]
    },
    {
     "name": "stdout",
     "output_type": "stream",
     "text": [
      "hack-forums-noob.jpg https://raw.githubusercontent.com/alpv95/Dank-Learning/master/im2txt/memes/hack-forums-noob.jpg\n",
      "hacker.jpg https://raw.githubusercontent.com/alpv95/Dank-Learning/master/im2txt/memes/hacker.jpg\n"
     ]
    },
    {
     "name": "stderr",
     "output_type": "stream",
     "text": [
      "100%|█████████▉| 116798/116886 [04:27<00:18,  4.87it/s]"
     ]
    },
    {
     "name": "stdout",
     "output_type": "stream",
     "text": [
      "halloween-kid.jpg https://raw.githubusercontent.com/alpv95/Dank-Learning/master/im2txt/memes/halloween-kid.jpg\n",
      "hamster.jpg https://raw.githubusercontent.com/alpv95/Dank-Learning/master/im2txt/memes/hamster.jpg\n"
     ]
    },
    {
     "name": "stderr",
     "output_type": "stream",
     "text": [
      "100%|█████████▉| 116801/116886 [04:28<00:15,  5.48it/s]"
     ]
    },
    {
     "name": "stdout",
     "output_type": "stream",
     "text": [
      "hannibalbarca13.jpg https://raw.githubusercontent.com/alpv95/Dank-Learning/master/im2txt/memes/hannibalbarca13.jpg\n",
      "happy-birthday-black-kid.jpg https://raw.githubusercontent.com/alpv95/Dank-Learning/master/im2txt/memes/happy-birthday-black-kid.jpg\n"
     ]
    },
    {
     "name": "stderr",
     "output_type": "stream",
     "text": [
      "100%|█████████▉| 116803/116886 [04:29<00:27,  3.07it/s]"
     ]
    },
    {
     "name": "stdout",
     "output_type": "stream",
     "text": [
      "happyfuncop.jpg https://raw.githubusercontent.com/alpv95/Dank-Learning/master/im2txt/memes/happyfuncop.jpg\n"
     ]
    },
    {
     "name": "stderr",
     "output_type": "stream",
     "text": [
      "100%|█████████▉| 116805/116886 [04:30<00:23,  3.47it/s]"
     ]
    },
    {
     "name": "stdout",
     "output_type": "stream",
     "text": [
      "harper-government.jpg https://raw.githubusercontent.com/alpv95/Dank-Learning/master/im2txt/memes/harper-government.jpg\n"
     ]
    },
    {
     "name": "stderr",
     "output_type": "stream",
     "text": [
      "100%|█████████▉| 116807/116886 [04:30<00:21,  3.61it/s]"
     ]
    },
    {
     "name": "stdout",
     "output_type": "stream",
     "text": [
      "harvest-moon.jpg https://raw.githubusercontent.com/alpv95/Dank-Learning/master/im2txt/memes/harvest-moon.jpg\n"
     ]
    },
    {
     "name": "stderr",
     "output_type": "stream",
     "text": [
      "100%|█████████▉| 116813/116886 [04:31<00:15,  4.58it/s]"
     ]
    },
    {
     "name": "stdout",
     "output_type": "stream",
     "text": [
      "heartless-harry.jpg https://raw.githubusercontent.com/alpv95/Dank-Learning/master/im2txt/memes/heartless-harry.jpg\n",
      "hedonism-bot.jpg https://raw.githubusercontent.com/alpv95/Dank-Learning/master/im2txt/memes/hedonism-bot.jpg\n"
     ]
    },
    {
     "name": "stderr",
     "output_type": "stream",
     "text": [
      "100%|█████████▉| 116816/116886 [04:32<00:14,  4.78it/s]"
     ]
    },
    {
     "name": "stdout",
     "output_type": "stream",
     "text": [
      "helmut-looking-at-top-right-image-corner.jpg https://raw.githubusercontent.com/alpv95/Dank-Learning/master/im2txt/memes/helmut-looking-at-top-right-image-corner.jpg\n",
      "herbert.jpg https://raw.githubusercontent.com/alpv95/Dank-Learning/master/im2txt/memes/herbert.jpg\n",
      "hetalia-fan-mochi.jpg https://raw.githubusercontent.com/alpv95/Dank-Learning/master/im2txt/memes/hetalia-fan-mochi.jpg\n"
     ]
    },
    {
     "name": "stderr",
     "output_type": "stream",
     "text": [
      "100%|█████████▉| 116821/116886 [04:33<00:12,  5.28it/s]"
     ]
    },
    {
     "name": "stdout",
     "output_type": "stream",
     "text": [
      "high-expectations-asian-father.jpg https://raw.githubusercontent.com/alpv95/Dank-Learning/master/im2txt/memes/high-expectations-asian-father.jpg\n",
      "high-five-girl.jpg https://raw.githubusercontent.com/alpv95/Dank-Learning/master/im2txt/memes/high-five-girl.jpg\n"
     ]
    },
    {
     "name": "stderr",
     "output_type": "stream",
     "text": [
      "100%|█████████▉| 116824/116886 [04:34<00:11,  5.36it/s]"
     ]
    },
    {
     "name": "stdout",
     "output_type": "stream",
     "text": [
      "high-school-nerd.jpg https://raw.githubusercontent.com/alpv95/Dank-Learning/master/im2txt/memes/high-school-nerd.jpg\n",
      "high-skill-gamer.jpg https://raw.githubusercontent.com/alpv95/Dank-Learning/master/im2txt/memes/high-skill-gamer.jpg\n"
     ]
    },
    {
     "name": "stderr",
     "output_type": "stream",
     "text": [
      "100%|█████████▉| 116827/116886 [04:34<00:10,  5.82it/s]"
     ]
    },
    {
     "name": "stdout",
     "output_type": "stream",
     "text": [
      "highlander.jpg https://raw.githubusercontent.com/alpv95/Dank-Learning/master/im2txt/memes/highlander.jpg\n",
      "hilda-de-caballito.jpg https://raw.githubusercontent.com/alpv95/Dank-Learning/master/im2txt/memes/hilda-de-caballito.jpg\n"
     ]
    },
    {
     "name": "stderr",
     "output_type": "stream",
     "text": [
      "100%|█████████▉| 116830/116886 [04:35<00:10,  5.47it/s]"
     ]
    },
    {
     "name": "stdout",
     "output_type": "stream",
     "text": [
      "hip-hop-girl.jpg https://raw.githubusercontent.com/alpv95/Dank-Learning/master/im2txt/memes/hip-hop-girl.jpg\n",
      "hipster-ariel.jpg https://raw.githubusercontent.com/alpv95/Dank-Learning/master/im2txt/memes/hipster-ariel.jpg\n",
      "hipster-cat.jpg https://raw.githubusercontent.com/alpv95/Dank-Learning/master/im2txt/memes/hipster-cat.jpg\n"
     ]
    },
    {
     "name": "stderr",
     "output_type": "stream",
     "text": [
      "100%|█████████▉| 116834/116886 [04:36<00:08,  6.15it/s]"
     ]
    },
    {
     "name": "stdout",
     "output_type": "stream",
     "text": [
      "hipster-leah.jpg https://raw.githubusercontent.com/alpv95/Dank-Learning/master/im2txt/memes/hipster-leah.jpg\n",
      "hipster-pocahontas.jpg https://raw.githubusercontent.com/alpv95/Dank-Learning/master/im2txt/memes/hipster-pocahontas.jpg\n",
      "his-name-is-michael-westen.jpg https://raw.githubusercontent.com/alpv95/Dank-Learning/master/im2txt/memes/his-name-is-michael-westen.jpg\n"
     ]
    },
    {
     "name": "stderr",
     "output_type": "stream",
     "text": [
      "100%|█████████▉| 116836/116886 [04:36<00:06,  7.36it/s]"
     ]
    },
    {
     "name": "stdout",
     "output_type": "stream",
     "text": [
      "historian.jpg https://raw.githubusercontent.com/alpv95/Dank-Learning/master/im2txt/memes/historian.jpg\n"
     ]
    },
    {
     "name": "stderr",
     "output_type": "stream",
     "text": [
      "100%|█████████▉| 116837/116886 [04:36<00:09,  5.00it/s]"
     ]
    },
    {
     "name": "stdout",
     "output_type": "stream",
     "text": [
      "historycom-guy.jpg https://raw.githubusercontent.com/alpv95/Dank-Learning/master/im2txt/memes/historycom-guy.jpg\n"
     ]
    },
    {
     "name": "stderr",
     "output_type": "stream",
     "text": [
      "100%|█████████▉| 116839/116886 [04:37<00:10,  4.56it/s]"
     ]
    },
    {
     "name": "stdout",
     "output_type": "stream",
     "text": [
      "holodilniki.jpg https://raw.githubusercontent.com/alpv95/Dank-Learning/master/im2txt/memes/holodilniki.jpg\n"
     ]
    },
    {
     "name": "stderr",
     "output_type": "stream",
     "text": [
      "100%|█████████▉| 116842/116886 [04:38<00:12,  3.57it/s]"
     ]
    },
    {
     "name": "stdout",
     "output_type": "stream",
     "text": [
      "homer-advice.jpg https://raw.githubusercontent.com/alpv95/Dank-Learning/master/im2txt/memes/homer-advice.jpg\n"
     ]
    },
    {
     "name": "stderr",
     "output_type": "stream",
     "text": [
      "100%|█████████▉| 116847/116886 [04:39<00:08,  4.42it/s]"
     ]
    },
    {
     "name": "stdout",
     "output_type": "stream",
     "text": [
      "homer-simpson-popcorn.jpg https://raw.githubusercontent.com/alpv95/Dank-Learning/master/im2txt/memes/homer-simpson-popcorn.jpg\n",
      "homeschooled-hedgehog.jpg https://raw.githubusercontent.com/alpv95/Dank-Learning/master/im2txt/memes/homeschooled-hedgehog.jpg\n",
      "homo-sapiens.jpg https://raw.githubusercontent.com/alpv95/Dank-Learning/master/im2txt/memes/homo-sapiens.jpg\n"
     ]
    },
    {
     "name": "stderr",
     "output_type": "stream",
     "text": [
      "100%|█████████▉| 116850/116886 [04:40<00:10,  3.56it/s]"
     ]
    },
    {
     "name": "stdout",
     "output_type": "stream",
     "text": [
      "hoodie-faggot.jpg https://raw.githubusercontent.com/alpv95/Dank-Learning/master/im2txt/memes/hoodie-faggot.jpg\n"
     ]
    },
    {
     "name": "stderr",
     "output_type": "stream",
     "text": [
      "100%|█████████▉| 116854/116886 [04:41<00:06,  4.95it/s]"
     ]
    },
    {
     "name": "stdout",
     "output_type": "stream",
     "text": [
      "horny-samus.jpg https://raw.githubusercontent.com/alpv95/Dank-Learning/master/im2txt/memes/horny-samus.jpg\n",
      "housella-ei-suju.jpg https://raw.githubusercontent.com/alpv95/Dank-Learning/master/im2txt/memes/housella-ei-suju.jpg\n",
      "how-tough-are-you.jpg https://raw.githubusercontent.com/alpv95/Dank-Learning/master/im2txt/memes/how-tough-are-you.jpg\n"
     ]
    },
    {
     "name": "stderr",
     "output_type": "stream",
     "text": [
      "100%|█████████▉| 116858/116886 [04:41<00:03,  7.56it/s]"
     ]
    },
    {
     "name": "stdout",
     "output_type": "stream",
     "text": [
      "hse.jpg https://raw.githubusercontent.com/alpv95/Dank-Learning/master/im2txt/memes/hse.jpg\n",
      "httpvkcombudnyawkoi.jpg https://raw.githubusercontent.com/alpv95/Dank-Learning/master/im2txt/memes/httpvkcombudnyawkoi.jpg\n",
      "httpvkcomtatarin-typical.jpg https://raw.githubusercontent.com/alpv95/Dank-Learning/master/im2txt/memes/httpvkcomtatarin-typical.jpg\n"
     ]
    },
    {
     "name": "stderr",
     "output_type": "stream",
     "text": [
      "100%|█████████▉| 116860/116886 [04:42<00:04,  5.25it/s]"
     ]
    },
    {
     "name": "stdout",
     "output_type": "stream",
     "text": [
      "hurting-henry.jpg https://raw.githubusercontent.com/alpv95/Dank-Learning/master/im2txt/memes/hurting-henry.jpg\n",
      "hylian-problems.jpg https://raw.githubusercontent.com/alpv95/Dank-Learning/master/im2txt/memes/hylian-problems.jpg\n"
     ]
    },
    {
     "name": "stderr",
     "output_type": "stream",
     "text": [
      "100%|█████████▉| 116868/116886 [04:44<00:04,  4.32it/s]"
     ]
    },
    {
     "name": "stdout",
     "output_type": "stream",
     "text": [
      "i-can-has-cheezburger.jpg https://raw.githubusercontent.com/alpv95/Dank-Learning/master/im2txt/memes/i-can-has-cheezburger.jpg\n",
      "i-can-haz.jpg https://raw.githubusercontent.com/alpv95/Dank-Learning/master/im2txt/memes/i-can-haz.jpg\n",
      "i-dare-you-i-double-dare-you-motherfucker.jpg https://raw.githubusercontent.com/alpv95/Dank-Learning/master/im2txt/memes/i-dare-you-i-double-dare-you-motherfucker.jpg\n"
     ]
    },
    {
     "name": "stderr",
     "output_type": "stream",
     "text": [
      "100%|█████████▉| 116872/116886 [04:45<00:02,  5.11it/s]"
     ]
    },
    {
     "name": "stdout",
     "output_type": "stream",
     "text": [
      "i-dont-give-a-fuck-sexwithoutpermission.jpg https://raw.githubusercontent.com/alpv95/Dank-Learning/master/im2txt/memes/i-dont-give-a-fuck-sexwithoutpermission.jpg\n",
      "i-dont-know-what-im-doing-dog.jpg https://raw.githubusercontent.com/alpv95/Dank-Learning/master/im2txt/memes/i-dont-know-what-im-doing-dog.jpg\n",
      "i-dont-know-who-you-are.jpg https://raw.githubusercontent.com/alpv95/Dank-Learning/master/im2txt/memes/i-dont-know-who-you-are.jpg\n"
     ]
    },
    {
     "name": "stderr",
     "output_type": "stream",
     "text": [
      "100%|█████████▉| 116874/116886 [04:45<00:01,  6.38it/s]"
     ]
    },
    {
     "name": "stdout",
     "output_type": "stream",
     "text": [
      "i-dont-usually.jpg https://raw.githubusercontent.com/alpv95/Dank-Learning/master/im2txt/memes/i-dont-usually.jpg\n"
     ]
    },
    {
     "name": "stderr",
     "output_type": "stream",
     "text": [
      "100%|█████████▉| 116877/116886 [04:45<00:01,  6.47it/s]"
     ]
    },
    {
     "name": "stdout",
     "output_type": "stream",
     "text": [
      "i-double-dare-you.jpg https://raw.githubusercontent.com/alpv95/Dank-Learning/master/im2txt/memes/i-double-dare-you.jpg\n",
      "i-fucking-love.jpg https://raw.githubusercontent.com/alpv95/Dank-Learning/master/im2txt/memes/i-fucking-love.jpg\n"
     ]
    },
    {
     "name": "stderr",
     "output_type": "stream",
     "text": [
      "100%|█████████▉| 116882/116886 [04:47<00:00,  4.68it/s]"
     ]
    },
    {
     "name": "stdout",
     "output_type": "stream",
     "text": [
      "i-know-that-feel-bro-blank.jpg https://raw.githubusercontent.com/alpv95/Dank-Learning/master/im2txt/memes/i-know-that-feel-bro-blank.jpg\n",
      "i-like-turtles.jpg https://raw.githubusercontent.com/alpv95/Dank-Learning/master/im2txt/memes/i-like-turtles.jpg\n"
     ]
    },
    {
     "name": "stderr",
     "output_type": "stream",
     "text": [
      "100%|█████████▉| 116883/116886 [04:47<00:00,  3.92it/s]"
     ]
    },
    {
     "name": "stdout",
     "output_type": "stream",
     "text": [
      "i-only-cried-for-20-minute.jpg https://raw.githubusercontent.com/alpv95/Dank-Learning/master/im2txt/memes/i-only-cried-for-20-minute.jpg\n"
     ]
    },
    {
     "name": "stderr",
     "output_type": "stream",
     "text": [
      "100%|██████████| 116886/116886 [04:49<00:00, 404.41it/s]"
     ]
    },
    {
     "name": "stdout",
     "output_type": "stream",
     "text": [
      "i-see-dead-people.jpg https://raw.githubusercontent.com/alpv95/Dank-Learning/master/im2txt/memes/i-see-dead-people.jpg\n",
      "i-should-buy-a-boat-cat.jpg https://raw.githubusercontent.com/alpv95/Dank-Learning/master/im2txt/memes/i-should-buy-a-boat-cat.jpg\n"
     ]
    },
    {
     "name": "stderr",
     "output_type": "stream",
     "text": [
      "\n"
     ]
    }
   ],
   "execution_count": 7
  }
 ],
 "metadata": {
  "kernelspec": {
   "display_name": "Python 3",
   "language": "python",
   "name": "python3"
  },
  "language_info": {
   "codemirror_mode": {
    "name": "ipython",
    "version": 2
   },
   "file_extension": ".py",
   "mimetype": "text/x-python",
   "name": "python",
   "nbconvert_exporter": "python",
   "pygments_lexer": "ipython2",
   "version": "2.7.6"
  }
 },
 "nbformat": 4,
 "nbformat_minor": 5
}
