{
 "cells": [
  {
   "metadata": {
    "ExecuteTime": {
     "end_time": "2024-09-19T20:20:22.158363Z",
     "start_time": "2024-09-19T20:20:22.085603Z"
    }
   },
   "cell_type": "code",
   "source": [
    "\n",
    "import os\n",
    "import time\n",
    "\n",
    "import pandas as pd\n",
    "import requests\n",
    "import torch\n",
    "import torch.nn as nn\n",
    "from bs4 import BeautifulSoup as Soup\n",
    "from scipy.special import style\n",
    "from selenium import webdriver\n",
    "from selenium.webdriver.common.by import By\n",
    "from selenium.webdriver.support import expected_conditions as EC\n",
    "from selenium.webdriver.support.wait import WebDriverWait\n",
    "from torch.cuda import device\n",
    "from torch.distributed.pipelining import pipeline\n",
    "from tqdm import tqdm\n",
    "from transformers import AutoTokenizer\n",
    "from transformers import pipeline"
   ],
   "id": "a08ed5fb6bbbabd7",
   "outputs": [],
   "execution_count": 47
  },
  {
   "metadata": {},
   "cell_type": "markdown",
   "source": "### Login + Page",
   "id": "7ee6472647de7328"
  },
  {
   "metadata": {
    "ExecuteTime": {
     "start_time": "2024-09-16T14:07:35.818878Z"
    }
   },
   "cell_type": "code",
   "source": [
    "# 抓取貼文內容--------------------\n",
    "browser = webdriver.Chrome()\n",
    "# 想要抓取資料的頁面網址\n",
    "url = 'https://www.instagram.com/' \n",
    "\n",
    "# 前往頁面\n",
    "browser.get(url)\n",
    "# ------ 填入帳號與密碼 ------\n",
    "WebDriverWait(browser, 30).until(EC.presence_of_element_located((By.NAME, 'username')))\n",
    "\n",
    "# ------ 網頁元素定位 ------\n",
    "username_input = browser.find_element(By.NAME, \"username\")\n",
    "password_input = browser.find_element(By.NAME, \"password\")\n",
    "print(\"inputing username and password...\")\n",
    "\n",
    "# ------ 輸入帳號密碼 ------\n",
    "username_input.send_keys(\"14han_15felix_\")\n",
    "password_input.send_keys(\"Yaya0329@Instagram\")\n",
    "\n",
    "# ------ 登入 ------\n",
    "WebDriverWait(browser, 30).until(EC.presence_of_element_located((By.XPATH,\n",
    "'//*[@id=\"loginForm\"]/div/div[3]/button/div')))\n",
    "# ------ 網頁元素定位 ------\n",
    "login_click = browser.find_element(By.XPATH, '//*[@id=\"loginForm\"]/div/div[3]/button/div')\n",
    "# ------ 點擊登入鍵 ------\n",
    "login_click.click()\n",
    "time.sleep(20)\n",
    "print(\"login successfully\")\n",
    "\n",
    "# 想要抓取資料的頁面網址\n",
    "url = 'https://www.instagram.com' \n",
    "subUrlList = ['wendys', 'sonicdrivein', 'mcdonalds', 'mcdonalds_switzerland','mcdonaldscanada']\n",
    "\n",
    "for subUrl in subUrlList:\n",
    "    # 前往頁面\n",
    "    browser.get(url + '/' + subUrl)\n",
    "    time.sleep(2)\n",
    "    # 往下滑並取得新的貼文連結\n",
    "    post_all = []\n",
    "    postList = []\n",
    "\n",
    "    # Get scroll height.\n",
    "    last_height = browser.execute_script(\"return document.body.scrollHeight\")\n",
    "    with tqdm(total=100) as pbar:\n",
    "        while True:\n",
    "            # Scroll down to the bottom.\n",
    "            browser.execute_script(\"window.scrollTo(0, document.body.scrollHeight);\")\n",
    "            # Wait to load the page.\n",
    "            time.sleep(5)\n",
    "    \n",
    "            soup = Soup(browser.page_source, 'lxml')\n",
    "            # 尋找所有的貼文連結\n",
    "        \n",
    "            for rowPost in soup.select('div._ac7v'):\n",
    "                for elem in rowPost.select('div a'):\n",
    "                    if elem['href'] in postList:\n",
    "                        continue\n",
    "                    postList.append(elem['href'])\n",
    "                    img_elem = elem.select('div div img')\n",
    "                    temp = []\n",
    "                    temp.append(elem['href'])\n",
    "                    try: \n",
    "                        temp.append(img_elem[0]['alt'])\n",
    "                    except:\n",
    "                        temp.append(\"\")\n",
    "                    temp.append(img_elem[0]['src'])\n",
    "                    post_all.append(temp)\n",
    "                    \n",
    "            # Calculate new scroll height and compare with last scroll height.\n",
    "            new_height = browser.execute_script(\"return document.body.scrollHeight\")\n",
    "            if new_height == last_height:\n",
    "                break\n",
    "            last_height = new_height\n",
    "            pbar.update(1)\n",
    "        \n",
    "    print(subUrl+\" 總共 \" + str(len(post_all)) + \" 篇貼文\")\n",
    "    \n",
    "    # 存成csv\n",
    "    postDataframe= pd.DataFrame(post_all)\n",
    "    postDataframe.rename(columns = {0:'url', 1:'imgAlt', 2:'imgSrc'}, inplace = True)\n",
    "    postDataframe.to_csv('Home_'+subUrl+'.csv', index = False)"
   ],
   "id": "361ec343d6ee3bd1",
   "outputs": [
    {
     "name": "stderr",
     "output_type": "stream",
     "text": [
      "There was an error managing chromedriver (error sending request for url (https://googlechromelabs.github.io/chrome-for-testing/known-good-versions-with-downloads.json)); using driver found in the cache\n"
     ]
    },
    {
     "name": "stdout",
     "output_type": "stream",
     "text": [
      "inputing username and password...\n"
     ]
    },
    {
     "ename": "KeyboardInterrupt",
     "evalue": "",
     "output_type": "error",
     "traceback": [
      "\u001B[1;31m---------------------------------------------------------------------------\u001B[0m",
      "\u001B[1;31mKeyboardInterrupt\u001B[0m                         Traceback (most recent call last)",
      "Cell \u001B[1;32mIn[8], line 27\u001B[0m\n\u001B[0;32m     25\u001B[0m \u001B[38;5;66;03m# ------ 點擊登入鍵 ------\u001B[39;00m\n\u001B[0;32m     26\u001B[0m login_click\u001B[38;5;241m.\u001B[39mclick()\n\u001B[1;32m---> 27\u001B[0m \u001B[43mtime\u001B[49m\u001B[38;5;241;43m.\u001B[39;49m\u001B[43msleep\u001B[49m\u001B[43m(\u001B[49m\u001B[38;5;241;43m20\u001B[39;49m\u001B[43m)\u001B[49m\n\u001B[0;32m     28\u001B[0m \u001B[38;5;28mprint\u001B[39m(\u001B[38;5;124m\"\u001B[39m\u001B[38;5;124mlogin successfully\u001B[39m\u001B[38;5;124m\"\u001B[39m)\n\u001B[0;32m     30\u001B[0m \u001B[38;5;66;03m# 想要抓取資料的頁面網址\u001B[39;00m\n",
      "\u001B[1;31mKeyboardInterrupt\u001B[0m: "
     ]
    }
   ],
   "execution_count": 8
  },
  {
   "metadata": {
    "ExecuteTime": {
     "end_time": "2024-09-16T14:07:56.998817400Z",
     "start_time": "2024-09-08T11:39:19.342961Z"
    }
   },
   "cell_type": "code",
   "source": [
    "# 抓取貼文內容--------------------\n",
    "chrome_options = webdriver.ChromeOptions()\n",
    "chrome_options.add_argument(\"--window-size=334,778\")\n",
    "browser = webdriver.Chrome(options=chrome_options)\n",
    "# 想要抓取資料的頁面網址\n",
    "url = 'https://www.instagram.com/' \n",
    "\n",
    "# 前往頁面\n",
    "browser.get(url)\n",
    "# ------ 填入帳號與密碼 ------\n",
    "WebDriverWait(browser, 30).until(EC.presence_of_element_located((By.NAME, 'username')))\n",
    "\n",
    "# ------ 網頁元素定位 ------\n",
    "username_input = browser.find_element(By.NAME, \"username\")\n",
    "password_input = browser.find_element(By.NAME, \"password\")\n",
    "print(\"inputing username and password...\")\n",
    "\n",
    "# ------ 輸入帳號密碼 ------\n",
    "username_input.send_keys(\"_blood_mango_\")\n",
    "password_input.send_keys(\"wangzeng1\")\n",
    "\n",
    "# ------ 登入 ------\n",
    "WebDriverWait(browser, 30).until(EC.presence_of_element_located((By.XPATH,\n",
    "'//*[@id=\"loginForm\"]/div/div[3]/button/div')))\n",
    "# ------ 網頁元素定位 ------\n",
    "login_click = browser.find_element(By.XPATH, '//*[@id=\"loginForm\"]/div/div[3]/button/div')\n",
    "# ------ 點擊登入鍵 ------\n",
    "login_click.click()\n",
    "time.sleep(15)\n",
    "print(\"login successfully\")\n",
    "\n",
    "# 想要抓取資料的頁面網址\n",
    "url = 'https://www.instagram.com' \n",
    "subUrlList = ['sonicdrivein']\n",
    "# 'wendys', 'mcdonalds', 'mcdonalds_switzerland', 'mcdonaldscanada', 'mcdonalds_switzerland'\n",
    "# ,'sonicdrivein'\n",
    "\n",
    "for subUrl in subUrlList:\n",
    "    print(\"parsing \"+subUrl+\".csv\")\n",
    "    # insHome = pd.read_csv('Home_'+subUrl+'.csv')\n",
    "    insHome = pd.read_csv('Done_'+subUrl+'.csv')\n",
    "    print(\"parsing \"+subUrl+\".csv done\")\n",
    "    with tqdm(total=insHome.shape[0]) as pbar:\n",
    "        counter = 0\n",
    "        for index, row in insHome.iterrows(): #< 922\n",
    "            if '/p/' in row['url'] and counter > 406 and counter < 923:\n",
    "                browser.get(url + row['url'])\n",
    "                time.sleep(10)\n",
    "                html = browser.page_source\n",
    "                soup = Soup(html, 'lxml')\n",
    "                img_elem = soup.select('img.x5yr21d')\n",
    "                text_elem = soup.select('h1._ap3a')\n",
    "\n",
    "                insHome.at[index, 'imgSrc'] = img_elem[1]['src']\n",
    "                try:\n",
    "                    insHome.at[index, 'imgAlt'] = text_elem[0].text\n",
    "                except:\n",
    "                    insHome.at[index, 'imgAlt'] = \"\"\n",
    "                insHome.to_csv('Done_'+subUrl+'.csv', index = False)\n",
    "            pbar.update(1)\n",
    "            counter = counter+1\n",
    "            \n",
    "    insHome['imgName'] = subUrl+'_'+insHome.index.astype(str)\n",
    "    insHome.to_csv('Done_'+subUrl+'.csv', index = False)"
   ],
   "id": "1d5ed7c96325588",
   "outputs": [
    {
     "name": "stdout",
     "output_type": "stream",
     "text": [
      "inputing username and password...\n",
      "login successfully\n",
      "parsing mcdonalds_switzerland.csv\n",
      "parsing mcdonalds_switzerland.csv done\n"
     ]
    },
    {
     "name": "stderr",
     "output_type": "stream",
     "text": [
      "100%|██████████| 2087/2087 [1:20:06<00:00,  2.30s/it] \n"
     ]
    }
   ],
   "execution_count": 2
  },
  {
   "metadata": {},
   "cell_type": "markdown",
   "source": "",
   "id": "93f19a117438e8ec"
  },
  {
   "metadata": {},
   "cell_type": "markdown",
   "source": "### Download Image",
   "id": "457f3553f0219cf"
  },
  {
   "metadata": {
    "ExecuteTime": {
     "end_time": "2024-09-16T14:07:56.998817400Z",
     "start_time": "2024-09-16T13:41:17.696361Z"
    }
   },
   "cell_type": "code",
   "outputs": [
    {
     "name": "stdout",
     "output_type": "stream",
     "text": [
      "parsing wendys.csv\n",
      "parsing wendys.csv done\n"
     ]
    },
    {
     "name": "stderr",
     "output_type": "stream",
     "text": [
      "100%|██████████| 371/371 [00:06<00:00, 54.63it/s]\n"
     ]
    },
    {
     "name": "stdout",
     "output_type": "stream",
     "text": [
      "parsing mcdonalds.csv\n",
      "parsing mcdonalds.csv done\n"
     ]
    },
    {
     "name": "stderr",
     "output_type": "stream",
     "text": [
      "100%|██████████| 307/307 [00:10<00:00, 28.52it/s]\n"
     ]
    },
    {
     "name": "stdout",
     "output_type": "stream",
     "text": [
      "parsing mcdonalds_switzerland.csv\n",
      "parsing mcdonalds_switzerland.csv done\n"
     ]
    },
    {
     "name": "stderr",
     "output_type": "stream",
     "text": [
      "100%|██████████| 2087/2087 [00:47<00:00, 43.50it/s]\n"
     ]
    },
    {
     "name": "stdout",
     "output_type": "stream",
     "text": [
      "parsing mcdonaldscanada.csv\n",
      "parsing mcdonaldscanada.csv done\n"
     ]
    },
    {
     "name": "stderr",
     "output_type": "stream",
     "text": [
      "100%|██████████| 850/850 [00:15<00:00, 53.73it/s]\n"
     ]
    },
    {
     "name": "stdout",
     "output_type": "stream",
     "text": [
      "parsing sonicdrivein.csv\n",
      "parsing sonicdrivein.csv done\n"
     ]
    },
    {
     "name": "stderr",
     "output_type": "stream",
     "text": [
      " 23%|██▎       | 514/2240 [01:42<06:35,  4.37it/s]"
     ]
    },
    {
     "name": "stdout",
     "output_type": "stream",
     "text": [
      "Failed to downloadsonicdrivein_513.jpg\n"
     ]
    },
    {
     "name": "stderr",
     "output_type": "stream",
     "text": [
      " 78%|███████▊  | 1757/2240 [06:08<03:22,  2.38it/s]"
     ]
    }
   ],
   "execution_count": null,
   "source": [
    "subUrlList = ['wendys','mcdonalds', 'mcdonalds_switzerland','mcdonaldscanada','sonicdrivein']\n",
    "\n",
    "for subUrl in subUrlList:\n",
    "    print(\"parsing \"+subUrl+\".csv\")\n",
    "    insDone = pd.read_csv('Done_'+subUrl+'.csv')\n",
    "    print(\"parsing \"+subUrl+\".csv done\")\n",
    "    with tqdm(total=insDone.shape[0]) as pbar:\n",
    "        for index, row in insDone.iterrows():\n",
    "            #create img folder\n",
    "            if not os.path.exists(subUrl+'_img'):\n",
    "                os.makedirs(subUrl+'_img')\n",
    "            with open(subUrl+'_img/'+row['imgName']+'.jpg', 'wb') as f:\n",
    "                try :\n",
    "                    f.write(requests.get(row['imgSrc']).content)\n",
    "                except:\n",
    "                    print('Failed to download' + row['imgName']+'.jpg')\n",
    "            pbar.update(1)"
   ],
   "id": "f6c3dbf9b57dfe81"
  },
  {
   "metadata": {
    "ExecuteTime": {
     "end_time": "2024-09-16T15:18:39.179947Z",
     "start_time": "2024-09-16T14:31:46.152064Z"
    }
   },
   "cell_type": "code",
   "source": [
    "# 抓取貼文內容--------------------\n",
    "browser = webdriver.Chrome()\n",
    "# 想要抓取資料的頁面網址\n",
    "url = 'https://www.instagram.com/' \n",
    "\n",
    "# 前往頁面\n",
    "browser.get(url)\n",
    "# ------ 填入帳號與密碼 ------\n",
    "WebDriverWait(browser, 30).until(EC.presence_of_element_located((By.NAME, 'username')))\n",
    "\n",
    "# ------ 網頁元素定位 ------\n",
    "username_input = browser.find_element(By.NAME, \"username\")\n",
    "password_input = browser.find_element(By.NAME, \"password\")\n",
    "print(\"inputing username and password...\")\n",
    "\n",
    "# ------ 輸入帳號密碼 ------\n",
    "username_input.send_keys(\"_wang_zeng\")\n",
    "password_input.send_keys(\"wangzeng1\")\n",
    "\n",
    "# ------ 登入 ------\n",
    "WebDriverWait(browser, 30).until(EC.presence_of_element_located((By.XPATH,\n",
    "'//*[@id=\"loginForm\"]/div/div[3]/button/div')))\n",
    "# ------ 網頁元素定位 ------\n",
    "login_click = browser.find_element(By.XPATH, '//*[@id=\"loginForm\"]/div/div[3]/button/div')\n",
    "# ------ 點擊登入鍵 ------\n",
    "login_click.click()\n",
    "time.sleep(20)\n",
    "print(\"login successfully\")\n",
    "\n",
    "# 想要抓取資料的頁面網址\n",
    "url = 'https://www.instagram.com' \n",
    "subUrlList = ['wendys', 'sonicdrivein', 'mcdonalds', 'mcdonalds_switzerland','mcdonaldscanada']\n",
    "post_count=[371, 2240, 307, 2087, 850]\n",
    "counter = -1\n",
    "for subUrl in subUrlList:\n",
    "    download_counter = 0\n",
    "    counter = counter+1\n",
    "    print(\"parsing \"+subUrl+\".csv\")\n",
    "    insDone = pd.read_csv('Done_'+subUrl+'.csv')\n",
    "    print(\"parsing \"+subUrl+\".csv done\")\n",
    "    \n",
    "    # 前往頁面\n",
    "    browser.get(url + '/' + subUrl)\n",
    "    time.sleep(2)\n",
    "    # 往下滑並取得新的貼文連結\n",
    "    post_all = []\n",
    "    postList = []\n",
    "\n",
    "    # Get scroll height.\n",
    "    last_height = browser.execute_script(\"return document.body.scrollHeight\")\n",
    "    with tqdm(total=post_count[counter]) as pbar:\n",
    "        while True:\n",
    "            # Scroll down to the bottom.\n",
    "            browser.execute_script(\"window.scrollTo(0, document.body.scrollHeight);\")\n",
    "            # Wait to load the page.\n",
    "            time.sleep(5)\n",
    "    \n",
    "            soup = Soup(browser.page_source, 'lxml')\n",
    "            # 尋找所有的貼文連結\n",
    "        \n",
    "            for rowPost in soup.select('div._ac7v'):\n",
    "                for elem in rowPost.select('div a'):\n",
    "                    if elem['href'] in postList:\n",
    "                        continue\n",
    "                        \n",
    "                    imgName = insDone[insDone['url'] == elem['href']]['imgName']\n",
    "                    if imgName.shape[0] > 0:\n",
    "                        img_elem = elem.select('div div img')\n",
    "                        imgUrl = img_elem[0]['src']\n",
    "                        if not os.path.exists(subUrl+'_img'):\n",
    "                            os.makedirs(subUrl+'_img')\n",
    "                        with open(subUrl+'_img/'+imgName.values[0]+'.jpg', 'wb') as f:\n",
    "                            try :\n",
    "                                f.write(requests.get(imgUrl).content)\n",
    "                                download_counter = download_counter+1\n",
    "                            except:\n",
    "                                print('Failed to download' + imgName+'.jpg')\n",
    "                        postList.append(elem['href'])\n",
    "                    pbar.update(1)\n",
    "            # Calculate new scroll height and compare with last scroll height.\n",
    "            new_height = browser.execute_script(\"return document.body.scrollHeight\")\n",
    "            if new_height == last_height:\n",
    "                break\n",
    "            last_height = new_height\n",
    "            \n",
    "    print(subUrl+\" 總共 \" + str(download_counter) + \" 篇圖片已下載\")\n",
    "    "
   ],
   "id": "e6f01d01cbfdc14b",
   "outputs": [
    {
     "name": "stdout",
     "output_type": "stream",
     "text": [
      "inputing username and password...\n",
      "login successfully\n",
      "parsing wendys.csv\n",
      "parsing wendys.csv done\n"
     ]
    },
    {
     "name": "stderr",
     "output_type": "stream",
     "text": [
      "377it [02:55,  2.15it/s]                         \n"
     ]
    },
    {
     "name": "stdout",
     "output_type": "stream",
     "text": [
      "wendys 總共 371 篇圖片已下載\n",
      "parsing sonicdrivein.csv\n",
      "parsing sonicdrivein.csv done\n"
     ]
    },
    {
     "name": "stderr",
     "output_type": "stream",
     "text": [
      "2301it [17:40,  2.17it/s]                          \n"
     ]
    },
    {
     "name": "stdout",
     "output_type": "stream",
     "text": [
      "sonicdrivein 總共 2219 篇圖片已下載\n",
      "parsing mcdonalds.csv\n",
      "parsing mcdonalds.csv done\n"
     ]
    },
    {
     "name": "stderr",
     "output_type": "stream",
     "text": [
      "313it [02:27,  2.12it/s]                         \n"
     ]
    },
    {
     "name": "stdout",
     "output_type": "stream",
     "text": [
      "mcdonalds 總共 307 篇圖片已下載\n",
      "parsing mcdonalds_switzerland.csv\n",
      "parsing mcdonalds_switzerland.csv done\n"
     ]
    },
    {
     "name": "stderr",
     "output_type": "stream",
     "text": [
      "2202it [16:28,  2.23it/s]                          \n"
     ]
    },
    {
     "name": "stdout",
     "output_type": "stream",
     "text": [
      "mcdonalds_switzerland 總共 2050 篇圖片已下載\n",
      "parsing mcdonaldscanada.csv\n",
      "parsing mcdonaldscanada.csv done\n"
     ]
    },
    {
     "name": "stderr",
     "output_type": "stream",
     "text": [
      "877it [06:41,  2.18it/s]                         "
     ]
    },
    {
     "name": "stdout",
     "output_type": "stream",
     "text": [
      "mcdonaldscanada 總共 844 篇圖片已下載\n"
     ]
    },
    {
     "name": "stderr",
     "output_type": "stream",
     "text": [
      "\n"
     ]
    }
   ],
   "execution_count": 33
  },
  {
   "metadata": {
    "ExecuteTime": {
     "end_time": "2024-09-16T14:07:57.000820800Z",
     "start_time": "2024-09-08T19:54:24.582398Z"
    }
   },
   "cell_type": "code",
   "source": [
    "# 抓取貼文內容--------------------\n",
    "chrome_options = webdriver.ChromeOptions()\n",
    "chrome_options.add_argument(\"--window-size=334,778\")\n",
    "browser = webdriver.Chrome(options=chrome_options)\n",
    "# 想要抓取資料的頁面網址\n",
    "url = 'https://www.instagram.com/' \n",
    "\n",
    "# 前往頁面\n",
    "browser.get(url)\n",
    "# ------ 填入帳號與密碼 ------\n",
    "WebDriverWait(browser, 30).until(EC.presence_of_element_located((By.NAME, 'username')))\n",
    "\n",
    "# ------ 網頁元素定位 ------\n",
    "username_input = browser.find_element(By.NAME, \"username\")\n",
    "password_input = browser.find_element(By.NAME, \"password\")\n",
    "print(\"inputing username and password...\")\n",
    "\n",
    "# ------ 輸入帳號密碼 ------\n",
    "username_input.send_keys(\"_blood_mango_\")\n",
    "password_input.send_keys(\"wangzeng1\")\n",
    "\n",
    "# ------ 登入 ------\n",
    "WebDriverWait(browser, 30).until(EC.presence_of_element_located((By.XPATH,\n",
    "'//*[@id=\"loginForm\"]/div/div[3]/button/div')))\n",
    "# ------ 網頁元素定位 ------\n",
    "login_click = browser.find_element(By.XPATH, '//*[@id=\"loginForm\"]/div/div[3]/button/div')\n",
    "# ------ 點擊登入鍵 ------\n",
    "login_click.click()\n",
    "time.sleep(15)\n",
    "print(\"login successfully\")\n",
    "\n",
    "# 想要抓取資料的頁面網址\n",
    "url = 'https://www.instagram.com' \n",
    "\n",
    "\n",
    "for subUrl in subUrlList:\n",
    "    print(\"parsing \"+subUrl+\".csv\")\n",
    "    # insHome = pd.read_csv('Home_'+subUrl+'.csv')\n",
    "    insHome = pd.read_csv('Done_'+subUrl+'.csv')\n",
    "    print(\"parsing \"+subUrl+\".csv done\")\n",
    "    with tqdm(total=insHome.shape[0]) as pbar:\n",
    "        counter = 0\n",
    "        for index, row in insHome.iterrows(): #< 922\n",
    "            if '/p/' in row['url'] and counter > 406 and counter < 923:\n",
    "                browser.get(url + row['url'])\n",
    "                time.sleep(10)\n",
    "                html = browser.page_source\n",
    "                soup = Soup(html, 'lxml')\n",
    "                img_elem = soup.select('img.x5yr21d')\n",
    "                text_elem = soup.select('h1._ap3a')\n",
    "\n",
    "                insHome.at[index, 'imgSrc'] = img_elem[1]['src']\n",
    "                \n",
    "                    if '/reel/' in elem['href'] and imgName.shape[0] > 0:\n",
    "                        img_elem = elem.select('div div img')\n",
    "                        imgUrl = img_elem[0]['src']\n",
    "                        if not os.path.exists(subUrl+'_img'):\n",
    "                            os.makedirs(subUrl+'_img')\n",
    "                        with open(subUrl+'_img/'+imgName.values[0]+'.jpg', 'wb') as f:\n",
    "                            try :\n",
    "                                f.write(requests.get(imgUrl).content)\n",
    "                                download_counter = download_counter+1\n",
    "                            except:\n",
    "                                print('Failed to download' + imgName+'.jpg')\n",
    "                        postList.append(elem['href'])\n",
    "                    pbar.update(1)\n",
    "            pbar.update(1)\n",
    "            counter = counter+1\n",
    "            \n",
    "    insHome['imgName'] = subUrl+'_'+insHome.index.astype(str)\n",
    "    insHome.to_csv('Done_'+subUrl+'.csv', index = False)"
   ],
   "id": "38fc462f5c9e036d",
   "outputs": [
    {
     "name": "stdout",
     "output_type": "stream",
     "text": [
      "parsing sonicdrivein.csv\n",
      "parsing sonicdrivein.csv done\n"
     ]
    },
    {
     "name": "stderr",
     "output_type": "stream",
     "text": [
      "100%|██████████| 2240/2240 [14:36<00:00,  2.56it/s] \n"
     ]
    }
   ],
   "execution_count": 4
  },
  {
   "metadata": {},
   "cell_type": "markdown",
   "source": "### Data Preprocessing",
   "id": "eca12f0d63594a70"
  },
  {
   "metadata": {},
   "cell_type": "code",
   "outputs": [],
   "execution_count": null,
   "source": "",
   "id": "c5ac5bfecfe38133"
  },
  {
   "metadata": {
    "ExecuteTime": {
     "end_time": "2024-09-18T11:33:52.006491Z",
     "start_time": "2024-09-18T11:33:51.982094Z"
    }
   },
   "cell_type": "code",
   "source": [
    "print(torch.__version__)\n",
    "print(torch.cuda.is_available())\n",
    "\n",
    "print(device)\n",
    "torch.cuda.current_device()"
   ],
   "id": "17163f841f85f5e8",
   "outputs": [
    {
     "name": "stdout",
     "output_type": "stream",
     "text": [
      "2.4.1+cu124\n",
      "True\n",
      "cuda\n"
     ]
    },
    {
     "data": {
      "text/plain": [
       "0"
      ]
     },
     "execution_count": 2,
     "metadata": {},
     "output_type": "execute_result"
    }
   ],
   "execution_count": 2
  },
  {
   "metadata": {
    "ExecuteTime": {
     "end_time": "2024-09-18T11:33:53.041131Z",
     "start_time": "2024-09-18T11:33:53.037376Z"
    }
   },
   "cell_type": "code",
   "source": "torch.cuda.current_device()",
   "id": "58e33be0307de450",
   "outputs": [
    {
     "data": {
      "text/plain": [
       "0"
      ]
     },
     "execution_count": 3,
     "metadata": {},
     "output_type": "execute_result"
    }
   ],
   "execution_count": 3
  },
  {
   "metadata": {
    "ExecuteTime": {
     "end_time": "2024-09-19T20:44:25.270831Z",
     "start_time": "2024-09-19T20:44:25.011389Z"
    }
   },
   "cell_type": "code",
   "source": [
    "from transformers import RobertaConfig\n",
    "\n",
    "# 加载模型配置\n",
    "config = RobertaConfig.from_pretrained(\"cardiffnlp/twitter-roberta-base-emoji\")\n",
    "vocab_size = config.vocab_size\n",
    "print(f\"Vocabulary size: {vocab_size}\")"
   ],
   "id": "e53c988154c90563",
   "outputs": [
    {
     "name": "stdout",
     "output_type": "stream",
     "text": [
      "Vocabulary size: 50265\n"
     ]
    }
   ],
   "execution_count": 52
  },
  {
   "metadata": {
    "ExecuteTime": {
     "end_time": "2024-09-19T20:20:43.198774Z",
     "start_time": "2024-09-19T20:20:39.417269Z"
    }
   },
   "cell_type": "code",
   "source": [
    "pipe = pipeline(\"text-classification\", model=\"cardiffnlp/twitter-roberta-base-emoji\", device=0)\n",
    "tokenizer = AutoTokenizer.from_pretrained(\"cardiffnlp/twitter-roberta-base-emoji\")\n",
    "test_token = AutoTokenizer.from_pretrained(\"bert-base-uncased\")\n",
    "# model = AutoModelForSequenceClassification.from_pretrained(\"cardiffnlp/twitter-roberta-base-emoji\")\n",
    "# 将标题字段转换为tokens\n",
    "def tokenize_bert(words):\n",
    "    # 使用BERT Tokenizer对标题进行tokenize\n",
    "    # tokens = tokenizer(words, truncation=True, padding='max_length', return_tensors='pt')\n",
    "    tokens = test_token(words, truncation=True, padding='max_length', return_tensors='pt')\n",
    "    return tokens['input_ids'].tolist()[0]"
   ],
   "id": "bffc84c0edfea356",
   "outputs": [
    {
     "name": "stderr",
     "output_type": "stream",
     "text": [
      "C:\\Users\\USER\\PycharmProjects\\Python3.11.9\\pythonProject\\.venv\\Lib\\site-packages\\transformers\\tokenization_utils_base.py:1601: FutureWarning: `clean_up_tokenization_spaces` was not set. It will be set to `True` by default. This behavior will be depracted in transformers v4.45, and will be then set to `False` by default. For more details check this issue: https://github.com/huggingface/transformers/issues/31884\n",
      "  warnings.warn(\n"
     ]
    }
   ],
   "execution_count": 48
  },
  {
   "metadata": {
    "ExecuteTime": {
     "end_time": "2024-09-22T15:03:00.190786Z",
     "start_time": "2024-09-22T15:03:00.052083Z"
    }
   },
   "cell_type": "code",
   "source": [
    "text = \"👻🔥😂😁👍🤦‍♀️🤦‍♂️🤷‍♀️🤷‍♂️✌🤞😉😎🎶😢💖😜🐱‍🏍🐱‍👤🤳🎂🎉🌹💋👏🐱‍💻🐱‍🐉🐱‍👓✔👀😃✨😆🤔🤢🎁🫢 ha ha\"\n",
    "vocab_size = 50265  # 词汇表大小\n",
    "embedding_dim = 768  # 嵌入维度，与你的图像嵌入维度相同\n",
    "print(tokenizer.encode(text))\n",
    "text_embedding = nn.Embedding(vocab_size, embedding_dim)\n",
    "text_embeddings = text_embedding(torch.tensor(tokenizer.encode(text)))  # text_tokens 是文本标记的 tensor\n",
    "text_embeddings.shape"
   ],
   "id": "d72dc1a1bd1388ce",
   "outputs": [
    {
     "name": "stdout",
     "output_type": "stream",
     "text": [
      "[0, 31193, 2023, 6569, 10674, 8210, 18636, 9264, 18636, 10172, 31193, 8384, 6569, 10470, 18164, 17, 8384, 38718, 7471, 12605, 6569, 10470, 18164, 17, 8384, 38718, 9264, 12605, 6569, 10470, 18400, 17, 8384, 38718, 7471, 12605, 6569, 10470, 18400, 17, 8384, 38718, 9264, 12605, 39817, 14285, 6569, 10470, 17772, 18636, 23171, 18636, 12736, 6569, 12736, 19002, 18636, 7258, 6569, 10659, 25448, 18636, 48, 6569, 16948, 15389, 17, 8384, 6569, 9357, 8384, 6569, 16948, 15389, 17, 8384, 31193, 10470, 6569, 10470, 15264, 6569, 12736, 9264, 6569, 12736, 23171, 6569, 14285, 9253, 6569, 10659, 13859, 31193, 9357, 6569, 16948, 15389, 17, 8384, 6569, 10659, 2023, 6569, 16948, 15389, 17, 8384, 6569, 16948, 23171, 6569, 16948, 15389, 17, 8384, 31193, 9085, 39817, 10674, 31193, 7471, 18636, 862, 39817, 11423, 18636, 27819, 6569, 10470, 10674, 6569, 10470, 7258, 6569, 12736, 10172, 6569, 4958, 7258, 2489, 2489, 2]\n"
     ]
    },
    {
     "data": {
      "text/plain": [
       "torch.Size([143, 768])"
      ]
     },
     "execution_count": 97,
     "metadata": {},
     "output_type": "execute_result"
    }
   ],
   "execution_count": 97
  },
  {
   "metadata": {
    "ExecuteTime": {
     "end_time": "2024-09-19T20:20:45.159656Z",
     "start_time": "2024-09-19T20:20:45.141034Z"
    }
   },
   "cell_type": "code",
   "source": [
    "text = \"👻🔥😂😁👍🤦‍♀️🤦‍♂️🤷‍♀️🤷‍♂️✌🤞😉😎🎶😢💖😜🐱‍🏍🐱‍👤🤳🎂🎉🌹💋👏🐱‍💻🐱‍🐉🐱‍👓✔👀😃✨😆🤔🤢🎁🫢 ha ha\"\n",
    "print(tokenizer.encode(text))\n",
    "print(tokenizer.decode(tokenizer.encode(text)))\n",
    "print(\"=====================================\")\n",
    "print(test_token.encode(text))\n",
    "print(test_token.decode(test_token.encode(text)))"
   ],
   "id": "7277b74ffaf2fdf5",
   "outputs": [
    {
     "name": "stdout",
     "output_type": "stream",
     "text": [
      "[0, 31193, 2023, 6569, 10674, 8210, 18636, 9264, 18636, 10172, 31193, 8384, 6569, 10470, 18164, 17, 8384, 38718, 7471, 12605, 6569, 10470, 18164, 17, 8384, 38718, 9264, 12605, 6569, 10470, 18400, 17, 8384, 38718, 7471, 12605, 6569, 10470, 18400, 17, 8384, 38718, 9264, 12605, 39817, 14285, 6569, 10470, 17772, 18636, 23171, 18636, 12736, 6569, 12736, 19002, 18636, 7258, 6569, 10659, 25448, 18636, 48, 6569, 16948, 15389, 17, 8384, 6569, 9357, 8384, 6569, 16948, 15389, 17, 8384, 31193, 10470, 6569, 10470, 15264, 6569, 12736, 9264, 6569, 12736, 23171, 6569, 14285, 9253, 6569, 10659, 13859, 31193, 9357, 6569, 16948, 15389, 17, 8384, 6569, 10659, 2023, 6569, 16948, 15389, 17, 8384, 6569, 16948, 23171, 6569, 16948, 15389, 17, 8384, 31193, 9085, 39817, 10674, 31193, 7471, 18636, 862, 39817, 11423, 18636, 27819, 6569, 10470, 10674, 6569, 10470, 7258, 6569, 12736, 10172, 6569, 4958, 7258, 2489, 2489, 2]\n",
      "<s>👻🔥😂😁👍🤦‍♀️🤦‍♂️🤷‍♀️🤷‍♂️✌🤞😉😎🎶😢💖😜🐱‍🏍🐱‍👤🤳🎂🎉🌹💋👏🐱‍💻🐱‍🐉🐱‍👓✔👀😃✨😆🤔🤢🎁🫢 ha ha</s>\n",
      "=====================================\n",
      "[101, 100, 5292, 5292, 102]\n",
      "[CLS] [UNK] ha ha [SEP]\n"
     ]
    }
   ],
   "execution_count": 49
  },
  {
   "metadata": {
    "ExecuteTime": {
     "end_time": "2024-09-19T20:20:57.759590Z",
     "start_time": "2024-09-19T20:20:57.750235Z"
    }
   },
   "cell_type": "code",
   "source": "type(test_token.encode(text))",
   "id": "9fa14c176a262a8d",
   "outputs": [
    {
     "data": {
      "text/plain": [
       "list"
      ]
     },
     "execution_count": 50,
     "metadata": {},
     "output_type": "execute_result"
    }
   ],
   "execution_count": 50
  },
  {
   "metadata": {
    "ExecuteTime": {
     "end_time": "2024-09-18T12:01:52.552293Z",
     "start_time": "2024-09-18T12:01:52.548915Z"
    }
   },
   "cell_type": "code",
   "source": [
    "print(len(tokenize_bert(text)))\n",
    "print(len(tokenize_bert(\"text\")))"
   ],
   "id": "bf9a2ed625eb84c6",
   "outputs": [
    {
     "name": "stdout",
     "output_type": "stream",
     "text": [
      "512\n",
      "512\n"
     ]
    }
   ],
   "execution_count": 21
  },
  {
   "metadata": {
    "ExecuteTime": {
     "end_time": "2024-09-18T12:01:10.904140Z",
     "start_time": "2024-09-18T12:01:10.901216Z"
    }
   },
   "cell_type": "code",
   "source": [
    "print(len(tokenize_bert(text)))\n",
    "print(len(tokenize_bert(\"text\")))"
   ],
   "id": "20eb5a5aee73fa47",
   "outputs": [
    {
     "name": "stdout",
     "output_type": "stream",
     "text": [
      "143\n",
      "3\n"
     ]
    }
   ],
   "execution_count": 19
  },
  {
   "metadata": {
    "ExecuteTime": {
     "end_time": "2024-09-18T11:52:44.493609Z",
     "start_time": "2024-09-18T11:52:44.385825Z"
    }
   },
   "cell_type": "code",
   "source": [
    "from swin_transformer_v2 import SwinTransformerV2\n",
    "from swin_transformer_v2 import swin_transformer_v2_t\n",
    "from PIL import Image\n",
    "from torchvision import transforms\n",
    "# 載入預訓練的 SwinTransformerV2 模型\n",
    "SwinTransformerV2 = swin_transformer_v2_t(in_channels=3,\n",
    "                                          window_size=8,\n",
    "                                          input_resolution=(256, 256),\n",
    "                                          sequential_self_attention=False,\n",
    "                                          use_checkpoint=False)\n",
    "\n",
    "class SwinFeatures(nn.Module):\n",
    "    def __init__(self):\n",
    "        super(SwinFeatures, self).__init__()\n",
    "        # 取出 ResNet-50 的前面部分，不包含最後的全連接層\n",
    "        # self.features = nn.Sequential(*list(model.children())[:-1])\n",
    "        self.features = nn.Sequential(*list(SwinTransformerV2.children())[:-1])\n",
    "        \n",
    "    def forward(self, x):\n",
    "        x = self.features(x)\n",
    "        return x\n",
    "\n",
    "\n",
    "# 創建一個新的模型實例\n",
    "feature_extractor = SwinFeatures()\n",
    "feature_extractor.eval()  # 設置為評估模式\n",
    "\n",
    "# 定義提取特徵的方法\n",
    "def extract_features(image_path):\n",
    "    # 加載並預處理圖像\n",
    "    image = Image.open(image_path)\n",
    "    # 確保圖像是RGB格式的\n",
    "    image = image.convert('RGB')\n",
    "    preprocess = transforms.Compose([\n",
    "        transforms.Resize((256,256)),\n",
    "        transforms.ToTensor(),\n",
    "        transforms.Normalize(mean=[0.485, 0.456, 0.406], std=[0.229, 0.224, 0.225]),\n",
    "    ])\n",
    "    image = preprocess(image)\n",
    "    image = image.unsqueeze(0)  # 添加批次維度\n",
    "\n",
    "    # 通過新的模型提取特徵\n",
    "    with torch.no_grad():\n",
    "        features = feature_extractor(image)\n",
    "\n",
    "    return features\n",
    "\n",
    "# 以示例圖像路徑調用提取特徵的函數\n",
    "image_path = './wendys_img/wendys_0.jpg'\n",
    "features = extract_features(image_path)\n",
    "\n",
    "# 檢視提取的特徵的形狀\n",
    "print(\"Extracted features shape:\", features.shape)"
   ],
   "id": "226c610572705a87",
   "outputs": [
    {
     "name": "stdout",
     "output_type": "stream",
     "text": [
      "Extracted features shape: torch.Size([1, 96, 64, 64])\n"
     ]
    }
   ],
   "execution_count": 14
  },
  {
   "metadata": {
    "ExecuteTime": {
     "end_time": "2024-09-18T17:50:33.227399Z",
     "start_time": "2024-09-18T17:50:33.193692Z"
    }
   },
   "cell_type": "code",
   "source": [
    "insFilter = pd.read_csv('./Original_File/Filter_mcdonalds_switzerland.csv')\n",
    "#drop if isMeme is -2\n",
    "print(insFilter.shape)\n",
    "insFilter = insFilter[insFilter['isMeme'] != -2]\n",
    "print(insFilter.shape)\n",
    "insFilter.to_csv('Filter_mcdonalds_switzerland.csv', index = False)"
   ],
   "id": "49d227f5a5beb7c5",
   "outputs": [
    {
     "name": "stdout",
     "output_type": "stream",
     "text": [
      "(2087, 3)\n",
      "(1129, 3)\n"
     ]
    }
   ],
   "execution_count": 43
  },
  {
   "metadata": {
    "ExecuteTime": {
     "end_time": "2024-10-02T19:18:42.726962Z",
     "start_time": "2024-10-02T19:18:42.723526Z"
    }
   },
   "cell_type": "code",
   "source": "insFilter['isMeme']==1",
   "id": "a1dcb93dbf08e9c3",
   "outputs": [
    {
     "data": {
      "text/plain": [
       "0       False\n",
       "1       False\n",
       "2       False\n",
       "3       False\n",
       "4       False\n",
       "        ...  \n",
       "2224    False\n",
       "2225    False\n",
       "2226    False\n",
       "2227    False\n",
       "2228    False\n",
       "Name: isMeme, Length: 2229, dtype: bool"
      ]
     },
     "execution_count": 23,
     "metadata": {},
     "output_type": "execute_result"
    }
   ],
   "execution_count": 23
  },
  {
   "metadata": {
    "ExecuteTime": {
     "end_time": "2024-10-02T19:37:51.917917Z",
     "start_time": "2024-10-02T19:37:51.884504Z"
    }
   },
   "cell_type": "code",
   "source": [
    "subUrlList = ['wendys','mcdonalds', 'mcdonalds_switzerland','mcdonaldscanada','sonicdrivein']\n",
    "\n",
    "for subUrl in subUrlList:\n",
    "    print(\"parsing \"+subUrl+\".csv\")\n",
    "    insFilter = pd.read_csv('./Original_File/Filter_'+subUrl+'.csv')\n",
    "    print(\"parsing \"+subUrl+\".csv done\")\n",
    "    \n",
    "    insFilter['isMeme'] = insFilter['isMeme'].apply(lambda x: 1 if x == 1 else(0.5 if x == 0 else 0))\n",
    "    insFilter.rename(columns = {'imgAlt':'caption', 'imgName':'image_id', 'isMeme':'funny_score'}, inplace = True)\n",
    "    insFilter.to_csv('Filter_'+subUrl+'.csv', index = False)"
   ],
   "id": "737116bd9f545623",
   "outputs": [
    {
     "name": "stdout",
     "output_type": "stream",
     "text": [
      "parsing wendys.csv\n",
      "parsing wendys.csv done\n",
      "parsing mcdonalds.csv\n",
      "parsing mcdonalds.csv done\n",
      "parsing mcdonalds_switzerland.csv\n",
      "parsing mcdonalds_switzerland.csv done\n",
      "parsing mcdonaldscanada.csv\n",
      "parsing mcdonaldscanada.csv done\n",
      "parsing sonicdrivein.csv\n",
      "parsing sonicdrivein.csv done\n"
     ]
    }
   ],
   "execution_count": 27
  },
  {
   "metadata": {},
   "cell_type": "markdown",
   "source": "insFilter",
   "id": "1e01ce4539bb2101"
  },
  {
   "metadata": {
    "ExecuteTime": {
     "end_time": "2024-09-22T15:49:42.840765Z",
     "start_time": "2024-09-22T15:49:42.832211Z"
    }
   },
   "cell_type": "code",
   "source": [
    "def text_extraction(data, imgPath):\n",
    "\n",
    "    device = torch.device('cuda' if torch.cuda.is_available() else 'cpu')\n",
    "\n",
    "    pipe = pipeline(\"text-classification\", model=\"cardiffnlp/twitter-roberta-base-emoji\", device=0)\n",
    "    tokenizer = AutoTokenizer.from_pretrained(\"cardiffnlp/twitter-roberta-base-emoji\")\n",
    "    vocab_size = 50265  # 词汇表大小\n",
    "    embedding_dim = 1  # 嵌入维度，与你的图像嵌入维度相同\n",
    "    text_embedding = nn.Embedding(vocab_size, embedding_dim).to(device)\n",
    "\n",
    "    # 将标题字段转换为tokens\n",
    "    def tokenize_bert(words):\n",
    "        # 使用BERT Tokenizer对标题进行tokenize\n",
    "        tokens = tokenizer(words, truncation=True, padding='max_length', max_length=768,return_tensors='pt')\n",
    "        output = text_embedding(tokens['input_ids'].to(device))\n",
    "        return output.squeeze(-1).tolist()[0]\n",
    "\n",
    "    new_data = pd.DataFrame()\n",
    "    new_data['text'] = data['caption'].apply(tokenize_bert)\n",
    "    new_data = new_data['text'].apply(pd.Series)\n",
    "    new_data.columns = ['text_{}'.format(i) for i in range(new_data.shape[1])]\n",
    "    new_data['image_id'] = data['image_id'].apply(lambda x: imgPath + str(x) + '.jpg')\n",
    "    new_data['funny_score'] = data['funny_score']\n",
    "\n",
    "    return new_data"
   ],
   "id": "d181cfd6d33a58dc",
   "outputs": [],
   "execution_count": 100
  },
  {
   "metadata": {
    "ExecuteTime": {
     "end_time": "2024-09-19T21:19:36.137481Z",
     "start_time": "2024-09-19T21:19:36.134697Z"
    }
   },
   "cell_type": "code",
   "source": "insFilter = pd.read_csv('./Filter_wendys.csv')",
   "id": "e2818124c895a967",
   "outputs": [],
   "execution_count": 94
  },
  {
   "metadata": {
    "ExecuteTime": {
     "end_time": "2024-09-19T21:19:38.517068Z",
     "start_time": "2024-09-19T21:19:36.435116Z"
    }
   },
   "cell_type": "code",
   "source": [
    "imgPath = '../Data/Instagram/' + 'wendys' + '_img/'\n",
    "text_extraction(insFilter, imgPath)"
   ],
   "id": "6060d02c4ebad1f6",
   "outputs": [
    {
     "name": "stderr",
     "output_type": "stream",
     "text": [
      "C:\\Users\\USER\\PycharmProjects\\Python3.11.9\\pythonProject\\.venv\\Lib\\site-packages\\transformers\\tokenization_utils_base.py:1601: FutureWarning: `clean_up_tokenization_spaces` was not set. It will be set to `True` by default. This behavior will be depracted in transformers v4.45, and will be then set to `False` by default. For more details check this issue: https://github.com/huggingface/transformers/issues/31884\n",
      "  warnings.warn(\n"
     ]
    },
    {
     "data": {
      "text/plain": [
       "       text_0    text_1    text_2    text_3    text_4    text_5    text_6  \\\n",
       "0    0.793883  0.069545 -1.311447 -1.218814 -1.598746  0.494994 -0.592103   \n",
       "1    0.793883 -0.610064 -0.248980 -0.844052 -0.413306 -0.389745 -1.243862   \n",
       "2    0.793883 -0.912282 -0.259553  0.012632 -0.755190  1.165059 -0.024372   \n",
       "3    0.793883 -0.354310  0.712753  1.325158 -0.261939  1.115581  0.036629   \n",
       "4    0.793883 -0.463617 -0.605682 -1.524051  1.115581  0.036629  0.036629   \n",
       "..        ...       ...       ...       ...       ...       ...       ...   \n",
       "362  0.793883 -0.258313  0.463739  0.983964  0.590061  0.259517 -0.353957   \n",
       "363  0.793883 -1.432584 -0.290138 -0.100823 -0.809414 -0.006921 -0.563101   \n",
       "364  0.793883 -1.030454 -0.136545  1.523234  0.012632  0.273535 -0.251326   \n",
       "365  0.793883 -1.355395 -0.520674 -0.549285  0.061573  0.936624  1.034284   \n",
       "366  0.793883 -0.168349 -0.956909  1.548664  0.407645 -0.187849  0.463739   \n",
       "\n",
       "       text_7    text_8    text_9  ...  text_760  text_761  text_762  \\\n",
       "0    0.067793  0.270119  0.251997  ...  0.036629  0.036629  0.036629   \n",
       "1   -0.761261  0.127512 -0.170472  ...  0.036629  0.036629  0.036629   \n",
       "2    0.966067 -0.154293 -0.111463  ...  0.036629  0.036629  0.036629   \n",
       "3    0.036629  0.036629  0.036629  ...  0.036629  0.036629  0.036629   \n",
       "4    0.036629  0.036629  0.036629  ...  0.036629  0.036629  0.036629   \n",
       "..        ...       ...       ...  ...       ...       ...       ...   \n",
       "362  0.265535  0.547800  0.261284  ...  0.036629  0.036629  0.036629   \n",
       "363  0.491500  1.115581  0.036629  ...  0.036629  0.036629  0.036629   \n",
       "364 -0.242746 -1.363341  0.491500  ...  0.036629  0.036629  0.036629   \n",
       "365  0.486650 -0.050262 -1.405267  ...  0.036629  0.036629  0.036629   \n",
       "366  0.709649 -0.319448  0.983964  ...  0.036629  0.036629  0.036629   \n",
       "\n",
       "     text_763  text_764  text_765  text_766  text_767  \\\n",
       "0    0.036629  0.036629  0.036629  0.036629  0.036629   \n",
       "1    0.036629  0.036629  0.036629  0.036629  0.036629   \n",
       "2    0.036629  0.036629  0.036629  0.036629  0.036629   \n",
       "3    0.036629  0.036629  0.036629  0.036629  0.036629   \n",
       "4    0.036629  0.036629  0.036629  0.036629  0.036629   \n",
       "..        ...       ...       ...       ...       ...   \n",
       "362  0.036629  0.036629  0.036629  0.036629  0.036629   \n",
       "363  0.036629  0.036629  0.036629  0.036629  0.036629   \n",
       "364  0.036629  0.036629  0.036629  0.036629  0.036629   \n",
       "365  0.036629  0.036629  0.036629  0.036629  0.036629   \n",
       "366  0.036629  0.036629  0.036629  0.036629  0.036629   \n",
       "\n",
       "                                        image_id  funny_score  \n",
       "0      ../Data/Instagram/wendys_img/wendys_0.jpg            0  \n",
       "1      ../Data/Instagram/wendys_img/wendys_1.jpg         1000  \n",
       "2      ../Data/Instagram/wendys_img/wendys_2.jpg            0  \n",
       "3      ../Data/Instagram/wendys_img/wendys_3.jpg         1000  \n",
       "4      ../Data/Instagram/wendys_img/wendys_4.jpg         1000  \n",
       "..                                           ...          ...  \n",
       "362  ../Data/Instagram/wendys_img/wendys_366.jpg            0  \n",
       "363  ../Data/Instagram/wendys_img/wendys_367.jpg         1000  \n",
       "364  ../Data/Instagram/wendys_img/wendys_368.jpg            0  \n",
       "365  ../Data/Instagram/wendys_img/wendys_369.jpg            0  \n",
       "366  ../Data/Instagram/wendys_img/wendys_370.jpg         1000  \n",
       "\n",
       "[367 rows x 770 columns]"
      ],
      "text/html": [
       "<div>\n",
       "<style scoped>\n",
       "    .dataframe tbody tr th:only-of-type {\n",
       "        vertical-align: middle;\n",
       "    }\n",
       "\n",
       "    .dataframe tbody tr th {\n",
       "        vertical-align: top;\n",
       "    }\n",
       "\n",
       "    .dataframe thead th {\n",
       "        text-align: right;\n",
       "    }\n",
       "</style>\n",
       "<table border=\"1\" class=\"dataframe\">\n",
       "  <thead>\n",
       "    <tr style=\"text-align: right;\">\n",
       "      <th></th>\n",
       "      <th>text_0</th>\n",
       "      <th>text_1</th>\n",
       "      <th>text_2</th>\n",
       "      <th>text_3</th>\n",
       "      <th>text_4</th>\n",
       "      <th>text_5</th>\n",
       "      <th>text_6</th>\n",
       "      <th>text_7</th>\n",
       "      <th>text_8</th>\n",
       "      <th>text_9</th>\n",
       "      <th>...</th>\n",
       "      <th>text_760</th>\n",
       "      <th>text_761</th>\n",
       "      <th>text_762</th>\n",
       "      <th>text_763</th>\n",
       "      <th>text_764</th>\n",
       "      <th>text_765</th>\n",
       "      <th>text_766</th>\n",
       "      <th>text_767</th>\n",
       "      <th>image_id</th>\n",
       "      <th>funny_score</th>\n",
       "    </tr>\n",
       "  </thead>\n",
       "  <tbody>\n",
       "    <tr>\n",
       "      <th>0</th>\n",
       "      <td>0.793883</td>\n",
       "      <td>0.069545</td>\n",
       "      <td>-1.311447</td>\n",
       "      <td>-1.218814</td>\n",
       "      <td>-1.598746</td>\n",
       "      <td>0.494994</td>\n",
       "      <td>-0.592103</td>\n",
       "      <td>0.067793</td>\n",
       "      <td>0.270119</td>\n",
       "      <td>0.251997</td>\n",
       "      <td>...</td>\n",
       "      <td>0.036629</td>\n",
       "      <td>0.036629</td>\n",
       "      <td>0.036629</td>\n",
       "      <td>0.036629</td>\n",
       "      <td>0.036629</td>\n",
       "      <td>0.036629</td>\n",
       "      <td>0.036629</td>\n",
       "      <td>0.036629</td>\n",
       "      <td>../Data/Instagram/wendys_img/wendys_0.jpg</td>\n",
       "      <td>0</td>\n",
       "    </tr>\n",
       "    <tr>\n",
       "      <th>1</th>\n",
       "      <td>0.793883</td>\n",
       "      <td>-0.610064</td>\n",
       "      <td>-0.248980</td>\n",
       "      <td>-0.844052</td>\n",
       "      <td>-0.413306</td>\n",
       "      <td>-0.389745</td>\n",
       "      <td>-1.243862</td>\n",
       "      <td>-0.761261</td>\n",
       "      <td>0.127512</td>\n",
       "      <td>-0.170472</td>\n",
       "      <td>...</td>\n",
       "      <td>0.036629</td>\n",
       "      <td>0.036629</td>\n",
       "      <td>0.036629</td>\n",
       "      <td>0.036629</td>\n",
       "      <td>0.036629</td>\n",
       "      <td>0.036629</td>\n",
       "      <td>0.036629</td>\n",
       "      <td>0.036629</td>\n",
       "      <td>../Data/Instagram/wendys_img/wendys_1.jpg</td>\n",
       "      <td>1000</td>\n",
       "    </tr>\n",
       "    <tr>\n",
       "      <th>2</th>\n",
       "      <td>0.793883</td>\n",
       "      <td>-0.912282</td>\n",
       "      <td>-0.259553</td>\n",
       "      <td>0.012632</td>\n",
       "      <td>-0.755190</td>\n",
       "      <td>1.165059</td>\n",
       "      <td>-0.024372</td>\n",
       "      <td>0.966067</td>\n",
       "      <td>-0.154293</td>\n",
       "      <td>-0.111463</td>\n",
       "      <td>...</td>\n",
       "      <td>0.036629</td>\n",
       "      <td>0.036629</td>\n",
       "      <td>0.036629</td>\n",
       "      <td>0.036629</td>\n",
       "      <td>0.036629</td>\n",
       "      <td>0.036629</td>\n",
       "      <td>0.036629</td>\n",
       "      <td>0.036629</td>\n",
       "      <td>../Data/Instagram/wendys_img/wendys_2.jpg</td>\n",
       "      <td>0</td>\n",
       "    </tr>\n",
       "    <tr>\n",
       "      <th>3</th>\n",
       "      <td>0.793883</td>\n",
       "      <td>-0.354310</td>\n",
       "      <td>0.712753</td>\n",
       "      <td>1.325158</td>\n",
       "      <td>-0.261939</td>\n",
       "      <td>1.115581</td>\n",
       "      <td>0.036629</td>\n",
       "      <td>0.036629</td>\n",
       "      <td>0.036629</td>\n",
       "      <td>0.036629</td>\n",
       "      <td>...</td>\n",
       "      <td>0.036629</td>\n",
       "      <td>0.036629</td>\n",
       "      <td>0.036629</td>\n",
       "      <td>0.036629</td>\n",
       "      <td>0.036629</td>\n",
       "      <td>0.036629</td>\n",
       "      <td>0.036629</td>\n",
       "      <td>0.036629</td>\n",
       "      <td>../Data/Instagram/wendys_img/wendys_3.jpg</td>\n",
       "      <td>1000</td>\n",
       "    </tr>\n",
       "    <tr>\n",
       "      <th>4</th>\n",
       "      <td>0.793883</td>\n",
       "      <td>-0.463617</td>\n",
       "      <td>-0.605682</td>\n",
       "      <td>-1.524051</td>\n",
       "      <td>1.115581</td>\n",
       "      <td>0.036629</td>\n",
       "      <td>0.036629</td>\n",
       "      <td>0.036629</td>\n",
       "      <td>0.036629</td>\n",
       "      <td>0.036629</td>\n",
       "      <td>...</td>\n",
       "      <td>0.036629</td>\n",
       "      <td>0.036629</td>\n",
       "      <td>0.036629</td>\n",
       "      <td>0.036629</td>\n",
       "      <td>0.036629</td>\n",
       "      <td>0.036629</td>\n",
       "      <td>0.036629</td>\n",
       "      <td>0.036629</td>\n",
       "      <td>../Data/Instagram/wendys_img/wendys_4.jpg</td>\n",
       "      <td>1000</td>\n",
       "    </tr>\n",
       "    <tr>\n",
       "      <th>...</th>\n",
       "      <td>...</td>\n",
       "      <td>...</td>\n",
       "      <td>...</td>\n",
       "      <td>...</td>\n",
       "      <td>...</td>\n",
       "      <td>...</td>\n",
       "      <td>...</td>\n",
       "      <td>...</td>\n",
       "      <td>...</td>\n",
       "      <td>...</td>\n",
       "      <td>...</td>\n",
       "      <td>...</td>\n",
       "      <td>...</td>\n",
       "      <td>...</td>\n",
       "      <td>...</td>\n",
       "      <td>...</td>\n",
       "      <td>...</td>\n",
       "      <td>...</td>\n",
       "      <td>...</td>\n",
       "      <td>...</td>\n",
       "      <td>...</td>\n",
       "    </tr>\n",
       "    <tr>\n",
       "      <th>362</th>\n",
       "      <td>0.793883</td>\n",
       "      <td>-0.258313</td>\n",
       "      <td>0.463739</td>\n",
       "      <td>0.983964</td>\n",
       "      <td>0.590061</td>\n",
       "      <td>0.259517</td>\n",
       "      <td>-0.353957</td>\n",
       "      <td>0.265535</td>\n",
       "      <td>0.547800</td>\n",
       "      <td>0.261284</td>\n",
       "      <td>...</td>\n",
       "      <td>0.036629</td>\n",
       "      <td>0.036629</td>\n",
       "      <td>0.036629</td>\n",
       "      <td>0.036629</td>\n",
       "      <td>0.036629</td>\n",
       "      <td>0.036629</td>\n",
       "      <td>0.036629</td>\n",
       "      <td>0.036629</td>\n",
       "      <td>../Data/Instagram/wendys_img/wendys_366.jpg</td>\n",
       "      <td>0</td>\n",
       "    </tr>\n",
       "    <tr>\n",
       "      <th>363</th>\n",
       "      <td>0.793883</td>\n",
       "      <td>-1.432584</td>\n",
       "      <td>-0.290138</td>\n",
       "      <td>-0.100823</td>\n",
       "      <td>-0.809414</td>\n",
       "      <td>-0.006921</td>\n",
       "      <td>-0.563101</td>\n",
       "      <td>0.491500</td>\n",
       "      <td>1.115581</td>\n",
       "      <td>0.036629</td>\n",
       "      <td>...</td>\n",
       "      <td>0.036629</td>\n",
       "      <td>0.036629</td>\n",
       "      <td>0.036629</td>\n",
       "      <td>0.036629</td>\n",
       "      <td>0.036629</td>\n",
       "      <td>0.036629</td>\n",
       "      <td>0.036629</td>\n",
       "      <td>0.036629</td>\n",
       "      <td>../Data/Instagram/wendys_img/wendys_367.jpg</td>\n",
       "      <td>1000</td>\n",
       "    </tr>\n",
       "    <tr>\n",
       "      <th>364</th>\n",
       "      <td>0.793883</td>\n",
       "      <td>-1.030454</td>\n",
       "      <td>-0.136545</td>\n",
       "      <td>1.523234</td>\n",
       "      <td>0.012632</td>\n",
       "      <td>0.273535</td>\n",
       "      <td>-0.251326</td>\n",
       "      <td>-0.242746</td>\n",
       "      <td>-1.363341</td>\n",
       "      <td>0.491500</td>\n",
       "      <td>...</td>\n",
       "      <td>0.036629</td>\n",
       "      <td>0.036629</td>\n",
       "      <td>0.036629</td>\n",
       "      <td>0.036629</td>\n",
       "      <td>0.036629</td>\n",
       "      <td>0.036629</td>\n",
       "      <td>0.036629</td>\n",
       "      <td>0.036629</td>\n",
       "      <td>../Data/Instagram/wendys_img/wendys_368.jpg</td>\n",
       "      <td>0</td>\n",
       "    </tr>\n",
       "    <tr>\n",
       "      <th>365</th>\n",
       "      <td>0.793883</td>\n",
       "      <td>-1.355395</td>\n",
       "      <td>-0.520674</td>\n",
       "      <td>-0.549285</td>\n",
       "      <td>0.061573</td>\n",
       "      <td>0.936624</td>\n",
       "      <td>1.034284</td>\n",
       "      <td>0.486650</td>\n",
       "      <td>-0.050262</td>\n",
       "      <td>-1.405267</td>\n",
       "      <td>...</td>\n",
       "      <td>0.036629</td>\n",
       "      <td>0.036629</td>\n",
       "      <td>0.036629</td>\n",
       "      <td>0.036629</td>\n",
       "      <td>0.036629</td>\n",
       "      <td>0.036629</td>\n",
       "      <td>0.036629</td>\n",
       "      <td>0.036629</td>\n",
       "      <td>../Data/Instagram/wendys_img/wendys_369.jpg</td>\n",
       "      <td>0</td>\n",
       "    </tr>\n",
       "    <tr>\n",
       "      <th>366</th>\n",
       "      <td>0.793883</td>\n",
       "      <td>-0.168349</td>\n",
       "      <td>-0.956909</td>\n",
       "      <td>1.548664</td>\n",
       "      <td>0.407645</td>\n",
       "      <td>-0.187849</td>\n",
       "      <td>0.463739</td>\n",
       "      <td>0.709649</td>\n",
       "      <td>-0.319448</td>\n",
       "      <td>0.983964</td>\n",
       "      <td>...</td>\n",
       "      <td>0.036629</td>\n",
       "      <td>0.036629</td>\n",
       "      <td>0.036629</td>\n",
       "      <td>0.036629</td>\n",
       "      <td>0.036629</td>\n",
       "      <td>0.036629</td>\n",
       "      <td>0.036629</td>\n",
       "      <td>0.036629</td>\n",
       "      <td>../Data/Instagram/wendys_img/wendys_370.jpg</td>\n",
       "      <td>1000</td>\n",
       "    </tr>\n",
       "  </tbody>\n",
       "</table>\n",
       "<p>367 rows × 770 columns</p>\n",
       "</div>"
      ]
     },
     "execution_count": 95,
     "metadata": {},
     "output_type": "execute_result"
    }
   ],
   "execution_count": 95
  },
  {
   "metadata": {
    "ExecuteTime": {
     "end_time": "2024-09-19T21:14:39.262946Z",
     "start_time": "2024-09-19T21:14:39.243294Z"
    }
   },
   "cell_type": "code",
   "source": [
    "def tokenize_bert(words):\n",
    "        # 使用BERT Tokenizer对标题进行tokenize\n",
    "        tokens = tokenizer(words, truncation=True, padding='max_length', max_length=768,return_tensors='pt')\n",
    "        print(tokens['input_ids'][0][0])\n",
    "        output = text_embedding(tokens['input_ids'][0])\n",
    "        print(output.shape)\n",
    "        return output.tolist()[0]\n",
    "tokenize_bert(\"👻🔥😂😁👍🤦‍♀️🤦‍♂️🤷‍♀️🤷‍♂️✌🤞😉😎🎶😢💖😜🐱‍🏍🐱‍👤🤳🎂🎉🌹💋👏🐱‍💻🐱‍🐉🐱‍👓✔👀😃✨😆🤔🤢🎁🫢 ha ha\")"
   ],
   "id": "722294e6ee587ca4",
   "outputs": [
    {
     "name": "stdout",
     "output_type": "stream",
     "text": [
      "tensor(0)\n",
      "torch.Size([768, 768])\n"
     ]
    },
    {
     "data": {
      "text/plain": [
       "[2.336667060852051,\n",
       " -0.8162450790405273,\n",
       " -0.9627775549888611,\n",
       " 1.5990947484970093,\n",
       " 0.20850633084774017,\n",
       " -2.2388088703155518,\n",
       " -0.7053582668304443,\n",
       " 0.5998992919921875,\n",
       " 0.8678225874900818,\n",
       " -0.1497759073972702,\n",
       " -1.0288333892822266,\n",
       " -0.6947267055511475,\n",
       " 1.4432806968688965,\n",
       " -0.2579844295978546,\n",
       " 1.1499624252319336,\n",
       " -0.9382314085960388,\n",
       " -0.9461939930915833,\n",
       " -0.47772228717803955,\n",
       " -0.6708018779754639,\n",
       " -0.9225966930389404,\n",
       " -0.6209478974342346,\n",
       " 0.5084257125854492,\n",
       " 1.399937629699707,\n",
       " 1.095009207725525,\n",
       " -0.19207607209682465,\n",
       " 1.3399816751480103,\n",
       " -1.673210620880127,\n",
       " 0.38533923029899597,\n",
       " 0.8337076902389526,\n",
       " -1.4710859060287476,\n",
       " 0.5904214382171631,\n",
       " 0.5335190296173096,\n",
       " 0.3730730414390564,\n",
       " -0.5703838467597961,\n",
       " 0.46065425872802734,\n",
       " -1.3911923170089722,\n",
       " -1.2434923648834229,\n",
       " 1.1922404766082764,\n",
       " 0.8702803254127502,\n",
       " -0.9051564931869507,\n",
       " -0.9686239957809448,\n",
       " -0.9533010721206665,\n",
       " 1.1604946851730347,\n",
       " 0.14297685027122498,\n",
       " 0.8358027338981628,\n",
       " -1.8194307088851929,\n",
       " 0.9006235003471375,\n",
       " 0.32927244901657104,\n",
       " 1.0034387111663818,\n",
       " -0.45240601897239685,\n",
       " 0.6998831033706665,\n",
       " 0.5459844470024109,\n",
       " -0.8401303291320801,\n",
       " -1.8900679349899292,\n",
       " -0.2268935889005661,\n",
       " 1.0268902778625488,\n",
       " -0.6167511343955994,\n",
       " -1.3418692350387573,\n",
       " -0.5784178376197815,\n",
       " -0.732555627822876,\n",
       " -1.5589509010314941,\n",
       " 0.35476091504096985,\n",
       " 0.9170727729797363,\n",
       " 1.2697412967681885,\n",
       " -0.11396189779043198,\n",
       " -1.3531144857406616,\n",
       " 1.6764671802520752,\n",
       " -2.1236138343811035,\n",
       " 0.8601617217063904,\n",
       " -1.1190147399902344,\n",
       " -0.26254281401634216,\n",
       " 1.2157058715820312,\n",
       " 2.21307110786438,\n",
       " -0.8643578290939331,\n",
       " -1.464228868484497,\n",
       " 0.31901317834854126,\n",
       " -0.01399359293282032,\n",
       " 1.335581660270691,\n",
       " 1.2435123920440674,\n",
       " -0.9217029213905334,\n",
       " -0.7805216908454895,\n",
       " 0.49946194887161255,\n",
       " -0.059311721473932266,\n",
       " 0.8011357188224792,\n",
       " -1.427518606185913,\n",
       " -0.3610166907310486,\n",
       " -0.970160722732544,\n",
       " -2.240053415298462,\n",
       " 0.09104583412408829,\n",
       " -0.6738696098327637,\n",
       " 1.0161956548690796,\n",
       " 1.375674843788147,\n",
       " 1.4082555770874023,\n",
       " 2.032966375350952,\n",
       " 0.24383245408535004,\n",
       " -0.6878730654716492,\n",
       " 0.8059167861938477,\n",
       " -1.0466504096984863,\n",
       " 1.0190422534942627,\n",
       " 0.28124794363975525,\n",
       " 0.15817680954933167,\n",
       " -1.1926095485687256,\n",
       " -0.8422133922576904,\n",
       " 0.9656167030334473,\n",
       " -3.149815320968628,\n",
       " -1.9092563390731812,\n",
       " -0.4957624673843384,\n",
       " 1.6230522394180298,\n",
       " 1.1948199272155762,\n",
       " -0.8835521340370178,\n",
       " -0.3948357105255127,\n",
       " 1.6668015718460083,\n",
       " -0.4753980338573456,\n",
       " 0.49121537804603577,\n",
       " 0.15882965922355652,\n",
       " -0.9590097665786743,\n",
       " -0.25764599442481995,\n",
       " -0.45133572816848755,\n",
       " 0.34112152457237244,\n",
       " -0.31975993514060974,\n",
       " -1.7751986980438232,\n",
       " 0.14772577583789825,\n",
       " -0.7507501244544983,\n",
       " 1.270378589630127,\n",
       " -0.8509431481361389,\n",
       " 0.20752327144145966,\n",
       " -0.9904830455780029,\n",
       " 0.10998396575450897,\n",
       " 0.4128187894821167,\n",
       " 1.0295512676239014,\n",
       " -2.5845835208892822,\n",
       " 0.9423943758010864,\n",
       " -1.7169835567474365,\n",
       " -0.06749388575553894,\n",
       " 0.36434105038642883,\n",
       " -0.3601886034011841,\n",
       " -0.11394449323415756,\n",
       " -0.7775117754936218,\n",
       " -0.17347247898578644,\n",
       " -0.22598597407341003,\n",
       " -0.6851405501365662,\n",
       " 0.7985446453094482,\n",
       " -0.3432150185108185,\n",
       " -0.08755145221948624,\n",
       " -0.44034603238105774,\n",
       " -0.9759596586227417,\n",
       " -0.061801038682460785,\n",
       " -0.4915698766708374,\n",
       " -0.47028326988220215,\n",
       " 1.0330744981765747,\n",
       " 0.9636841416358948,\n",
       " -0.18431513011455536,\n",
       " -0.9661364555358887,\n",
       " -0.11369476467370987,\n",
       " 1.3930108547210693,\n",
       " 1.9139982461929321,\n",
       " -1.266194462776184,\n",
       " 0.02438540570437908,\n",
       " 0.6962881088256836,\n",
       " -0.3028740882873535,\n",
       " 0.669228732585907,\n",
       " -0.33914613723754883,\n",
       " 1.0878283977508545,\n",
       " -3.820241928100586,\n",
       " -0.5105209946632385,\n",
       " 0.5652944445610046,\n",
       " -1.5728811025619507,\n",
       " 1.3439514636993408,\n",
       " -0.021075012162327766,\n",
       " -0.14273707568645477,\n",
       " -0.3595584034919739,\n",
       " 0.5426796078681946,\n",
       " 1.2028744220733643,\n",
       " 0.3028879761695862,\n",
       " 0.6839098930358887,\n",
       " -0.14659249782562256,\n",
       " 0.6098718047142029,\n",
       " -0.1624051183462143,\n",
       " -0.34283798933029175,\n",
       " -0.2505042552947998,\n",
       " -0.12041626125574112,\n",
       " 0.5497102737426758,\n",
       " 1.2781838178634644,\n",
       " 0.6951912045478821,\n",
       " -0.9124262928962708,\n",
       " -1.199515700340271,\n",
       " 0.4369594156742096,\n",
       " -0.34005206823349,\n",
       " -0.1146087795495987,\n",
       " -0.6704227924346924,\n",
       " 0.43757688999176025,\n",
       " -0.0385378822684288,\n",
       " 0.2562711834907532,\n",
       " 1.5988563299179077,\n",
       " -0.6986805200576782,\n",
       " -0.8662431240081787,\n",
       " -0.7102784514427185,\n",
       " -1.6351202726364136,\n",
       " 1.1654006242752075,\n",
       " -0.7284204363822937,\n",
       " 0.3838123083114624,\n",
       " 0.12084216624498367,\n",
       " 0.19344183802604675,\n",
       " -0.5746461749076843,\n",
       " 1.1406505107879639,\n",
       " 2.4486582279205322,\n",
       " 0.2826077938079834,\n",
       " -0.4830979108810425,\n",
       " -0.9060038328170776,\n",
       " 0.3036602735519409,\n",
       " -0.5915965437889099,\n",
       " 1.562429666519165,\n",
       " -0.08923924714326859,\n",
       " 1.251665711402893,\n",
       " 0.36726298928260803,\n",
       " 1.796471357345581,\n",
       " 1.4816592931747437,\n",
       " -0.7314751148223877,\n",
       " 1.135716199874878,\n",
       " -0.9732992649078369,\n",
       " -0.9316843152046204,\n",
       " -1.3402173519134521,\n",
       " -1.9787309169769287,\n",
       " 0.4361286759376526,\n",
       " -0.8636165857315063,\n",
       " -1.1833842992782593,\n",
       " 0.7772998213768005,\n",
       " 0.5585840344429016,\n",
       " -0.24573621153831482,\n",
       " -1.986763834953308,\n",
       " -1.939361572265625,\n",
       " 0.4461464285850525,\n",
       " 0.3956553339958191,\n",
       " 0.8969985842704773,\n",
       " -0.3883650600910187,\n",
       " 0.2797539532184601,\n",
       " -0.10270441323518753,\n",
       " 0.9969581365585327,\n",
       " 0.0731557160615921,\n",
       " 1.3632079362869263,\n",
       " -0.2320343554019928,\n",
       " 0.1020243838429451,\n",
       " 1.5871620178222656,\n",
       " -1.096378207206726,\n",
       " 0.15038716793060303,\n",
       " 0.6297159790992737,\n",
       " -1.0103480815887451,\n",
       " 0.034838903695344925,\n",
       " 0.11128894984722137,\n",
       " 0.16754041612148285,\n",
       " 0.13114623725414276,\n",
       " -1.0278879404067993,\n",
       " 0.5456410646438599,\n",
       " -0.38568979501724243,\n",
       " -0.278961718082428,\n",
       " -0.38609564304351807,\n",
       " -0.4459743797779083,\n",
       " 0.028161555528640747,\n",
       " -0.6737350225448608,\n",
       " -0.12114886939525604,\n",
       " 0.003182668937370181,\n",
       " 0.2227478325366974,\n",
       " 1.5404256582260132,\n",
       " 1.1395331621170044,\n",
       " -0.3687267601490021,\n",
       " -0.8890791535377502,\n",
       " 2.1136176586151123,\n",
       " 0.11717338860034943,\n",
       " 1.8205796480178833,\n",
       " 0.17083460092544556,\n",
       " 0.1153375506401062,\n",
       " -0.2609257102012634,\n",
       " 0.05753200873732567,\n",
       " 0.9043534398078918,\n",
       " 0.9029689431190491,\n",
       " 0.13313241302967072,\n",
       " -0.04955844208598137,\n",
       " -0.10472191125154495,\n",
       " 0.05340932682156563,\n",
       " 0.5594390034675598,\n",
       " 1.4531692266464233,\n",
       " 0.4849478602409363,\n",
       " 0.5680252313613892,\n",
       " 1.6394000053405762,\n",
       " 1.2332006692886353,\n",
       " 0.7953941822052002,\n",
       " 1.9620915651321411,\n",
       " 1.264937400817871,\n",
       " 0.25521785020828247,\n",
       " 0.21154241263866425,\n",
       " -1.1722475290298462,\n",
       " 2.332091808319092,\n",
       " 0.2629341185092926,\n",
       " 0.19630637764930725,\n",
       " 0.684831976890564,\n",
       " -0.6607195138931274,\n",
       " 0.24978309869766235,\n",
       " 0.784748375415802,\n",
       " 0.3534267246723175,\n",
       " -1.353809118270874,\n",
       " 2.6866776943206787,\n",
       " -0.6849126815795898,\n",
       " -0.24630679190158844,\n",
       " -0.26883843541145325,\n",
       " -2.134880542755127,\n",
       " -0.8115563988685608,\n",
       " 0.19055350124835968,\n",
       " 0.11084010452032089,\n",
       " 0.7091199159622192,\n",
       " -0.426906943321228,\n",
       " 0.1884460300207138,\n",
       " -0.10163747519254684,\n",
       " 1.5841288566589355,\n",
       " -1.4825416803359985,\n",
       " -0.8387117385864258,\n",
       " -0.46987658739089966,\n",
       " 0.8946107625961304,\n",
       " 0.29454469680786133,\n",
       " -1.8980364799499512,\n",
       " 0.7978817224502563,\n",
       " 1.1375603675842285,\n",
       " 0.2763737440109253,\n",
       " 0.14146468043327332,\n",
       " -0.8203571438789368,\n",
       " -0.34407028555870056,\n",
       " 0.2038099765777588,\n",
       " -0.06590335816144943,\n",
       " 0.32903870940208435,\n",
       " 1.2915709018707275,\n",
       " 0.1979234665632248,\n",
       " -0.9924655556678772,\n",
       " -0.7239120006561279,\n",
       " -0.04527111351490021,\n",
       " -0.24976500868797302,\n",
       " -0.6738827228546143,\n",
       " -0.34802407026290894,\n",
       " 1.0569497346878052,\n",
       " 0.8425575494766235,\n",
       " -0.8378141522407532,\n",
       " 0.8551792502403259,\n",
       " 0.2722969651222229,\n",
       " -0.9340359568595886,\n",
       " 1.098289966583252,\n",
       " 1.5972832441329956,\n",
       " -0.2304435819387436,\n",
       " -0.3328900933265686,\n",
       " -0.22432681918144226,\n",
       " 2.4885730743408203,\n",
       " -0.604893147945404,\n",
       " -0.08816399425268173,\n",
       " -0.6821222901344299,\n",
       " -3.3144822120666504,\n",
       " -0.680766224861145,\n",
       " 0.8368111252784729,\n",
       " 0.9981117844581604,\n",
       " -1.4387844800949097,\n",
       " 1.3740004301071167,\n",
       " -2.0533881187438965,\n",
       " 2.46122145652771,\n",
       " 0.09133344143629074,\n",
       " 0.752753734588623,\n",
       " -0.9689001441001892,\n",
       " 1.4881716966629028,\n",
       " 0.17584463953971863,\n",
       " -1.5770151615142822,\n",
       " -0.7979207634925842,\n",
       " 0.5057885646820068,\n",
       " 0.09176737070083618,\n",
       " -0.8448460102081299,\n",
       " 0.7575702667236328,\n",
       " 1.585693120956421,\n",
       " 0.7845289707183838,\n",
       " 1.0202813148498535,\n",
       " -1.3348361253738403,\n",
       " -0.19412660598754883,\n",
       " 0.28514087200164795,\n",
       " 1.676992654800415,\n",
       " -1.4818364381790161,\n",
       " -0.886153519153595,\n",
       " -0.17029939591884613,\n",
       " 1.1795624494552612,\n",
       " 1.4988657236099243,\n",
       " 0.024801412597298622,\n",
       " 1.603635549545288,\n",
       " 2.272148609161377,\n",
       " -2.0774805545806885,\n",
       " 1.2980787754058838,\n",
       " -1.2043299674987793,\n",
       " 1.0862925052642822,\n",
       " 0.01495445892214775,\n",
       " -0.1901387870311737,\n",
       " -0.031619735062122345,\n",
       " -0.899255096912384,\n",
       " -0.059184424579143524,\n",
       " -0.032587453722953796,\n",
       " 2.8147034645080566,\n",
       " -0.9112731218338013,\n",
       " 1.202717900276184,\n",
       " -0.8996478319168091,\n",
       " 0.7968899607658386,\n",
       " 0.2994150221347809,\n",
       " 1.7848315238952637,\n",
       " 1.3315883874893188,\n",
       " 0.41381463408470154,\n",
       " 1.503385066986084,\n",
       " -1.7658966779708862,\n",
       " 1.8838258981704712,\n",
       " 1.4327905178070068,\n",
       " -2.2236719131469727,\n",
       " 0.793239414691925,\n",
       " -1.6726031303405762,\n",
       " 0.4249844253063202,\n",
       " 1.086907148361206,\n",
       " -1.4280190467834473,\n",
       " -0.6744111776351929,\n",
       " -1.2981466054916382,\n",
       " 0.9259164929389954,\n",
       " -1.0205327272415161,\n",
       " 0.39342108368873596,\n",
       " 0.5160292983055115,\n",
       " -1.982455849647522,\n",
       " 0.21311165392398834,\n",
       " 0.43254372477531433,\n",
       " 1.383704423904419,\n",
       " 0.051798492670059204,\n",
       " -0.16814497113227844,\n",
       " -0.4953899085521698,\n",
       " 0.1403099149465561,\n",
       " -0.26797282695770264,\n",
       " -1.2178987264633179,\n",
       " -0.20606277883052826,\n",
       " -0.0778803750872612,\n",
       " 1.9738503694534302,\n",
       " -0.40076300501823425,\n",
       " 1.1268935203552246,\n",
       " 0.009050373919308186,\n",
       " 0.9682651162147522,\n",
       " -0.8439502120018005,\n",
       " -0.2865414619445801,\n",
       " -1.5499160289764404,\n",
       " -0.981492280960083,\n",
       " 0.5738571286201477,\n",
       " -1.1603772640228271,\n",
       " 0.11939999461174011,\n",
       " 0.22689276933670044,\n",
       " -0.9411619901657104,\n",
       " -0.43611955642700195,\n",
       " 0.5742679238319397,\n",
       " -0.29797884821891785,\n",
       " -0.4747259318828583,\n",
       " 0.2587372362613678,\n",
       " 0.6475804448127747,\n",
       " 0.9480307698249817,\n",
       " 1.156324863433838,\n",
       " 0.6369327902793884,\n",
       " -0.7290424704551697,\n",
       " 1.1241761445999146,\n",
       " -1.5482990741729736,\n",
       " -0.49164047837257385,\n",
       " -0.0793675035238266,\n",
       " 0.13083018362522125,\n",
       " -1.0586283206939697,\n",
       " 2.115186929702759,\n",
       " -1.093295693397522,\n",
       " 0.693705141544342,\n",
       " 0.10346690565347672,\n",
       " -1.1528772115707397,\n",
       " -1.0645911693572998,\n",
       " 0.08067703992128372,\n",
       " -0.5594671368598938,\n",
       " -0.985651969909668,\n",
       " -0.15634043514728546,\n",
       " 0.46388953924179077,\n",
       " 0.30499476194381714,\n",
       " 0.3717557191848755,\n",
       " 0.25919109582901,\n",
       " -0.4486081004142761,\n",
       " -1.6410855054855347,\n",
       " -0.1909784972667694,\n",
       " 1.1091129779815674,\n",
       " 0.6291356682777405,\n",
       " 1.6499183177947998,\n",
       " 0.4899912178516388,\n",
       " 1.0883643627166748,\n",
       " 0.392738401889801,\n",
       " 0.28743940591812134,\n",
       " 0.7754821181297302,\n",
       " 1.1495329141616821,\n",
       " 0.5418978333473206,\n",
       " 0.8580209016799927,\n",
       " 0.17116796970367432,\n",
       " 0.016020655632019043,\n",
       " -1.4730448722839355,\n",
       " -0.1496354639530182,\n",
       " -1.3313668966293335,\n",
       " -1.949254035949707,\n",
       " 0.0017945165745913982,\n",
       " -1.2563371658325195,\n",
       " 0.07936440408229828,\n",
       " -0.11419354379177094,\n",
       " -1.3766342401504517,\n",
       " -1.3990042209625244,\n",
       " -0.5080087184906006,\n",
       " 1.1741962432861328,\n",
       " 1.1591520309448242,\n",
       " -0.35980311036109924,\n",
       " -0.7100100517272949,\n",
       " 2.3181893825531006,\n",
       " -1.0771409273147583,\n",
       " 0.0946364775300026,\n",
       " -0.44907647371292114,\n",
       " -0.7182329297065735,\n",
       " 2.28224515914917,\n",
       " -0.3839753270149231,\n",
       " 0.8665485978126526,\n",
       " 0.4312764108181,\n",
       " 1.5558841228485107,\n",
       " -0.07228703051805496,\n",
       " 0.7761628031730652,\n",
       " 0.10967177152633667,\n",
       " 1.383217453956604,\n",
       " -1.1234396696090698,\n",
       " -0.779918372631073,\n",
       " 0.9162169098854065,\n",
       " -0.5303037762641907,\n",
       " 0.08139147609472275,\n",
       " -0.31094732880592346,\n",
       " -1.0007785558700562,\n",
       " 0.8489624857902527,\n",
       " -0.690426766872406,\n",
       " -0.6144251227378845,\n",
       " -1.5220575332641602,\n",
       " -1.408461332321167,\n",
       " 0.11055220663547516,\n",
       " -1.2805323600769043,\n",
       " -1.7463428974151611,\n",
       " 0.6000889539718628,\n",
       " -0.8485535979270935,\n",
       " 0.31167200207710266,\n",
       " -0.5048565864562988,\n",
       " -0.3359105587005615,\n",
       " 1.551039695739746,\n",
       " 0.3709503412246704,\n",
       " -0.265460342168808,\n",
       " -0.7068787813186646,\n",
       " 0.41963133215904236,\n",
       " 0.9914025068283081,\n",
       " 1.296840786933899,\n",
       " -0.373357355594635,\n",
       " 1.0957845449447632,\n",
       " -0.25245562195777893,\n",
       " -0.5224866271018982,\n",
       " 0.7295737862586975,\n",
       " -1.443216323852539,\n",
       " 0.4846231937408447,\n",
       " -0.6181555390357971,\n",
       " -0.04288405925035477,\n",
       " 0.0244581401348114,\n",
       " 0.8040339350700378,\n",
       " 0.3990011215209961,\n",
       " 1.4617929458618164,\n",
       " -0.6794028282165527,\n",
       " -0.013564486987888813,\n",
       " -1.8195325136184692,\n",
       " 0.615845799446106,\n",
       " 0.22744756937026978,\n",
       " 0.08927294611930847,\n",
       " 0.18532982468605042,\n",
       " 0.4085119366645813,\n",
       " -0.5292056202888489,\n",
       " 0.9957184791564941,\n",
       " -1.6023972034454346,\n",
       " 1.7896833419799805,\n",
       " -0.6789199709892273,\n",
       " 0.4414360523223877,\n",
       " 0.16558873653411865,\n",
       " 0.42515239119529724,\n",
       " 0.4301746189594269,\n",
       " 0.41327759623527527,\n",
       " 0.9648488163948059,\n",
       " -0.7807281017303467,\n",
       " 0.21123404800891876,\n",
       " 1.283113718032837,\n",
       " 0.41643399000167847,\n",
       " -0.2501279413700104,\n",
       " -0.05214289203286171,\n",
       " -0.31230223178863525,\n",
       " 1.3490793704986572,\n",
       " 0.812982439994812,\n",
       " -2.1242098808288574,\n",
       " -0.7882528901100159,\n",
       " -1.0015933513641357,\n",
       " -1.426282525062561,\n",
       " -0.7874580025672913,\n",
       " 0.13707928359508514,\n",
       " -1.5256015062332153,\n",
       " 0.2430567890405655,\n",
       " -1.3351560831069946,\n",
       " -0.2279280722141266,\n",
       " -0.22231321036815643,\n",
       " -0.3345218896865845,\n",
       " -0.10485700517892838,\n",
       " 0.713067889213562,\n",
       " -1.3775094747543335,\n",
       " 0.9361879825592041,\n",
       " 1.2742424011230469,\n",
       " -0.573424756526947,\n",
       " -1.2000702619552612,\n",
       " -0.7919191718101501,\n",
       " 0.44339603185653687,\n",
       " 1.522401213645935,\n",
       " 0.2090018093585968,\n",
       " -0.49636396765708923,\n",
       " -0.1427726298570633,\n",
       " -0.1470828652381897,\n",
       " -0.5197566747665405,\n",
       " -0.31175497174263,\n",
       " 0.038626495748758316,\n",
       " 1.2249715328216553,\n",
       " -0.7083140015602112,\n",
       " 0.6800426244735718,\n",
       " 0.8054181337356567,\n",
       " 0.6898910403251648,\n",
       " -0.74113529920578,\n",
       " -0.8442617654800415,\n",
       " -0.5330711603164673,\n",
       " -2.3091442584991455,\n",
       " -2.1493723392486572,\n",
       " -0.5038906335830688,\n",
       " -1.0994210243225098,\n",
       " 1.2772228717803955,\n",
       " 1.362443447113037,\n",
       " 1.0798461437225342,\n",
       " -0.15755131840705872,\n",
       " -0.28032252192497253,\n",
       " 1.1912314891815186,\n",
       " 0.8507638573646545,\n",
       " 0.4854694604873657,\n",
       " 0.3745642602443695,\n",
       " 0.5576308965682983,\n",
       " -1.0478721857070923,\n",
       " -1.0317097902297974,\n",
       " -1.2818636894226074,\n",
       " 0.06197984144091606,\n",
       " 1.2406145334243774,\n",
       " -0.7056028842926025,\n",
       " -0.35189616680145264,\n",
       " 0.9460877180099487,\n",
       " 0.24087516963481903,\n",
       " 0.10616329312324524,\n",
       " 0.2606860399246216,\n",
       " 0.7829071879386902,\n",
       " -1.8485032320022583,\n",
       " -0.5042593479156494,\n",
       " 0.65654057264328,\n",
       " 1.1339482069015503,\n",
       " 0.42425835132598877,\n",
       " -1.1607956886291504,\n",
       " 0.26885080337524414,\n",
       " -0.02580586075782776,\n",
       " -0.5921116471290588,\n",
       " -0.6345847249031067,\n",
       " -0.20041686296463013,\n",
       " -1.816596269607544,\n",
       " -1.0585194826126099,\n",
       " -2.23160982131958,\n",
       " 2.794926643371582,\n",
       " -0.736099362373352,\n",
       " 0.12305185198783875,\n",
       " -0.04715270921587944,\n",
       " 0.5356093645095825,\n",
       " 0.5972042083740234,\n",
       " -0.802455484867096,\n",
       " 1.3468314409255981,\n",
       " -0.6317206025123596,\n",
       " -0.15112251043319702,\n",
       " 0.08473881334066391,\n",
       " 0.7923597097396851,\n",
       " -1.271835446357727,\n",
       " -0.8817176818847656,\n",
       " 1.5461363792419434,\n",
       " -0.4063973128795624,\n",
       " -0.4990652799606323,\n",
       " -1.4183998107910156,\n",
       " 0.4865487515926361,\n",
       " 0.41038578748703003,\n",
       " 1.2400511503219604,\n",
       " 1.2232552766799927,\n",
       " -0.16742753982543945,\n",
       " -1.7646870613098145,\n",
       " -1.2846579551696777,\n",
       " 0.6100839376449585,\n",
       " -1.4615589380264282,\n",
       " -0.42033419013023376,\n",
       " -1.3048688173294067,\n",
       " -1.4458868503570557,\n",
       " -0.6184632778167725,\n",
       " -1.5685070753097534,\n",
       " 1.636024832725525,\n",
       " 1.7225819826126099,\n",
       " 0.11609270423650742,\n",
       " 0.8191023468971252,\n",
       " 0.28284069895744324,\n",
       " 1.5390115976333618,\n",
       " -0.8439905643463135,\n",
       " -0.5596497654914856,\n",
       " -0.6119076609611511,\n",
       " -0.07725109905004501,\n",
       " -0.2377452701330185,\n",
       " 0.6930052042007446,\n",
       " -0.5513277053833008,\n",
       " 0.444265216588974,\n",
       " -0.7099629640579224,\n",
       " -1.1286314725875854,\n",
       " 1.2251802682876587,\n",
       " 0.1088283360004425,\n",
       " -0.4429995119571686,\n",
       " 0.2979578971862793,\n",
       " -2.3148562908172607,\n",
       " -0.715875506401062,\n",
       " -0.43545812368392944,\n",
       " 0.23788322508335114,\n",
       " 0.5801963806152344,\n",
       " -1.353039264678955,\n",
       " 0.7602053880691528,\n",
       " 0.3531282842159271,\n",
       " -0.9215238690376282,\n",
       " 0.6624152064323425,\n",
       " -0.32206353545188904,\n",
       " -0.6271795034408569,\n",
       " -1.2348604202270508,\n",
       " -0.462727814912796,\n",
       " -0.5674789547920227,\n",
       " 1.0501227378845215,\n",
       " 0.055551569908857346,\n",
       " 0.22975988686084747,\n",
       " -0.4358605444431305,\n",
       " -0.7814271450042725,\n",
       " -0.11864183843135834,\n",
       " 0.6326655745506287,\n",
       " 0.20555326342582703,\n",
       " 1.152225136756897,\n",
       " -0.33546561002731323,\n",
       " 0.9877411127090454,\n",
       " -0.7232332825660706,\n",
       " 1.3247495889663696,\n",
       " -0.3863314390182495,\n",
       " -0.44901907444000244,\n",
       " -0.026965290307998657,\n",
       " 0.7910497784614563,\n",
       " 2.1986165046691895,\n",
       " -0.10224287211894989,\n",
       " -2.029010534286499,\n",
       " 0.8427982330322266,\n",
       " -0.7460140585899353,\n",
       " 1.0475578308105469,\n",
       " 0.04171781986951828,\n",
       " -0.08349596709012985,\n",
       " 0.35499605536460876,\n",
       " -0.5961405634880066,\n",
       " -0.24201521277427673,\n",
       " -0.13715659081935883,\n",
       " 0.05217817425727844,\n",
       " -0.7553232908248901,\n",
       " -0.13144509494304657,\n",
       " 1.2160383462905884,\n",
       " -0.7816765904426575,\n",
       " 0.11785692721605301]"
      ]
     },
     "execution_count": 73,
     "metadata": {},
     "output_type": "execute_result"
    }
   ],
   "execution_count": 73
  },
  {
   "metadata": {
    "ExecuteTime": {
     "end_time": "2024-09-22T16:46:47.216967Z",
     "start_time": "2024-09-22T16:46:44.946353Z"
    }
   },
   "cell_type": "code",
   "source": [
    "\n",
    "device = torch.device('cuda' if torch.cuda.is_available() else 'cpu')\n",
    "\n",
    "pipe = pipeline(\"text-classification\", model=\"cardiffnlp/twitter-roberta-base-emoji\", device=0)\n",
    "tokenizer = AutoTokenizer.from_pretrained(\"cardiffnlp/twitter-roberta-base-emoji\")\n",
    "vocab_size = 50265  # 词汇表大小\n",
    "embedding_dim = 768  # 嵌入维度，与你的图像嵌入维度相同\n",
    "text_embedding = nn.Embedding(vocab_size, embedding_dim).to(device)\n",
    "\n",
    "words = \"👻🔥😂😁👍🤦‍♀️🤦‍♂️🤷‍♀️🤷‍♂️✌🤞😉😎🎶😢💖😜🐱‍🏍🐱‍👤🤳🎂🎉🌹💋👏🐱‍💻🐱‍🐉🐱‍👓✔👀😃✨😆🤔🤢🎁🫢 ha ha\"\n",
    "tokens = tokenizer(words, truncation=True , padding='max_length', max_length=100, return_tensors='pt')\n",
    "# print(tokens['input_ids'][0])\n",
    "output = text_embedding(tokens['input_ids'].to(device))\n",
    "print(output.shape)"
   ],
   "id": "231a8555576f9e51",
   "outputs": [
    {
     "name": "stderr",
     "output_type": "stream",
     "text": [
      "C:\\Users\\USER\\PycharmProjects\\Python3.11.9\\pythonProject\\.venv\\Lib\\site-packages\\transformers\\tokenization_utils_base.py:1601: FutureWarning: `clean_up_tokenization_spaces` was not set. It will be set to `True` by default. This behavior will be depracted in transformers v4.45, and will be then set to `False` by default. For more details check this issue: https://github.com/huggingface/transformers/issues/31884\n",
      "  warnings.warn(\n"
     ]
    },
    {
     "name": "stdout",
     "output_type": "stream",
     "text": [
      "torch.Size([1, 100, 768])\n"
     ]
    }
   ],
   "execution_count": 183
  },
  {
   "metadata": {
    "ExecuteTime": {
     "end_time": "2024-09-22T21:00:30.021494Z",
     "start_time": "2024-09-22T21:00:30.013981Z"
    }
   },
   "cell_type": "code",
   "source": [
    "import torch\n",
    "import torch.nn.functional as F\n",
    "\n",
    "def find_closest_embeddings(x, embedding_matrix, top_k=1):\n",
    "    # Normalize both the input tensor x and the embedding matrix\n",
    "    x = F.normalize(x, dim=2)  # Normalize input tensor along feature dimension\n",
    "    embedding_matrix = F.normalize(embedding_matrix, dim=1)  # Normalize embedding matrix\n",
    "    \n",
    "    # Compute cosine similarity between x and embedding matrix\n",
    "    similarity = torch.matmul(x, embedding_matrix.T)  # Shape: [10, 50265]\n",
    "    \n",
    "    # Find top-k closest embeddings for each tensor in x\n",
    "    top_k_values, top_k_indices = torch.topk(similarity, top_k, dim=2)\n",
    "    \n",
    "    return top_k_indices, top_k_values"
   ],
   "id": "5360ff8c352ed95b",
   "outputs": [],
   "execution_count": 189
  },
  {
   "metadata": {
    "ExecuteTime": {
     "end_time": "2024-09-22T21:05:14.508188Z",
     "start_time": "2024-09-22T21:05:14.502242Z"
    }
   },
   "cell_type": "code",
   "source": [
    "temp_11 = torch.rand(2,3,4)\n",
    "temp_11.long()"
   ],
   "id": "29e6ba5abf5ee1ea",
   "outputs": [
    {
     "data": {
      "text/plain": [
       "tensor([[[0, 0, 0, 0],\n",
       "         [0, 0, 0, 0],\n",
       "         [0, 0, 0, 0]],\n",
       "\n",
       "        [[0, 0, 0, 0],\n",
       "         [0, 0, 0, 0],\n",
       "         [0, 0, 0, 0]]])"
      ]
     },
     "execution_count": 196,
     "metadata": {},
     "output_type": "execute_result"
    }
   ],
   "execution_count": 196
  },
  {
   "metadata": {
    "ExecuteTime": {
     "end_time": "2024-09-22T21:14:57.361303Z",
     "start_time": "2024-09-22T21:14:57.351249Z"
    }
   },
   "cell_type": "code",
   "source": [
    "temp_11 = torch.rand(2,3,4).to(device)\n",
    "text_embedding = nn.Embedding(50, 4).to(device)\n",
    "top_k_indices, top_k_values = find_closest_embeddings(temp_11, text_embedding.weight)\n",
    "print(top_k_indices.squeeze(-1))\n",
    "# top_k_indices.shape\n",
    "indices = tokenizer.batch_decode(top_k_indices.squeeze(-1))\n",
    "print(type(indices))"
   ],
   "id": "aeedfd7586de556d",
   "outputs": [
    {
     "name": "stdout",
     "output_type": "stream",
     "text": [
      "tensor([[39, 39, 20],\n",
      "        [16, 20, 20]], device='cuda:0')\n",
      "<class 'list'>\n"
     ]
    }
   ],
   "execution_count": 208
  },
  {
   "metadata": {
    "ExecuteTime": {
     "end_time": "2024-09-22T21:15:35.873606Z",
     "start_time": "2024-09-22T21:15:35.850261Z"
    }
   },
   "cell_type": "code",
   "source": "gogo = tokenizer.batch_encode_plus(indices, truncation=True, padding='max_length', max_length=100, return_tensors='pt')",
   "id": "820d9683fc7efc2c",
   "outputs": [],
   "execution_count": 209
  },
  {
   "metadata": {
    "ExecuteTime": {
     "end_time": "2024-09-22T21:15:54.278330Z",
     "start_time": "2024-09-22T21:15:54.274894Z"
    }
   },
   "cell_type": "code",
   "source": "gogo['input_ids'].shape",
   "id": "17d6396612306394",
   "outputs": [
    {
     "data": {
      "text/plain": [
       "torch.Size([2, 100])"
      ]
     },
     "execution_count": 212,
     "metadata": {},
     "output_type": "execute_result"
    }
   ],
   "execution_count": 212
  },
  {
   "metadata": {
    "ExecuteTime": {
     "end_time": "2024-09-23T17:48:10.118750Z",
     "start_time": "2024-09-23T17:48:08.584190Z"
    }
   },
   "cell_type": "code",
   "source": [
    "tokenizer = AutoTokenizer.from_pretrained(\"cardiffnlp/twitter-roberta-base-emoji\")\n",
    "vocab_size = 50265  # 詞彙表大小\n",
    "\n",
    "embedding_dim = 768  # 嵌入维度，與你的圖片嵌入维度相同\n",
    "text_embedding = nn.Embedding(vocab_size, embedding_dim)\n",
    "\n",
    "text =\"15 fdsfd f fd d  dfsdf\"\n",
    "\n",
    "tokens = tokenizer(text, truncation=True, padding='max_length', max_length=373, return_tensors='pt')\n",
    "output = text_embedding(tokens['input_ids'])\n",
    "print(output.shape)"
   ],
   "id": "c99418edf56286f7",
   "outputs": [
    {
     "name": "stderr",
     "output_type": "stream",
     "text": [
      "C:\\Users\\USER\\PycharmProjects\\Python3.11.9\\pythonProject\\.venv\\Lib\\site-packages\\transformers\\tokenization_utils_base.py:1601: FutureWarning: `clean_up_tokenization_spaces` was not set. It will be set to `True` by default. This behavior will be depracted in transformers v4.45, and will be then set to `False` by default. For more details check this issue: https://github.com/huggingface/transformers/issues/31884\n",
      "  warnings.warn(\n"
     ]
    },
    {
     "name": "stdout",
     "output_type": "stream",
     "text": [
      "torch.Size([1, 373, 768])\n"
     ]
    }
   ],
   "execution_count": 213
  },
  {
   "metadata": {},
   "cell_type": "code",
   "outputs": [],
   "execution_count": null,
   "source": [
    "import torch.nn.functional as F\n",
    "linear = torch.nn.Linear(output.shape[1], 64)\n",
    "projected_output = linear(output.transpose(1, 2)).transpose(1, 2)\n",
    "print(projected_output.shape) # torch.Size([1, 32, 768])"
   ],
   "id": "3b18fb7bec1836f0"
  },
  {
   "metadata": {},
   "cell_type": "code",
   "outputs": [],
   "execution_count": null,
   "source": "import tqdm",
   "id": "c7b7e2247fe74ed7"
  },
  {
   "metadata": {
    "ExecuteTime": {
     "end_time": "2024-09-26T04:33:48.316033Z",
     "start_time": "2024-09-25T20:16:29.170354Z"
    }
   },
   "cell_type": "code",
   "source": [
    "wordList = []\n",
    "total = 0\n",
    "dirPath = '..//Oxford_HIC/oxford_hic_data.csv'\n",
    "data = pd.read_csv(dirPath)\n",
    "\n",
    "with tqdm(total=data.shape[0]) as pbar:\n",
    "    for i in range(data.shape[0]):\n",
    "        for word in str(data['caption'][i]).split():\n",
    "            if word not in wordList:\n",
    "                wordList.append(word)\n",
    "                total += 1\n",
    "        pbar.update(1)\n",
    "\n",
    "\n",
    "print(len(wordList))        \n",
    "print(total)"
   ],
   "id": "65c1595d54117990",
   "outputs": [
    {
     "name": "stderr",
     "output_type": "stream",
     "text": [
      "C:\\Users\\USER\\AppData\\Local\\Temp\\ipykernel_13264\\2139088998.py:4: DtypeWarning: Columns (2) have mixed types. Specify dtype option on import or set low_memory=False.\n",
      "  data = pd.read_csv(dirPath)\n",
      "100%|██████████| 3657847/3657847 [8:17:15<00:00, 122.60it/s]   "
     ]
    },
    {
     "name": "stdout",
     "output_type": "stream",
     "text": [
      "1226242\n",
      "1226242\n"
     ]
    },
    {
     "name": "stderr",
     "output_type": "stream",
     "text": [
      "\n"
     ]
    }
   ],
   "execution_count": 215
  },
  {
   "metadata": {
    "ExecuteTime": {
     "end_time": "2024-09-26T15:35:50.808956Z",
     "start_time": "2024-09-26T15:34:22.571468Z"
    }
   },
   "cell_type": "code",
   "source": [
    "subUrlList = ['wendys','mcdonalds', 'mcdonalds_switzerland','mcdonaldscanada','sonicdrivein']\n",
    "\n",
    "for subUrl in subUrlList:\n",
    "    dirPath = './Filter_' + subUrl + '.csv'\n",
    "    data = pd.read_csv(dirPath)\n",
    "    \n",
    "    for i in range(len(data['caption'])):\n",
    "        for word in str(data['caption'][i]).split():\n",
    "            if word not in wordList:\n",
    "                wordList.append(word)\n",
    "                total += 1\n",
    "                \n",
    "print(len(wordList))        \n",
    "print(total)"
   ],
   "id": "f0f76486856829bf",
   "outputs": [
    {
     "name": "stdout",
     "output_type": "stream",
     "text": [
      "1231178\n",
      "1231178\n"
     ]
    }
   ],
   "execution_count": 217
  },
  {
   "metadata": {},
   "cell_type": "markdown",
   "source": "# Remove Nan from Oxford",
   "id": "5eb01bc2fc7b6c09"
  },
  {
   "metadata": {
    "ExecuteTime": {
     "end_time": "2024-10-10T09:18:45.828967Z",
     "start_time": "2024-10-10T09:18:39.931919Z"
    }
   },
   "cell_type": "code",
   "source": [
    "import pandas as pd\n",
    "dirPath = '../Oxford_HIC/Original_File/oxford_hic_data.csv'\n",
    "data = pd.read_csv(dirPath)\n",
    "print(data.shape)\n",
    "data = data.dropna()\n",
    "print(data.shape)\n",
    "data = data.reset_index(drop=True)\n",
    "data.to_csv('../Oxford_HIC/oxford_hic_data.csv', index = False)\n"
   ],
   "id": "18f1b9d3d52329d4",
   "outputs": [
    {
     "name": "stderr",
     "output_type": "stream",
     "text": [
      "C:\\Users\\USER\\AppData\\Local\\Temp\\ipykernel_12588\\176095774.py:3: DtypeWarning: Columns (2) have mixed types. Specify dtype option on import or set low_memory=False.\n",
      "  data = pd.read_csv(dirPath)\n"
     ]
    },
    {
     "name": "stdout",
     "output_type": "stream",
     "text": [
      "(3657847, 3)\n",
      "(3653781, 3)\n"
     ]
    }
   ],
   "execution_count": 4
  },
  {
   "metadata": {
    "ExecuteTime": {
     "end_time": "2024-10-10T09:19:13.053635Z",
     "start_time": "2024-10-10T09:19:13.047265Z"
    }
   },
   "cell_type": "code",
   "source": "data\n",
   "id": "b763cf87979cd198",
   "outputs": [
    {
     "data": {
      "text/plain": [
       "                             image_id  \\\n",
       "0                            bokete_0   \n",
       "1                            bokete_1   \n",
       "2                            bokete_2   \n",
       "3                            bokete_3   \n",
       "4                            bokete_4   \n",
       "...                               ...   \n",
       "3653776  british-high-school-honeybee   \n",
       "3653777  british-high-school-honeybee   \n",
       "3653778  british-high-school-honeybee   \n",
       "3653779  british-high-school-honeybee   \n",
       "3653780                   mendozameme   \n",
       "\n",
       "                                                   caption funny_score  \n",
       "0                                My driver's license photo         0.0  \n",
       "1                                          Refugee relief.         0.0  \n",
       "2        Now! I think I stepped on a cat! What? Really?...         0.0  \n",
       "3            You wouldn't know I was reading a comic book.         0.0  \n",
       "4                        Oh no! I forgot my ・・・・ clothes!\"         0.0  \n",
       "...                                                    ...         ...  \n",
       "3653776                                            on time           0  \n",
       "3653777                         quiz tomorrow bee ready!!!           0  \n",
       "3653778  i'll die no matter what my fucking defenses bitch           0  \n",
       "3653779                       you dont scare me biker dude           0  \n",
       "3653780                               omg look at her butt           0  \n",
       "\n",
       "[3653781 rows x 3 columns]"
      ],
      "text/html": [
       "<div>\n",
       "<style scoped>\n",
       "    .dataframe tbody tr th:only-of-type {\n",
       "        vertical-align: middle;\n",
       "    }\n",
       "\n",
       "    .dataframe tbody tr th {\n",
       "        vertical-align: top;\n",
       "    }\n",
       "\n",
       "    .dataframe thead th {\n",
       "        text-align: right;\n",
       "    }\n",
       "</style>\n",
       "<table border=\"1\" class=\"dataframe\">\n",
       "  <thead>\n",
       "    <tr style=\"text-align: right;\">\n",
       "      <th></th>\n",
       "      <th>image_id</th>\n",
       "      <th>caption</th>\n",
       "      <th>funny_score</th>\n",
       "    </tr>\n",
       "  </thead>\n",
       "  <tbody>\n",
       "    <tr>\n",
       "      <th>0</th>\n",
       "      <td>bokete_0</td>\n",
       "      <td>My driver's license photo</td>\n",
       "      <td>0.0</td>\n",
       "    </tr>\n",
       "    <tr>\n",
       "      <th>1</th>\n",
       "      <td>bokete_1</td>\n",
       "      <td>Refugee relief.</td>\n",
       "      <td>0.0</td>\n",
       "    </tr>\n",
       "    <tr>\n",
       "      <th>2</th>\n",
       "      <td>bokete_2</td>\n",
       "      <td>Now! I think I stepped on a cat! What? Really?...</td>\n",
       "      <td>0.0</td>\n",
       "    </tr>\n",
       "    <tr>\n",
       "      <th>3</th>\n",
       "      <td>bokete_3</td>\n",
       "      <td>You wouldn't know I was reading a comic book.</td>\n",
       "      <td>0.0</td>\n",
       "    </tr>\n",
       "    <tr>\n",
       "      <th>4</th>\n",
       "      <td>bokete_4</td>\n",
       "      <td>Oh no! I forgot my ・・・・ clothes!\"</td>\n",
       "      <td>0.0</td>\n",
       "    </tr>\n",
       "    <tr>\n",
       "      <th>...</th>\n",
       "      <td>...</td>\n",
       "      <td>...</td>\n",
       "      <td>...</td>\n",
       "    </tr>\n",
       "    <tr>\n",
       "      <th>3653776</th>\n",
       "      <td>british-high-school-honeybee</td>\n",
       "      <td>on time</td>\n",
       "      <td>0</td>\n",
       "    </tr>\n",
       "    <tr>\n",
       "      <th>3653777</th>\n",
       "      <td>british-high-school-honeybee</td>\n",
       "      <td>quiz tomorrow bee ready!!!</td>\n",
       "      <td>0</td>\n",
       "    </tr>\n",
       "    <tr>\n",
       "      <th>3653778</th>\n",
       "      <td>british-high-school-honeybee</td>\n",
       "      <td>i'll die no matter what my fucking defenses bitch</td>\n",
       "      <td>0</td>\n",
       "    </tr>\n",
       "    <tr>\n",
       "      <th>3653779</th>\n",
       "      <td>british-high-school-honeybee</td>\n",
       "      <td>you dont scare me biker dude</td>\n",
       "      <td>0</td>\n",
       "    </tr>\n",
       "    <tr>\n",
       "      <th>3653780</th>\n",
       "      <td>mendozameme</td>\n",
       "      <td>omg look at her butt</td>\n",
       "      <td>0</td>\n",
       "    </tr>\n",
       "  </tbody>\n",
       "</table>\n",
       "<p>3653781 rows × 3 columns</p>\n",
       "</div>"
      ]
     },
     "execution_count": 6,
     "metadata": {},
     "output_type": "execute_result"
    }
   ],
   "execution_count": 6
  },
  {
   "metadata": {
    "ExecuteTime": {
     "end_time": "2024-10-14T06:33:44.501469Z",
     "start_time": "2024-10-14T06:31:51.996416Z"
    }
   },
   "cell_type": "code",
   "source": [
    "import pandas as pd\n",
    "from extractor import addImagePath\n",
    "import tqdm\n",
    "import os\n",
    "dirPath = '../Oxford_HIC/Original_File/oxford_hic_data.csv'\n",
    "imgPath = '../Oxford_HIC/oxford_img/'\n",
    "data = pd.read_csv(dirPath)\n",
    "print(data.shape)\n",
    "new_data = addImagePath(data, imgPath)\n",
    "# if image is not exist, remove the row\n",
    "with tqdm.tqdm(total=data.shape[0]) as pbar:\n",
    "    for i in range(data.shape[0]):\n",
    "        if not os.path.exists(data['image_id'][i]):\n",
    "            data = data.drop(i)\n",
    "        pbar.update(1)\n",
    "print(data.shape)\n",
    "data = data.reset_index(drop=True)\n",
    "# data.to_csv('../Oxford_HIC/oxford_hic_data.csv', index=False)\n",
    "\n"
   ],
   "id": "4248c620e102d557",
   "outputs": [
    {
     "name": "stderr",
     "output_type": "stream",
     "text": [
      "C:\\Users\\USER\\AppData\\Local\\Temp\\ipykernel_15004\\3786780886.py:7: DtypeWarning: Columns (2) have mixed types. Specify dtype option on import or set low_memory=False.\n",
      "  data = pd.read_csv(dirPath)\n"
     ]
    },
    {
     "name": "stdout",
     "output_type": "stream",
     "text": [
      "(3657847, 3)\n"
     ]
    },
    {
     "name": "stderr",
     "output_type": "stream",
     "text": [
      " 89%|████████▊ | 3243763/3657847 [01:48<00:13, 30014.97it/s]\n"
     ]
    },
    {
     "ename": "KeyboardInterrupt",
     "evalue": "",
     "output_type": "error",
     "traceback": [
      "\u001B[1;31m---------------------------------------------------------------------------\u001B[0m",
      "\u001B[1;31mKeyboardInterrupt\u001B[0m                         Traceback (most recent call last)",
      "Cell \u001B[1;32mIn[2], line 15\u001B[0m\n\u001B[0;32m     13\u001B[0m         \u001B[38;5;28;01mif\u001B[39;00m \u001B[38;5;129;01mnot\u001B[39;00m os\u001B[38;5;241m.\u001B[39mpath\u001B[38;5;241m.\u001B[39mexists(data[\u001B[38;5;124m'\u001B[39m\u001B[38;5;124mimage_id\u001B[39m\u001B[38;5;124m'\u001B[39m][i]):\n\u001B[0;32m     14\u001B[0m             data \u001B[38;5;241m=\u001B[39m data\u001B[38;5;241m.\u001B[39mdrop(i)\n\u001B[1;32m---> 15\u001B[0m         pbar\u001B[38;5;241m.\u001B[39mupdate(\u001B[38;5;241m1\u001B[39m)\n\u001B[0;32m     16\u001B[0m \u001B[38;5;28mprint\u001B[39m(data\u001B[38;5;241m.\u001B[39mshape)\n\u001B[0;32m     17\u001B[0m data \u001B[38;5;241m=\u001B[39m data\u001B[38;5;241m.\u001B[39mreset_index(drop\u001B[38;5;241m=\u001B[39m\u001B[38;5;28;01mTrue\u001B[39;00m)\n",
      "\u001B[1;31mKeyboardInterrupt\u001B[0m: "
     ]
    }
   ],
   "execution_count": 2
  },
  {
   "metadata": {
    "ExecuteTime": {
     "end_time": "2024-10-11T02:58:36.922875Z",
     "start_time": "2024-10-11T02:58:33.154481Z"
    }
   },
   "cell_type": "code",
   "source": "data.to_csv('../Oxford_HIC/Filter_oxford_hic_data.csv', index=False)",
   "id": "81fe10f2df3f77ce",
   "outputs": [],
   "execution_count": 2
  },
  {
   "metadata": {
    "ExecuteTime": {
     "end_time": "2024-10-11T03:00:19.763128Z",
     "start_time": "2024-10-11T03:00:19.755540Z"
    }
   },
   "cell_type": "code",
   "source": "print(3653781 - 3400257)",
   "id": "939932e73fcd84ef",
   "outputs": [
    {
     "name": "stdout",
     "output_type": "stream",
     "text": [
      "253524\n"
     ]
    }
   ],
   "execution_count": 4
  },
  {
   "metadata": {
    "ExecuteTime": {
     "end_time": "2024-10-14T07:21:31.800534Z",
     "start_time": "2024-10-14T07:21:28.491820Z"
    }
   },
   "cell_type": "code",
   "source": [
    "import pandas as pd\n",
    "dirPath = '../Oxford_HIC/Filtered_oxford_hic_data.csv'\n",
    "imgPath = '../Oxford_HIC/oxford_img/'\n",
    "\n",
    "data = pd.read_csv(dirPath)\n",
    "# data\n",
    "# data['image_id'] = data['image_id'].apply(lambda x: x.split('/')[-1].split('.')[0])\n",
    "data[\"funny_score\"] = data[\"funny_score\"].apply(lambda x: int(float(x.replace(',', ''))) if type(x) == str else int(float(x)))\n",
    "data[\"funny_score\"] = data[\"funny_score\"]/data[\"funny_score\"].max()"
   ],
   "id": "dd0db9bae32ef208",
   "outputs": [
    {
     "name": "stderr",
     "output_type": "stream",
     "text": [
      "C:\\Users\\USER\\AppData\\Local\\Temp\\ipykernel_15004\\3302334520.py:7: DtypeWarning: Columns (2) have mixed types. Specify dtype option on import or set low_memory=False.\n",
      "  data = pd.read_csv(dirPath)\n"
     ]
    }
   ],
   "execution_count": 41
  },
  {
   "metadata": {
    "ExecuteTime": {
     "end_time": "2024-10-14T07:22:17.512795Z",
     "start_time": "2024-10-14T07:22:12.866421Z"
    }
   },
   "cell_type": "code",
   "source": "data.to_csv('../Oxford_HIC/Filtered_oxford_hic_data.csv', index=False)",
   "id": "188737bce66017d3",
   "outputs": [],
   "execution_count": 44
  },
  {
   "metadata": {
    "ExecuteTime": {
     "end_time": "2024-10-14T17:25:42.565769Z",
     "start_time": "2024-10-14T17:25:39.979407Z"
    }
   },
   "cell_type": "code",
   "source": [
    "import pandas as pd\n",
    "dirPath = '../Oxford_HIC/Filtered_oxford_hic_data.csv'\n",
    "data = pd.read_csv(dirPath)\n",
    "# remove caption is imgflip_118\n",
    "print(data.shape)\n",
    "data = data[data['image_id'] != 'imgflip_118']\n",
    "print(data.shape)"
   ],
   "id": "6238e48f5dd5e92f",
   "outputs": [
    {
     "name": "stdout",
     "output_type": "stream",
     "text": [
      "(3400257, 3)\n",
      "(3398346, 3)\n"
     ]
    }
   ],
   "execution_count": 4
  },
  {
   "metadata": {
    "ExecuteTime": {
     "end_time": "2024-10-14T17:25:56.702080Z",
     "start_time": "2024-10-14T17:25:52.222671Z"
    }
   },
   "cell_type": "code",
   "source": "data.to_csv('../Oxford_HIC/Filtered_oxford_hic_data.csv', index=False)",
   "id": "7c8b2ac59af4b6fa",
   "outputs": [],
   "execution_count": 5
  },
  {
   "metadata": {
    "ExecuteTime": {
     "end_time": "2024-10-14T17:27:21.293919Z",
     "start_time": "2024-10-14T17:27:18.848223Z"
    }
   },
   "cell_type": "code",
   "source": [
    "import pandas as pd\n",
    "dirPath = '../Oxford_HIC/Filtered_oxford_hic_data.csv'\n",
    "data = pd.read_csv(dirPath)\n",
    "# remove caption is imgflip_118\n",
    "print(data.shape)"
   ],
   "id": "ad0e7dbc8211f73",
   "outputs": [
    {
     "name": "stdout",
     "output_type": "stream",
     "text": [
      "(3398346, 3)\n"
     ]
    }
   ],
   "execution_count": 6
  },
  {
   "metadata": {},
   "cell_type": "code",
   "outputs": [],
   "execution_count": null,
   "source": "",
   "id": "7151b22c7abaaa71"
  }
 ],
 "metadata": {
  "kernelspec": {
   "display_name": "Python 3",
   "language": "python",
   "name": "python3"
  },
  "language_info": {
   "codemirror_mode": {
    "name": "ipython",
    "version": 2
   },
   "file_extension": ".py",
   "mimetype": "text/x-python",
   "name": "python",
   "nbconvert_exporter": "python",
   "pygments_lexer": "ipython2",
   "version": "2.7.6"
  }
 },
 "nbformat": 4,
 "nbformat_minor": 5
}
